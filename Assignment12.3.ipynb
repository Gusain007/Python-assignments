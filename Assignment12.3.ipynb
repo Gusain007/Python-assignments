{
 "cells": [
  {
   "cell_type": "markdown",
   "id": "6283dd82-d6a9-4198-a0a8-55f2fde0c7a8",
   "metadata": {},
   "source": [
    "Q1. Write a Python function that takes in two arrays of data and calculates the F-value for a variance ratio test. The function should return the F-value and the corresponding p-value for the test."
   ]
  },
  {
   "cell_type": "code",
   "execution_count": 2,
   "id": "89187e38-241c-4de3-94b7-0eb6c10399b6",
   "metadata": {},
   "outputs": [
    {
     "name": "stdout",
     "output_type": "stream",
     "text": [
      "F-value: 3.1818181818181817\n",
      "P-value: 0.11486261035506617\n"
     ]
    }
   ],
   "source": [
    "import numpy as np\n",
    "from scipy import stats\n",
    "\n",
    "def variance_ratio_test(data1, data2):\n",
    "    \n",
    "    var1 = np.var(data1, ddof=1)  # ddof=1 for unbiased estimator\n",
    "    var2 = np.var(data2, ddof=1)\n",
    "\n",
    "    if var1 < var2:\n",
    "        var1, var2 = var2, var1\n",
    "        data1, data2 = data2, data1\n",
    "   \n",
    "    F = var1 / var2    \n",
    "    df1 = len(data1) - 1\n",
    "    df2 = len(data2) - 1    \n",
    "    p_value = 1 - stats.f.cdf(F, df1, df2)\n",
    "\n",
    "    return F, p_value\n",
    "\n",
    "data1 = [10, 12, 15, 14, 11, 13]\n",
    "data2 = [8, 9, 10, 11, 9, 10]\n",
    "F_value, p_value = variance_ratio_test(data1, data2)\n",
    "print(f\"F-value: {F_value}\")\n",
    "print(f\"P-value: {p_value}\")"
   ]
  },
  {
   "cell_type": "markdown",
   "id": "174ef4cb-eee0-424d-b8f8-b39c123c5753",
   "metadata": {},
   "source": []
  },
  {
   "cell_type": "markdown",
   "id": "4e7a9a19-55ec-4200-960a-80c836e0a4a4",
   "metadata": {},
   "source": [
    "Q2. Given a significance level of 0.05 and the degrees of freedom for the numerator and denominator of an F-distribution, write a Python function that returns the critical F-value for a two-tailed test."
   ]
  },
  {
   "cell_type": "code",
   "execution_count": 3,
   "id": "1c371f19-54f5-41e9-bb10-f2e86a773d66",
   "metadata": {},
   "outputs": [
    {
     "name": "stdout",
     "output_type": "stream",
     "text": [
      "Critical F-value: 3.8586986662732143\n"
     ]
    }
   ],
   "source": [
    "from scipy import stats\n",
    "\n",
    "def get_critical_f_value(alpha, dfn, dfd):\n",
    "    \n",
    "    f_critical = stats.f.ppf(1 - alpha / 2, dfn, dfd)\n",
    "\n",
    "    return f_critical\n",
    "\n",
    "alpha = 0.05\n",
    "dfn = 3  # Degrees of freedom for the numerator\n",
    "dfd = 20  # Degrees of freedom for the denominator\n",
    "critical_f_value = get_critical_f_value(alpha, dfn, dfd)\n",
    "print(f\"Critical F-value: {critical_f_value}\")"
   ]
  },
  {
   "cell_type": "markdown",
   "id": "58513341-5da9-4e49-8070-4007a230df77",
   "metadata": {},
   "source": []
  },
  {
   "cell_type": "markdown",
   "id": "9f792781-6d9a-4625-806f-97bc00d521e4",
   "metadata": {},
   "source": [
    "Q3. Write a Python program that generates random samples from two normal distributions with known variances and uses an F-test to determine if the variances are equal. The program should output the Fvalue, degrees of freedom, and p-value for the test."
   ]
  },
  {
   "cell_type": "code",
   "execution_count": 4,
   "id": "7051de49-f37d-4502-ae57-ca47f5cdeb65",
   "metadata": {},
   "outputs": [
    {
     "name": "stdout",
     "output_type": "stream",
     "text": [
      "F-value: 2.3921864858565463\n",
      "Degrees of freedom (numerator, denominator): 29 39\n",
      "P-value: 0.005733556290811737\n"
     ]
    }
   ],
   "source": [
    "import numpy as np\n",
    "from scipy import stats\n",
    "\n",
    "np.random.seed(0)\n",
    "\n",
    "variance1 = 1.5  \n",
    "variance2 = 1.0  \n",
    "sample_size1 = 30  \n",
    "sample_size2 = 40  \n",
    "\n",
    "data1 = np.random.normal(loc=0, scale=np.sqrt(variance1), size=sample_size1)\n",
    "data2 = np.random.normal(loc=0, scale=np.sqrt(variance2), size=sample_size2)\n",
    "\n",
    "f_statistic = np.var(data1, ddof=1) / np.var(data2, ddof=1)\n",
    "df1 = sample_size1 - 1\n",
    "df2 = sample_size2 - 1\n",
    "p_value = 1 - stats.f.cdf(f_statistic, df1, df2)\n",
    "\n",
    "print(\"F-value:\", f_statistic)\n",
    "print(\"Degrees of freedom (numerator, denominator):\", df1, df2)\n",
    "print(\"P-value:\", p_value)"
   ]
  },
  {
   "cell_type": "markdown",
   "id": "341cfc77-b146-495b-9564-684858f8bc76",
   "metadata": {},
   "source": []
  },
  {
   "cell_type": "markdown",
   "id": "bf2d93a6-146a-4843-aad6-2f8870fa2db2",
   "metadata": {},
   "source": [
    "Q4.The variances of two populations are known to be 10 and 15. A sample of 12 observations is taken from each population. Conduct an F-test at the 5% significance level to determine if the variances are significantly different."
   ]
  },
  {
   "cell_type": "markdown",
   "id": "bbdfb82e-a2ad-4f8e-bcd9-87b8597593a8",
   "metadata": {},
   "source": [
    "Ans. To conduct an F-test to determine if the variances of two populations are significantly different, you can use the following steps and the provided information:\n",
    "\n",
    "Define your null and alternative hypotheses:\n",
    "\n",
    "Null Hypothesis (H0): The variances of the two populations are equal.\n",
    "Alternative Hypothesis (H1): The variances of the two populations are not equal.\n",
    "Set the significance level (alpha) to 0.05.\n",
    "\n",
    "Calculate the F-statistic and degrees of freedom for the F-test using the given variances and sample sizes:\n",
    "\n",
    "Population 1 variance (var1) = 10\n",
    "Population 2 variance (var2) = 15\n",
    "Sample size for both populations (n1 and n2) = 12\n",
    "You can use the formula for the F-statistic:\n",
    "F=10/15\n",
    "\n",
    "Calculate the degrees of freedom for the F-test:\n",
    "\n",
    "Degrees of freedom for Population 1 (df1) = n1 - 1 = 12 - 1 = 11\n",
    "Degrees of freedom for Population 2 (df2) = n2 - 1 = 12 - 1 = 11\n",
    "Use the F-distribution with df1 and df2 degrees of freedom to find the critical F-value for a two-tailed test at the 5% significance level.\n",
    "\n",
    "Compare the calculated F-statistic to the critical F-value:\n",
    "\n",
    "If the calculated F-statistic is greater than the critical F-value, you can reject the null hypothesis, indicating that the variances are significantly different.\n",
    "If the calculated F-statistic is less than or equal to the critical F-value, you fail to reject the null hypothesis, suggesting that there is no significant difference in variances.\n",
    "Output the results:\n",
    "\n",
    "F-statistic\n",
    "Critical F-value\n",
    "Decision: Reject or fail to reject the null hypothesis"
   ]
  },
  {
   "cell_type": "code",
   "execution_count": 5,
   "id": "0df90944-327a-4755-a464-28b784740c19",
   "metadata": {},
   "outputs": [
    {
     "name": "stdout",
     "output_type": "stream",
     "text": [
      "F-statistic: 0.6666666666666666\n",
      "Critical F-value: 3.473699051085809\n",
      "Decision: Fail to reject the null hypothesis\n"
     ]
    }
   ],
   "source": [
    "from scipy import stats\n",
    "\n",
    "var1 = 10\n",
    "var2 = 15\n",
    "n1 = 12\n",
    "n2 = 12\n",
    "alpha = 0.05\n",
    "\n",
    "F_statistic = var1 / var2\n",
    "\n",
    "df1 = n1 - 1\n",
    "df2 = n2 - 1\n",
    "\n",
    "critical_f_value = stats.f.ppf(1 - alpha / 2, df1, df2)\n",
    "\n",
    "if F_statistic > critical_f_value:\n",
    "    decision = \"Reject the null hypothesis\"\n",
    "else:\n",
    "    decision = \"Fail to reject the null hypothesis\"\n",
    "\n",
    "print(\"F-statistic:\", F_statistic)\n",
    "print(\"Critical F-value:\", critical_f_value)\n",
    "print(\"Decision:\", decision)"
   ]
  },
  {
   "cell_type": "markdown",
   "id": "e512e683-b629-411e-a192-d3d1f9a8ce00",
   "metadata": {},
   "source": []
  },
  {
   "cell_type": "markdown",
   "id": "3db5f287-9b00-40b5-8b3c-fa97949acd22",
   "metadata": {},
   "source": [
    "Q5. A manufacturer claims that the variance of the diameter of a certain product is 0.005. A sample of 25 products is taken, and the sample variance is found to be 0.006. Conduct an F-test at the 1% significance level to determine if the claim is justified."
   ]
  },
  {
   "cell_type": "markdown",
   "id": "28c78e3e-72d7-4d34-9d6e-f1a68ccd2fba",
   "metadata": {},
   "source": [
    "Ans. To conduct an F-test to determine if the manufacturer's claim about the variance of the product's diameter is justified, you can follow these steps:\n",
    "\n",
    "Define your null and alternative hypotheses:\n",
    "\n",
    "Null Hypothesis (H0): The population variance is equal to the claimed value of 0.005.\n",
    "Alternative Hypothesis (H1): The population variance is not equal to 0.005.\n",
    "Set the significance level (alpha) to 0.01 (1%).\n",
    "\n",
    "Calculate the F-statistic and degrees of freedom for the F-test using the given sample variance and sample size:\n",
    "\n",
    "Claimed population variance (σ^2) = 0.005\n",
    "Sample variance (s^2) = 0.006\n",
    "Sample size (n) = 25\n",
    "You can use the formula for the F-statistic:\n",
    "F = (s^2)/(σ^2) = 0.006/0.005 = 1.2\n",
    "\n",
    "Calculate the degrees of freedom for the F-test:\n",
    "\n",
    "Degrees of freedom for the numerator (df1) = n - 1 = 25 - 1 = 24\n",
    "Degrees of freedom for the denominator (df2) = 1 (since you're comparing to a single population with a claimed variance)\n",
    "Use the F-distribution with df1 and df2 degrees of freedom to find the critical F-value for a two-tailed test at the 1% significance level.\n",
    "\n",
    "Compare the calculated F-statistic to the critical F-value:\n",
    "\n",
    "If the calculated F-statistic is greater than the critical F-value or less than its reciprocal, you can reject the null hypothesis, indicating that the manufacturer's claim is not justified.\n",
    "If the calculated F-statistic is between the critical F-value and its reciprocal, you fail to reject the null hypothesis, suggesting that the manufacturer's claim is justified.\n"
   ]
  },
  {
   "cell_type": "code",
   "execution_count": 7,
   "id": "78c3e043-e6cf-4b93-a7e9-a62898da844c",
   "metadata": {},
   "outputs": [
    {
     "name": "stdout",
     "output_type": "stream",
     "text": [
      "F-statistic: 1.2\n",
      "Critical F-value (Lower): 0.10469807488970448\n",
      "Critical F-value (Upper): 9.551273994803273\n",
      "Decision: Fail to reject the null hypothesis\n"
     ]
    }
   ],
   "source": [
    "from scipy import stats\n",
    "\n",
    "claimed_variance = 0.005\n",
    "sample_variance = 0.006\n",
    "sample_size = 25\n",
    "alpha = 0.01\n",
    "\n",
    "F_statistic = sample_variance / claimed_variance\n",
    "\n",
    "df1 = sample_size - 1\n",
    "df2 = 1\n",
    "\n",
    "critical_f_value_lower = stats.f.ppf(alpha / 2, df1, df2)\n",
    "critical_f_value_upper = 1 / critical_f_value_lower\n",
    "\n",
    "if F_statistic < critical_f_value_lower or F_statistic > critical_f_value_upper:\n",
    "    decision = \"Reject the null hypothesis\"\n",
    "else:\n",
    "    decision = \"Fail to reject the null hypothesis\"\n",
    "\n",
    "print(\"F-statistic:\", F_statistic)\n",
    "print(\"Critical F-value (Lower):\", critical_f_value_lower)\n",
    "print(\"Critical F-value (Upper):\", critical_f_value_upper)\n",
    "print(\"Decision:\", decision)"
   ]
  },
  {
   "cell_type": "markdown",
   "id": "a1aeec9e-68ca-434b-af71-2676299c34c2",
   "metadata": {},
   "source": []
  },
  {
   "cell_type": "markdown",
   "id": "1c0f1d6d-a01f-43d9-9ab9-a9a0cb2240f6",
   "metadata": {},
   "source": [
    "Q6. Write a Python function that takes in the degrees of freedom for the numerator and denominator of an F-distribution and calculates the mean and variance of the distribution. The function should return the mean and variance as a tuple."
   ]
  },
  {
   "cell_type": "code",
   "execution_count": 8,
   "id": "7fde3fd9-1e40-40df-9129-a8b9dd34c44e",
   "metadata": {},
   "outputs": [
    {
     "name": "stdout",
     "output_type": "stream",
     "text": [
      "Mean: 1.25\n",
      "Variance: 1.3541666666666667\n"
     ]
    }
   ],
   "source": [
    "def f_distribution_mean_variance(dfn, dfd):\n",
    "    \n",
    "    if dfn <= 0 or dfd <= 0:\n",
    "        raise ValueError(\"Degrees of freedom must be greater than 0.\")\n",
    "\n",
    "    if dfn == 1:\n",
    "        mean = float(dfd) / (dfd - 2)\n",
    "    else:\n",
    "        mean = float(dfd) / (dfd - 2) if dfn > 2 else float(\"inf\")\n",
    "\n",
    "    if dfn <= 2 or dfd <= 2:\n",
    "        variance = float(\"inf\")\n",
    "    else:\n",
    "        variance = (2 * (dfd**2 * (dfn + dfd - 2))) / (dfn * (dfd - 2)**2 * (dfd - 4))\n",
    "\n",
    "    return mean, variance\n",
    "\n",
    "dfn = 5 \n",
    "dfd = 10  \n",
    "mean, variance = f_distribution_mean_variance(dfn, dfd)\n",
    "print(f\"Mean: {mean}\")\n",
    "print(f\"Variance: {variance}\")"
   ]
  },
  {
   "cell_type": "markdown",
   "id": "f2d7a22f-0dbe-430d-9ca5-9c45f6dd1595",
   "metadata": {},
   "source": []
  },
  {
   "cell_type": "markdown",
   "id": "eb31ac95-5940-4c93-8487-526c6b686e69",
   "metadata": {},
   "source": [
    "Q7. A random sample of 10 measurements is taken from a normal population with unknown variance. The sample variance is found to be 25. Another random sample of 15 measurements is taken from another normal population with unknown variance, and the sample variance is found to be 20. Conduct an F-test at the 10% significance level to determine if the variances are significantly different."
   ]
  },
  {
   "cell_type": "markdown",
   "id": "245806c3-4bc1-4fc3-90a8-daac07f7e5be",
   "metadata": {},
   "source": [
    "Ans. To conduct an F-test to determine if the variances of two populations are significantly different, you can follow these steps:\n",
    "\n",
    "Define your null and alternative hypotheses:\n",
    "\n",
    "Null Hypothesis (H0): The variances of the two populations are equal.\n",
    "Alternative Hypothesis (H1): The variances of the two populations are not equal.\n",
    "Set the significance level (alpha) to 0.10 (10%).\n",
    "\n",
    "Calculate the F-statistic and degrees of freedom for the F-test using the sample variances and sample sizes:\n",
    "\n",
    "Sample variance for the first population (s1^2) = 25\n",
    "\n",
    "Sample size for the first population (n1) = 10\n",
    "\n",
    "Sample variance for the second population (s2^2) = 20\n",
    "\n",
    "Sample size for the second population (n2) = 15\n",
    "\n",
    "You can use the formula for the F-statistic:\n",
    "\n",
    "F = (s1^2)/(s2^2) = 25/20\n",
    "\n",
    "Calculate the degrees of freedom for the F-test:\n",
    "\n",
    "Degrees of freedom for the numerator (df1) = n1 - 1 = 10 - 1 = 9\n",
    "\n",
    "Degrees of freedom for the denominator (df2) = n2 - 1 = 15 - 1 = 14\n",
    "\n",
    "Use the F-distribution with df1 and df2 degrees of freedom to find the critical F-value for a two-tailed test at the 10% significance level.\n",
    "\n",
    "Compare the calculated F-statistic to the critical F-value:\n",
    "If the calculated F-statistic is greater than the critical F-value or less than its reciprocal, you can reject the null hypothesis, indicating that the variances are significantly different.\n",
    "If the calculated F-statistic is between the critical F-value and its reciprocal, you fail to reject the null hypothesis, suggesting that there is no significant difference in variances."
   ]
  },
  {
   "cell_type": "code",
   "execution_count": 9,
   "id": "82f49441-acd9-45ff-a06a-fa890d3d1bef",
   "metadata": {},
   "outputs": [
    {
     "name": "stdout",
     "output_type": "stream",
     "text": [
      "F-statistic: 1.25\n",
      "Critical F-value (Lower): 0.3305268601412525\n",
      "Critical F-value (Upper): 3.0254727242822095\n",
      "Decision: Fail to reject the null hypothesis\n"
     ]
    }
   ],
   "source": [
    "from scipy import stats\n",
    "\n",
    "sample_variance1 = 25\n",
    "sample_size1 = 10\n",
    "sample_variance2 = 20\n",
    "sample_size2 = 15\n",
    "alpha = 0.10\n",
    "\n",
    "F_statistic = sample_variance1 / sample_variance2\n",
    "\n",
    "df1 = sample_size1 - 1\n",
    "df2 = sample_size2 - 1\n",
    "\n",
    "critical_f_value_lower = stats.f.ppf(alpha / 2, df1, df2)\n",
    "critical_f_value_upper = 1 / critical_f_value_lower\n",
    "\n",
    "if F_statistic < critical_f_value_lower or F_statistic > critical_f_value_upper:\n",
    "    decision = \"Reject the null hypothesis\"\n",
    "else:\n",
    "    decision = \"Fail to reject the null hypothesis\"\n",
    "\n",
    "print(\"F-statistic:\", F_statistic)\n",
    "print(\"Critical F-value (Lower):\", critical_f_value_lower)\n",
    "print(\"Critical F-value (Upper):\", critical_f_value_upper)\n",
    "print(\"Decision:\", decision)"
   ]
  },
  {
   "cell_type": "markdown",
   "id": "5f0c8cfb-6cc0-4db0-bea6-45c162240fdb",
   "metadata": {},
   "source": []
  },
  {
   "cell_type": "markdown",
   "id": "5cced529-6a22-4b1e-b00a-cf0ab989a69e",
   "metadata": {},
   "source": [
    "Q8. The following data represent the waiting times in minutes at two different restaurants on a Saturday night: Restaurant A: 24, 25, 28, 23, 22, 20, 27; Restaurant B: 31, 33, 35, 30, 32, 36. Conduct an F-test at the 5% significance level to determine if the variances are significantly different."
   ]
  },
  {
   "cell_type": "markdown",
   "id": "b9a16147-813a-4003-989a-72047cffa974",
   "metadata": {},
   "source": [
    "Ans. Define your null and alternative hypotheses:\n",
    "\n",
    "Null Hypothesis (H0): The variances of the waiting times at both restaurants are equal.\n",
    "Alternative Hypothesis (H1): The variances of the waiting times at both restaurants are not equal.\n",
    "Set the significance level (alpha) to 0.05 (5%).\n",
    "\n",
    "Calculate the F-statistic and degrees of freedom for the F-test using the sample variances and sample sizes:\n",
    "\n",
    "Waiting times at Restaurant A: 24, 25, 28, 23, 22, 20, 27\n",
    "Waiting times at Restaurant B: 31, 33, 35, 30, 32, 36\n",
    "You need to calculate the sample variances and degrees of freedom for both samples.\n",
    "\n",
    "Use the formula for the F-statistic:\n",
    "F = (s1^2)/(s2^2)\n",
    "\n",
    "Calculate the degrees of freedom for the F-test:\n",
    "\n",
    "Degrees of freedom for the numerator (df1) is the number of data points in each sample minus 1.\n",
    "Degrees of freedom for the denominator (df2) is the number of data points in each sample minus 1.\n",
    "Use the F-distribution with df1 and df2 degrees of freedom to find the critical F-value for a two-tailed test at the 5% significance level.\n",
    "\n",
    "Compare the calculated F-statistic to the critical F-value:\n",
    "\n",
    "If the calculated F-statistic is greater than the critical F-value or less than its reciprocal, you can reject the null hypothesis, indicating that the variances are significantly different.\n",
    "If the calculated F-statistic is between the critical F-value and its reciprocal, you fail to reject the null hypothesis, suggesting that there is no significant difference in variances."
   ]
  },
  {
   "cell_type": "code",
   "execution_count": 10,
   "id": "50bda98d-82be-4ebe-b721-aba06bd89f05",
   "metadata": {},
   "outputs": [
    {
     "name": "stdout",
     "output_type": "stream",
     "text": [
      "F-statistic: 1.4551907719609583\n",
      "Critical F-value (Lower): 0.16701279718024772\n",
      "Critical F-value (Upper): 5.9875651260469285\n",
      "Decision: Fail to reject the null hypothesis\n"
     ]
    }
   ],
   "source": [
    "from scipy import stats\n",
    "\n",
    "waiting_times_A = [24, 25, 28, 23, 22, 20, 27]\n",
    "waiting_times_B = [31, 33, 35, 30, 32, 36]\n",
    "alpha = 0.05\n",
    "\n",
    "variance_A = np.var(waiting_times_A, ddof=1)\n",
    "variance_B = np.var(waiting_times_B, ddof=1)\n",
    "F_statistic = variance_A / variance_B\n",
    "\n",
    "df1 = len(waiting_times_A) - 1\n",
    "df2 = len(waiting_times_B) - 1\n",
    "\n",
    "critical_f_value_lower = stats.f.ppf(alpha / 2, df1, df2)\n",
    "critical_f_value_upper = 1 / critical_f_value_lower\n",
    "\n",
    "if F_statistic < critical_f_value_lower or F_statistic > critical_f_value_upper:\n",
    "    decision = \"Reject the null hypothesis\"\n",
    "else:\n",
    "    decision = \"Fail to reject the null hypothesis\"\n",
    "\n",
    "print(\"F-statistic:\", F_statistic)\n",
    "print(\"Critical F-value (Lower):\", critical_f_value_lower)\n",
    "print(\"Critical F-value (Upper):\", critical_f_value_upper)\n",
    "print(\"Decision:\", decision)"
   ]
  },
  {
   "cell_type": "code",
   "execution_count": null,
   "id": "fa48f089-8026-49c5-b9f1-e08487dc3c7f",
   "metadata": {},
   "outputs": [],
   "source": []
  },
  {
   "cell_type": "markdown",
   "id": "330fdefc-60c1-479d-8087-bca33c58163c",
   "metadata": {},
   "source": [
    "Q9. The following data represent the test scores of two groups of students: Group A: 80, 85, 90, 92, 87, 83; Group B: 75, 78, 82, 79, 81, 84. Conduct an F-test at the 1% significance level to determine if the variances are significantly different"
   ]
  },
  {
   "cell_type": "markdown",
   "id": "5ab73818-0138-4639-9fd4-8a33cc7607da",
   "metadata": {},
   "source": [
    "Ans. Define your null and alternative hypotheses:\n",
    "\n",
    "Null Hypothesis (H0): The variances of the test scores in both groups are equal.\n",
    "Alternative Hypothesis (H1): The variances of the test scores in both groups are not equal.\n",
    "Set the significance level (alpha) to 0.01 (1%).\n",
    "\n",
    "Calculate the F-statistic and degrees of freedom for the F-test using the sample variances and sample sizes:\n",
    "\n",
    "Test scores for Group A: 80, 85, 90, 92, 87, 83\n",
    "Test scores for Group B: 75, 78, 82, 79, 81, 84\n",
    "You need to calculate the sample variances and degrees of freedom for both groups.\n",
    "\n",
    "Use the formula for the F-statistic:\n",
    "F = (s1^2)/(s2^2)\n",
    "\n",
    "Calculate the degrees of freedom for the F-test:\n",
    "\n",
    "Degrees of freedom for the numerator (df1) is the number of data points in each group minus 1.\n",
    "Degrees of freedom for the denominator (df2) is the number of data points in each group minus 1.\n",
    "Use the F-distribution with df1 and df2 degrees of freedom to find the critical F-value for a two-tailed test at the 1% significance level.\n",
    "\n",
    "Compare the calculated F-statistic to the critical F-value:\n",
    "\n",
    "If the calculated F-statistic is greater than the critical F-value or less than its reciprocal, you can reject the null hypothesis, indicating that the variances are significantly different.\n",
    "If the calculated F-statistic is between the critical F-value and its reciprocal, you fail to reject the null hypothesis, suggesting that there is no significant difference in variances."
   ]
  },
  {
   "cell_type": "code",
   "execution_count": null,
   "id": "16011681-ca25-4cfc-b92e-79759f10995a",
   "metadata": {},
   "outputs": [],
   "source": [
    "from scipy import stats\n",
    "\n",
    "test_scores_A = [80, 85, 90, 92, 87, 83]\n",
    "test_scores_B = [75, 78, 82, 79, 81, 84]\n",
    "alpha = 0.01\n",
    "\n",
    "variance_A = np.var(test_scores_A, ddof=1)\n",
    "variance_B = np.var(test_scores_B, ddof=1)\n",
    "F_statistic = variance_A / variance_B\n",
    "\n",
    "df1 = len(test_scores_A) - 1\n",
    "df2 = len(test_scores_B) - 1\n",
    "\n",
    "critical_f_value_lower = stats.f.ppf(alpha / 2, df1, df2)\n",
    "critical_f_value_upper = 1 / critical_f_value_lower\n",
    "\n",
    "if F_statistic < critical_f_value_lower or F_statistic > critical_f_value_upper:\n",
    "    decision = \"Reject the null hypothesis\"\n",
    "else:\n",
    "    decision = \"Fail to reject the null hypothesis\"\n",
    "\n",
    "print(\"F-statistic:\", F_statistic)\n",
    "print(\"Critical F-value (Lower):\", critical_f_value_lower)\n",
    "print(\"Critical F-value (Upper):\", critical_f_value_upper)\n",
    "print(\"Decision:\", decision)"
   ]
  },
  {
   "cell_type": "code",
   "execution_count": null,
   "id": "302c20d9-4fd8-4f61-94bc-bbe350b06b75",
   "metadata": {},
   "outputs": [],
   "source": []
  }
 ],
 "metadata": {
  "kernelspec": {
   "display_name": "Python 3 (ipykernel)",
   "language": "python",
   "name": "python3"
  },
  "language_info": {
   "codemirror_mode": {
    "name": "ipython",
    "version": 3
   },
   "file_extension": ".py",
   "mimetype": "text/x-python",
   "name": "python",
   "nbconvert_exporter": "python",
   "pygments_lexer": "ipython3",
   "version": "3.10.8"
  }
 },
 "nbformat": 4,
 "nbformat_minor": 5
}
