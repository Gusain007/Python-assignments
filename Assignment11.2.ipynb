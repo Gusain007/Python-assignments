{
 "cells": [
  {
   "cell_type": "markdown",
   "id": "b7c3ec3f-3a7c-408a-8716-b822ef229e7f",
   "metadata": {},
   "source": [
    "Q1: What is Estimation Statistics? Explain point estimate and interval estimate."
   ]
  },
  {
   "cell_type": "markdown",
   "id": "bfb93047-cd92-4660-a509-4840ae920bb1",
   "metadata": {},
   "source": [
    "Ans. Estimation statistics is a branch of statistics that focuses on estimating population parameters based on sample data. It involves using sample statistics to make inferences about the true characteristics of a population. Two common types of estimation in statistics are point estimates and interval estimates:\n",
    "\n",
    "(1) Point Estimate:\n",
    "A point estimate is a single value that is used to estimate a population parameter. It provides a specific, best guess for the value of the parameter based on sample data. For example, if you want to estimate the average height of all adults in a city, you might take a sample of individuals and calculate the sample mean height. The sample mean height is a point estimate for the population mean height. Point estimates are simple and easy to understand, but they don't provide any information about the uncertainty or variability of the estimate. To address this limitation, interval estimates are often used.\n",
    "\n",
    "(2) Interval Estimate:\n",
    "An interval estimate, also known as a confidence interval, provides a range of values within which the true population parameter is likely to fall, along with a level of confidence associated with that range. For example, you might calculate a 95% confidence interval for the average height of adults in a city, which could be (65 inches, 69 inches). This means that you are 95% confident that the true population mean height falls within this range. Interval estimates are more informative than point estimates because they account for uncertainty in the estimation process. The level of confidence associated with an interval estimate indicates the probability that the true parameter lies within the specified interval. Common confidence levels include 90%, 95%, and 99%, among others."
   ]
  },
  {
   "cell_type": "markdown",
   "id": "92f0639d-5db9-4c86-a7b1-1a9846268325",
   "metadata": {},
   "source": []
  },
  {
   "cell_type": "markdown",
   "id": "7b723bf9-f7c3-44c6-900f-6f7eda769823",
   "metadata": {},
   "source": [
    "Q2. Write a Python function to estimate the population mean using a sample mean and standard deviation."
   ]
  },
  {
   "cell_type": "code",
   "execution_count": 9,
   "id": "f6641998-fad5-418d-b402-1ed24342a08f",
   "metadata": {},
   "outputs": [
    {
     "name": "stdout",
     "output_type": "stream",
     "text": [
      "Estimated Population Mean: 100\n",
      "Confidence Interval: (94.63241756884852, 105.36758243115148)\n"
     ]
    }
   ],
   "source": [
    "import math\n",
    "from scipy import stats\n",
    "\n",
    "def estimate_population_mean(sample_mean, sample_stddev, sample_size, confidence_level=0.95):  \n",
    "    z_score = abs(stats.norm.ppf((1 - confidence_level) / 2))  \n",
    "    margin_of_error = z_score * (sample_stddev / math.sqrt(sample_size))\n",
    "    lower_bound = sample_mean - margin_of_error\n",
    "    upper_bound = sample_mean + margin_of_error\n",
    "    return lower_bound, upper_bound\n",
    "\n",
    "sample_mean = 100\n",
    "sample_stddev = 15\n",
    "sample_size = 30\n",
    "confidence_level = 0.95\n",
    "\n",
    "lower_bound, upper_bound = estimate_population_mean(sample_mean, sample_stddev, sample_size, confidence_level)\n",
    "print(f\"Estimated Population Mean: {sample_mean}\")\n",
    "print(f\"Confidence Interval: ({lower_bound}, {upper_bound})\")"
   ]
  },
  {
   "cell_type": "markdown",
   "id": "48c0f543-f8e4-4b30-a4a1-e420c2cbd961",
   "metadata": {},
   "source": []
  },
  {
   "cell_type": "markdown",
   "id": "314e8311-3a70-49ad-bc46-5eda24c42dec",
   "metadata": {},
   "source": [
    "Q3: What is Hypothesis testing? Why is it used? State the importance of Hypothesis testing."
   ]
  },
  {
   "cell_type": "markdown",
   "id": "3f58e080-a78b-4bd2-975e-3b7f694fdd5f",
   "metadata": {},
   "source": [
    "Ans. Hypothesis testing is a fundamental statistical method used to make inferences about populations based on sample data. It involves formulating a hypothesis about a population parameter and then using statistical techniques to assess whether the sample data provide enough evidence to support or reject that hypothesis.\n",
    "\n",
    "Here's how hypothesis testing works:\n",
    "\n",
    "(1) Formulate Hypotheses: Null Hypothesis (H0): This is the default assumption of no effect. It represents the status quo or the hypothesis that there is no effect or relationship. Alternative Hypothesis (H1 or Ha): This is the statement that contradicts the null hypothesis, suggesting that there is an effect, difference, or relationship in the population.\n",
    "\n",
    "(2) Collect Data: Obtain a sample from the population and collect relevant data.\n",
    "\n",
    "(3) Choose a Significance Level (Alpha): The significance level (often denoted as α) represents the probability of making a Type I error, which is the rejection of the null hypothesis when it is true. Common significance levels include 0.05 (5%) and 0.01 (1%).\n",
    "\n",
    "(4) Conduct a Statistical Test: Apply a statistical test, such as a t-test, chi-square test, ANOVA, or others, depending on the nature of the data and the research question. The test generates a test statistic and a p-value.\n",
    "\n",
    "(5) Make a Decision: If the p-value is less than or equal to the chosen significance level (α), you reject the null hypothesis in favor of the alternative hypothesis. If the p-value is greater than α, you fail to reject the null hypothesis. This means there isn't enough evidence to support the alternative hypothesis.\n",
    "\n",
    "Hypothesis testing is used for several important reasons:\n",
    "\n",
    "(1) Inference: It allows researchers and analysts to draw conclusions about population parameters based on sample data. This is essential for making informed decisions and generalizing results to larger populations.\n",
    "\n",
    "(2) Scientific Validity: Hypothesis testing is a crucial part of the scientific method, enabling researchers to test their theories and determine if their findings are statistically significant.\n",
    "\n",
    "(3) Decision-Making: Businesses and organizations use hypothesis testing to make data-driven decisions. For example, they might test the effectiveness of a new product, marketing campaign, or manufacturing process.\n",
    "\n",
    "(4) Quality Control: Industries use hypothesis testing to maintain product quality and process control. For instance, it can help identify defects in a production line.\n",
    "\n",
    "(5) Policy Evaluation: In fields like economics and public policy, hypothesis testing is used to assess the impact of policies or interventions.\n",
    "\n",
    "The importance of hypothesis testing lies in its ability to provide a systematic and objective way to evaluate claims and draw conclusions from data. It helps prevent decisions or actions based on random chance and supports evidence-based decision-making. Additionally, it is a fundamental tool for validating scientific theories and ensuring that research results are credible and robust."
   ]
  },
  {
   "cell_type": "markdown",
   "id": "e182778e-3fce-4984-9e42-edaaf3f5c9d4",
   "metadata": {},
   "source": []
  },
  {
   "cell_type": "markdown",
   "id": "8678dfb3-ecac-4849-97b1-7e3e866aac45",
   "metadata": {},
   "source": [
    "Q4. Create a hypothesis that states whether the average weight of male college students is greater than the average weight of female college students."
   ]
  },
  {
   "cell_type": "markdown",
   "id": "e8c47522-6e92-443b-876e-7194f8a1be51",
   "metadata": {},
   "source": [
    "Ans. Null Hypothesis (H0): The average weight of male college students is equal to or less than the average weight of female college students.\n",
    "\n",
    "Alternative Hypothesis (H1): The average weight of male college students is greater than the average weight of female college students.\n",
    "\n",
    "In this hypothesis test: H0 represents the null hypothesis, which suggests that there is no significant difference or that male students' average weight is less than or equal to that of female students. H1 represents the alternative hypothesis, which contradicts the null hypothesis and suggests that male students, on average, weigh more than female students.\n",
    "\n",
    "To test this hypothesis, you would collect data on the weights of male and female college students and perform a statistical test, such as a two-sample t-test or a z-test for means, to determine whether there is enough evidence to reject the null hypothesis in favor of the alternative hypothesis."
   ]
  },
  {
   "cell_type": "markdown",
   "id": "3ec15946-e78b-40ac-830b-3c7413f4cec1",
   "metadata": {},
   "source": []
  },
  {
   "cell_type": "markdown",
   "id": "7a4b56e3-97ff-41e5-b3d2-a44eccaad2cd",
   "metadata": {},
   "source": [
    "Q5. Write a Python script to conduct a hypothesis test on the difference between two population means, given a sample from each population."
   ]
  },
  {
   "cell_type": "code",
   "execution_count": 10,
   "id": "2c74e6ea-9d06-499c-9125-0aaefc2aae10",
   "metadata": {},
   "outputs": [
    {
     "name": "stdout",
     "output_type": "stream",
     "text": [
      "Requirement already satisfied: scipy in /opt/conda/lib/python3.10/site-packages (1.9.3)\n",
      "Requirement already satisfied: numpy<1.26.0,>=1.18.5 in /opt/conda/lib/python3.10/site-packages (from scipy) (1.23.5)\n",
      "Note: you may need to restart the kernel to use updated packages.\n"
     ]
    }
   ],
   "source": [
    "pip install scipy"
   ]
  },
  {
   "cell_type": "code",
   "execution_count": 2,
   "id": "e300ba11-f1ce-465c-b5a2-50dd9920a279",
   "metadata": {},
   "outputs": [
    {
     "name": "stdout",
     "output_type": "stream",
     "text": [
      "T-Statistic: 2.0\n",
      "P-Value: 0.08051623795726257\n",
      "Fail to reject the null hypothesis. There is no significant difference between the population means.\n"
     ]
    }
   ],
   "source": [
    "import numpy as np\n",
    "from scipy import stats\n",
    "\n",
    "population1 = np.array([80, 85, 90, 95, 100])  # Sample 1\n",
    "population2 = np.array([70, 75, 80, 85, 90])  # Sample 2\n",
    "alpha = 0.05\n",
    "\n",
    "t_statistic, p_value = stats.ttest_ind(population1, population2)\n",
    "\n",
    "print(\"T-Statistic:\", t_statistic)\n",
    "print(\"P-Value:\", p_value)\n",
    "\n",
    "if p_value < alpha:\n",
    "    print(\"Reject the null hypothesis. There is a significant difference between the population means.\")\n",
    "else:\n",
    "    print(\"Fail to reject the null hypothesis. There is no significant difference between the population means.\")"
   ]
  },
  {
   "cell_type": "markdown",
   "id": "56c0545c-8d76-4f73-9d38-39744e4f3251",
   "metadata": {},
   "source": []
  },
  {
   "cell_type": "markdown",
   "id": "4a2df159-8cf0-438c-a7e9-e1f6825a070c",
   "metadata": {},
   "source": [
    "Q6: What is a null and alternative hypothesis? Give some examples."
   ]
  },
  {
   "cell_type": "markdown",
   "id": "44b66724-9bbd-479f-b86e-d20e0068c539",
   "metadata": {},
   "source": [
    "Ans. A null hypothesis (often denoted as H0) and an alternative hypothesis (often denoted as Ha or H1) are essential components of a hypothesis test in statistics. These hypotheses are used to make statements and test the validity of those statements based on sample data. Here are explanations and examples of null and alternative hypotheses:\n",
    "\n",
    "(1) Null Hypothesis (H0):\n",
    "The null hypothesis is a statement of no effect, no difference, or no relationship in a population. It represents the status quo or the default assumption. In hypothesis testing, the null hypothesis is what you aim to test or challenge. Typically, the null hypothesis includes the notion of equality, such as \"equal to,\" \"no difference,\" \"no effect,\" or \"less than or equal to.\"\n",
    "Example of Null Hypotheses: The average height of male and female students in a school is equal (H0: μ1 = μ2).\n",
    "   \n",
    "(2) Alternative Hypothesis (Ha or H1): The alternative hypothesis is the statement that contradicts the null hypothesis. It suggests that there is an effect, difference, or relationship in the population. The alternative hypothesis is what researchers are trying to find evidence for in a hypothesis test.\n",
    "Example of Alternative Hypotheses: The average height of male and female students in a school is not equal (Ha: μ1 ≠ μ2)."
   ]
  },
  {
   "cell_type": "markdown",
   "id": "1ee002b8-4a75-4bcd-bf7b-3c567e955475",
   "metadata": {},
   "source": []
  },
  {
   "cell_type": "markdown",
   "id": "994b965b-45a0-47e3-8135-a444bca9e4f7",
   "metadata": {},
   "source": [
    "Q7: Write down the steps involved in hypothesis testing."
   ]
  },
  {
   "cell_type": "markdown",
   "id": "4706e6ff-710a-43b3-85ee-a9248171adae",
   "metadata": {},
   "source": [
    "Ans. Hypothesis testing is a structured process used to make statistical inferences about a population based on sample data. The following are the steps typically involved in hypothesis testing:\n",
    "\n",
    "1 Formulate Hypotheses: State the null hypothesis (H0) and the alternative hypothesis (H1). H0 represents the status quo, no effect, or no difference, while H1 represents the claim you want to test.\n",
    "\n",
    "2 Select Significance Level (Alpha): Choose the significance level (α), which represents the probability of making a Type I error (rejecting H0 when it is true). Common values for α include 0.05 and 0.01, but you can choose other levels depending on the context.\n",
    "\n",
    "3 Collect Data: Collect a sample from the population of interest. The data should be collected and prepared carefully to ensure it is representative and unbiased.\n",
    "\n",
    "4 Choose a Statistical Test: Select an appropriate statistical test based on the type of data and the hypotheses you are testing. Common tests include t-tests, chi-square tests, ANOVA, and regression analysis.\n",
    "\n",
    "5 Calculate Test Statistic: Compute the test statistic based on the chosen test. The test statistic quantifies the difference between the sample data and what is expected under the null hypothesis.\n",
    "\n",
    "6 Determine the P-Value: Calculate the p-value associated with the test statistic. The p-value is the probability of observing a test statistic as extreme as, or more extreme than, the one obtained, assuming the null hypothesis is true.\n",
    "\n",
    "7 Compare P-Value to Alpha: Compare the p-value to the chosen significance level (α). If the p-value is less than or equal to α, reject the null hypothesis. If the p-value is greater than α, fail to reject the null hypothesis.\n",
    "\n",
    "8 Make a Decision: Based on the comparison in the previous step, make a decision about the null hypothesis. If you reject H0, you accept the alternative hypothesis. If you fail to reject H0, there is insufficient evidence to support the alternative hypothesis.\n",
    "\n",
    "9 Interpret Results: Interpret the results of the hypothesis test in the context of your research question or problem. Discuss the practical significance of your findings, not just statistical significance."
   ]
  },
  {
   "cell_type": "markdown",
   "id": "4c9d0a90-1cd6-4749-8573-6b7b6f2d8252",
   "metadata": {},
   "source": []
  },
  {
   "cell_type": "markdown",
   "id": "a634d59a-56d1-4307-9c53-ae28d9384371",
   "metadata": {},
   "source": [
    "Q8. Define p-value and explain its significance in hypothesis testing."
   ]
  },
  {
   "cell_type": "markdown",
   "id": "be05c737-38f3-4652-9086-d9d239376eab",
   "metadata": {},
   "source": [
    "Ans. The p-value, short for \"probability value\" or \"p-probability,\" is a crucial concept in hypothesis testing and statistics. It quantifies the strength of evidence against the null hypothesis (H0) and helps researchers determine whether to reject or fail to reject the null hypothesis. Here's a formal definition and an explanation of its significance in hypothesis testing:\n",
    "\n",
    "Definition: The p-value is the probability of obtaining a test statistic as extreme as, or more extreme than, the one observed in the sample, assuming that the null hypothesis is true.\n",
    "\n",
    "Significance of the p-value:\n",
    "\n",
    "1 Decision Rule: In hypothesis testing, the p-value serves as a decision rule. You compare the p-value to the chosen significance level (α) to determine whether to reject the null hypothesis. If the p-value is less than or equal to α, you reject the null hypothesis. If the p-value is greater than α, you fail to reject the null hypothesis.\n",
    "\n",
    "2 Measuring Evidence: A small p-value (typically less than α) suggests that the observed sample data is unlikely to occur under the null hypothesis. This provides evidence against the null hypothesis. A large p-value suggests that the sample data is consistent with the null hypothesis. It does not provide strong evidence against the null hypothesis.\n",
    "\n",
    "3 Quantifying Uncertainty: The p-value quantifies the uncertainty associated with the hypothesis test. A small p-value indicates lower uncertainty, as the observed data is inconsistent with the null hypothesis. A large p-value suggests higher uncertainty because the data could reasonably occur under the null hypothesis.\n",
    "\n",
    "4 Adjusting Significance Levels: The p-value allows you to choose the level of significance (α) that aligns with your research objectives. If you want to be more conservative and minimize Type I errors, you can select a smaller α. Researchers can choose different significance levels based on the specific context of their study.\n",
    "\n",
    "5 Interpretation: The p-value does not provide the probability that the null hypothesis is true or false. It measures the probability of the data under the null hypothesis. A small p-value indicates that you have found strong evidence against the null hypothesis, but it does not prove the null hypothesis false.\n",
    "\n",
    "6 Scientific Relevance: In scientific research, a significant p-value suggests that the findings are meaningful and may warrant further investigation or consideration. It helps researchers assess the practical significance of their results, in addition to the statistical significance."
   ]
  },
  {
   "cell_type": "markdown",
   "id": "3bc66870-c38f-4355-97bc-352a54b6437e",
   "metadata": {},
   "source": []
  },
  {
   "cell_type": "markdown",
   "id": "5924ee1f-a25d-4bc2-9e63-7db519e78138",
   "metadata": {},
   "source": [
    "Q9. Generate a Student's t-distribution plot using Python's matplotlib library, with the degrees of freedom parameter set to 10."
   ]
  },
  {
   "cell_type": "code",
   "execution_count": 5,
   "id": "77c7f8e3-1521-41f1-b3cd-b797aa892abe",
   "metadata": {},
   "outputs": [
    {
     "data": {
      "image/png": "[encoded data removed]",
      "text/plain": [
       "<Figure size 500x300 with 1 Axes>"
      ]
     },
     "metadata": {},
     "output_type": "display_data"
    }
   ],
   "source": [
    "import numpy as np\n",
    "import matplotlib.pyplot as plt\n",
    "from scipy.stats import t\n",
    "\n",
    "df = 10\n",
    "x = np.linspace(-4, 4, 400)\n",
    "pdf = t.pdf(x, df)\n",
    "\n",
    "plt.figure(figsize=(5, 3))\n",
    "plt.plot(x, pdf, label=f\"t-distribution (df={df})\")\n",
    "plt.xlabel('x')\n",
    "plt.ylabel('PDF')\n",
    "plt.title(f\"Student's t-distribution (df={df})\")\n",
    "plt.grid()\n",
    "plt.legend()\n",
    "\n",
    "plt.show()"
   ]
  },
  {
   "cell_type": "markdown",
   "id": "1cc6ce07-44fb-44ac-b76e-5edca84903ef",
   "metadata": {},
   "source": []
  },
  {
   "cell_type": "markdown",
   "id": "d89f3504-059b-4304-ab69-f7fe3fb20d5d",
   "metadata": {},
   "source": [
    "Q10: Write a Python program to calculate the two-sample t-test for independent samples, given two random samples of equal size and a null hypothesis that the population means are equal."
   ]
  },
  {
   "cell_type": "code",
   "execution_count": 7,
   "id": "5c089f99-6f10-42f0-b248-33d2f01f84cd",
   "metadata": {},
   "outputs": [
    {
     "name": "stdout",
     "output_type": "stream",
     "text": [
      "Two-Sample T-Test Results:\n",
      "Sample 1 Mean: 77.79020039273574\n",
      "Sample 2 Mean: 75.74832589488241\n",
      "T-Statistic: 0.7368029608859732\n",
      "P-Value: 0.4642122113405719\n",
      "Fail to reject the null hypothesis: The population means are equal.\n"
     ]
    }
   ],
   "source": [
    "import numpy as np\n",
    "from scipy import stats\n",
    "\n",
    "sample1 = np.random.normal(80, 10, 30)  # Sample 1: Mean 80, Standard Deviation 10, Size 30\n",
    "sample2 = np.random.normal(75, 8, 30)   # Sample 2: Mean 75, Standard Deviation 8, Size 30\n",
    "\n",
    "t_statistic, p_value = stats.ttest_ind(sample1, sample2)\n",
    "alpha = 0.05\n",
    "\n",
    "print(\"Two-Sample T-Test Results:\")\n",
    "print(f\"Sample 1 Mean: {np.mean(sample1)}\")\n",
    "print(f\"Sample 2 Mean: {np.mean(sample2)}\")\n",
    "print(f\"T-Statistic: {t_statistic}\")\n",
    "print(f\"P-Value: {p_value}\")\n",
    "\n",
    "if p_value < alpha:\n",
    "    print(\"Reject the null hypothesis: The population means are not equal.\")\n",
    "else:\n",
    "    print(\"Fail to reject the null hypothesis: The population means are equal.\")"
   ]
  },
  {
   "cell_type": "code",
   "execution_count": null,
   "id": "f596ed2b-f185-45fd-92b2-20675830e198",
   "metadata": {},
   "outputs": [],
   "source": []
  },
  {
   "cell_type": "markdown",
   "id": "ac4e563c-31d8-4b10-ad7a-702ea98a44ee",
   "metadata": {},
   "source": [
    "Q11: What is Student’s t distribution? When to use the t-Distribution."
   ]
  },
  {
   "cell_type": "markdown",
   "id": "bf66c4b7-850c-4650-b5c3-47e7244acb4d",
   "metadata": {},
   "source": [
    "Ans. Student's t-distribution, often referred to as the t-distribution, is a probability distribution that is similar to the normal (Gaussian) distribution. It is used in statistics to make inferences about population parameters, especially when dealing with small sample sizes or when the population standard deviation is unknown. The t-distribution was introduced by William Sealy Gosset in 1908, which is why it is sometimes referred to as the \"Student's t-distribution.\"\n",
    "\n",
    "Key characteristics of the t-distribution:\n",
    "\n",
    "(a) Bell-Shaped Curve: Like the normal distribution, the t-distribution is bell-shaped, but it has heavier tails, which means it has more spread in the tails compared to the normal distribution.\n",
    "\n",
    "(b) Parameter: The t-distribution depends on a single parameter, known as the degrees of freedom (df), which affects its shape. The degrees of freedom are related to the sample size. As the sample size increases, the t-distribution approaches the normal distribution.\n",
    "\n",
    "(c) Variability: The variability of the t-distribution is greater for smaller sample sizes and decreases as the sample size increases. For a large sample size, the t-distribution approximates the normal distribution.\n",
    "\n",
    "When to use the t-distribution:\n",
    "\n",
    "(i) Small Sample Sizes: The t-distribution is particularly useful when dealing with small sample sizes (typically n < 30). When the sample size is small, the t-distribution provides better estimates of population parameters, such as the mean, than the normal distribution.\n",
    "\n",
    "(ii) Unknown Population Standard Deviation: When the population standard deviation is unknown, which is often the case in practice, you can use the t-distribution to make inferences about the population mean. In contrast, the normal distribution requires knowledge of the population standard deviation.\n",
    "\n",
    "(iii) Hypothesis Testing: The t-distribution is commonly used in hypothesis testing, such as in t-tests. For example, you might use a t-test to compare the means of two groups or to determine whether a sample mean is significantly different from a hypothesized population mean.\n",
    "\n",
    "(iv) Confidence Intervals: When calculating confidence intervals for the population mean with a small sample size and an unknown population standard deviation, the t-distribution is used to account for the uncertainty in the estimate."
   ]
  },
  {
   "cell_type": "markdown",
   "id": "00a068ab-b871-4fd3-9f4e-10dbebb789fb",
   "metadata": {},
   "source": []
  },
  {
   "cell_type": "markdown",
   "id": "f2d24a04-6f3d-41bc-8682-150722a3209b",
   "metadata": {},
   "source": [
    "Q12: What is t-statistic? State the formula for t-statistic."
   ]
  },
  {
   "cell_type": "markdown",
   "id": "6c684d42-c4ce-4090-9737-4179370eb79a",
   "metadata": {},
   "source": [
    "Ans. The t-statistic, also known as the Student's t-statistic, is a measure that quantifies how many standard errors a sample mean is from the hypothesized population mean. It is often used in hypothesis testing to assess whether the difference between a sample mean and a population mean is statistically significant.\n",
    "\n",
    "The formula for the t-statistic is as follows:\n",
    "\n",
    "t= (x̄ - μ)/(s/√n)\n",
    " \n",
    "Where:\n",
    "t is the t-statistic.\n",
    "x̄ is the sample mean.\n",
    "μ is the hypothesized population mean (the mean you are testing against).\n",
    "s is the sample standard deviation.\n",
    "n is the sample size.\n",
    "\n",
    "The t-statistic measures how many standard errors the sample mean is away from the population mean, taking into account the sample size and sample standard deviation. A large absolute t-statistic value suggests that the sample mean is significantly different from the hypothesized population mean. To determine the significance of the t-statistic, you compare it to critical values from the t-distribution based on the degrees of freedom (typically n-1) and the desired level of significance (alpha).\n",
    "\n",
    "In hypothesis testing, you might perform a t-test to assess whether there is a significant difference between a sample mean and a population mean or between two sample means. The t-statistic and the critical values from the t-distribution are used to make this determination.\n",
    "\n",
    "There are two common types of t-tests:\n",
    "(1) One-Sample t-test: Used to compare the sample mean to a known or hypothesized population mean.\n",
    "(2) Two-Sample t-test: Used to compare the means of two independent samples to determine if they are significantly different from each other."
   ]
  },
  {
   "cell_type": "markdown",
   "id": "c3b96707-3ce1-4e06-b87d-e3d97d58f2b8",
   "metadata": {},
   "source": []
  },
  {
   "cell_type": "markdown",
   "id": "5384f94c-9352-4ba1-b1a1-ae1f1f705a63",
   "metadata": {},
   "source": [
    "Q13. A coffee shop owner wants to estimate the average daily revenue for their shop. They take a random sample of 50 days and find the sample mean revenue to be 500 dollars with a standard deviation of 50 dollars. Estimate the population mean revenue with a 95% confidence interval."
   ]
  },
  {
   "cell_type": "markdown",
   "id": "19b9e803-5ddc-4798-88ac-df34c69cfb14",
   "metadata": {},
   "source": [
    "Ans. To estimate the population mean revenue with a 95% confidence interval, you can use the t-distribution since you have a sample and don't know the population standard deviation. Here's how you can calculate it using the provided information:\n",
    "\n",
    "(1) Gather the information:\n",
    "Sample mean (x̄) = $500\n",
    "\n",
    "Sample Standard Deviation (s) = $50\n",
    "\n",
    "Sample Size (n) = 50\n",
    "\n",
    "Confidence Level (α) = 0.05(for a 95% confidence interval)\n",
    "\n",
    "Degrees of Freedom (df): n−1 = 49\n",
    "\n",
    "(2) Find the critical value: For a 95% confidence interval and 49 degrees of freedom, you can find the critical value from the t-distribution table or use a calculator. For a two-tailed test (which is typical for confidence intervals), the critical value is approximately 2.0096.\n",
    "\n",
    "(3) Calculate the margin of error (E): E= ts/√n\n",
    "\n",
    "Where:\n",
    "t is the critical value (2.0096 in this case)\n",
    "\n",
    "s is the sample standard deviation ($50)\n",
    "\n",
    "n is the sample size (50)\n",
    "\n",
    "E = (2.0096 * 50)/√50 = 14.21 (approx)\n",
    "\n",
    "(4) Calculate the confidence interval: Now, you can calculate the confidence interval by adding and subtracting the margin of error from the sample mean:\n",
    "Lower Bound = x̄ - E = 500 - 14.21 = 485.79\n",
    "\n",
    "Upper Bound = x̄ + E = 500 + 14.21 = 514.21\n",
    "\n",
    "So, with 95% confidence, you can estimate that the population mean daily revenue for the coffee shop is between approximately 485.79 dollars and 514.21 dollars."
   ]
  },
  {
   "cell_type": "markdown",
   "id": "964ad553-2cf4-44c9-93a0-990d6d31caff",
   "metadata": {},
   "source": []
  },
  {
   "cell_type": "markdown",
   "id": "07731fa0-fcc8-49ea-b529-0ed9fae87ed7",
   "metadata": {},
   "source": [
    "Q14. A researcher hypothesizes that a new drug will decrease blood pressure by 10 mmHg. They conduct a clinical trial with 100 patients and find that the sample mean decrease in blood pressure is 8 mmHg with a standard deviation of 3 mmHg. Test the hypothesis with a significance level of 0.05."
   ]
  },
  {
   "cell_type": "markdown",
   "id": "11fc46de-369e-481b-aad2-45ce724d2e6d",
   "metadata": {},
   "source": [
    "Ans. Here are the steps to perform the t-test:\n",
    "\n",
    "(1) Set up hypotheses:\n",
    "Null Hypothesis (H0): μ = 10 (The drug does not decrease blood pressure by 10 mmHg).\n",
    "Alternative Hypothesis (H1): μ < 10  (The drug does decrease blood pressure by 10 mmHg).\n",
    "\n",
    "(2) Collect the information:\n",
    "Sample Mean (x̄): 8 mmHg\n",
    "Sample Standard Deviation (s): 3 mmHg\n",
    "Sample Size (n): 100\n",
    "Significance Level (α): 0.05\n",
    "\n",
    "(3) Calculate the t-statistic:\n",
    "t = (x̄ - μ)/(s/√n) = -6.67\n",
    "\n",
    "(4) Find the critical value and perform the test:\n",
    "Since you're testing whether the mean decrease in blood pressure is less than 10 mmHg (μ<10) you'll perform a one-tailed test and find the critical value from the t-distribution table or a calculator for α=0.05 and degrees of freedom (df = n-1). For df = 99 and α=0.05, the critical value is approximately -1.6602 (a negative value because it's a one-tailed test).\n",
    "\n",
    "(5) Compare the t-statistic to the critical value:\n",
    "t-statistic = -6.67\n",
    "Critical value = -1.6602\n",
    "\n",
    "Since the t-statistic (-6.67) is much smaller (more negative) than the critical value (-1.6602), you can reject the null hypothesis (H0). This means that there is strong evidence to conclude that the new drug decreases blood pressure by more than 10 mmHg at the 0.05 significance level."
   ]
  },
  {
   "cell_type": "markdown",
   "id": "928f8b63-32e7-481d-814f-bb0470f1623b",
   "metadata": {},
   "source": []
  },
  {
   "cell_type": "markdown",
   "id": "57cd3b84-11f8-4b95-b376-de98ec46d3fc",
   "metadata": {},
   "source": [
    "Q15. An electronics company produces a certain type of product with a mean weight of 5 pounds and a standard deviation of 0.5 pounds. A random sample of 25 products is taken, and the sample mean weight is found to be 4.8 pounds. Test the hypothesis that the true mean weight of the products is less than 5 pounds with a significance level of 0.01."
   ]
  },
  {
   "cell_type": "markdown",
   "id": "ef8e5b36-3c14-40a0-8bcc-5df6d67cf701",
   "metadata": {},
   "source": [
    "Ans. Hypotheses:\n",
    "Null Hypothesis (H0): μ = 5 (The true mean weight is equal to 5 pounds).\n",
    "\n",
    "Alternative Hypothesis (H1): μ < 5 (The true mean weight is less than 5 pounds).\n",
    "\n",
    "Given:\n",
    "Sample Mean (x̄): 4.8 pounds\n",
    "\n",
    "Population Standard Deviation (σ): 0.5 pounds\n",
    "\n",
    "Sample Size (n): 25\n",
    "\n",
    "Significance Level (α): 0.01\n",
    "\n",
    "Test Statistic:\n",
    "To perform the one-sample t-test, calculate the t-statistic using the following formula:\n",
    "t = (x̄ - μ)/(s/√n) = -2\n",
    "\n",
    "Critical Value:\n",
    "Since this is a one-tailed test (less than), you need to find the critical value from the t-distribution table for a significance level of 0.01 and degrees of freedom (df) equal to the sample size minus one, which is 24.\n",
    "\n",
    "For df = 24 and α = 0.01, the critical value is approximately -2.4922.\n",
    "\n",
    "Conclusion:\n",
    "The t-statistic is -2.\n",
    "\n",
    "The critical value is -2.4922.\n",
    "\n",
    "Since the t-statistic (-2) is greater (more negative) than the critical value (-2.4922), you can reject the null hypothesis (H0).\n",
    "\n",
    "Result:\n",
    "There is sufficient evidence to conclude that the true mean weight of the products is less than 5 pounds at the 0.01 significance level."
   ]
  },
  {
   "cell_type": "markdown",
   "id": "48ee817c-4b48-4f56-b2d7-a0e11ae12ffc",
   "metadata": {},
   "source": []
  },
  {
   "cell_type": "markdown",
   "id": "bad43e77-aef9-47ed-aa72-bf4d6136328f",
   "metadata": {},
   "source": [
    "Q16. Two groups of students are given different study materials to prepare for a test. The first group (n1 = 30) has a mean score of 80 with a standard deviation of 10, and the second group (n2 = 40) has a mean score of 75 with a standard deviation of 8. Test the hypothesis that the population means for the two groups are equal with a significance level of 0.01."
   ]
  },
  {
   "cell_type": "markdown",
   "id": "a911cce6-0852-4ba2-9572-ac8d52d8db60",
   "metadata": {},
   "source": [
    "Ans. Hypotheses:\n",
    "Null Hypothesis (H0): μ1 = μ2 (The population means are equal).\n",
    "\n",
    "Alternative Hypothesis (H1): μ1 ≠ μ2 (The population means are not equal).\n",
    "\n",
    "Given:\n",
    "\n",
    "Sample 1 Mean (x̄1): 80\n",
    "\n",
    "Sample 1 Standard Deviation (s1): 10\n",
    "\n",
    "Sample 1 Size (n1): 30\n",
    "\n",
    "Sample 2 Mean (x̄2): 75\n",
    "\n",
    "Sample 2 Standard Deviation (s2): 8\n",
    "\n",
    "Sample 2 Size (n2): 40\n",
    "\n",
    "Significance Level (α): 0.01\n",
    "\n",
    "Test Statistic:\n",
    "The t-statistic for two independent samples is calculated using the formula:\n",
    "t = (x̄1 - x̄2)/√((s1**2/n1)+(s2**2/n2))\n",
    "\n",
    "t = 2.251\n",
    "\n",
    "Calculate the degrees of freedom\n",
    "df = 54.3\n",
    "\n",
    "Find the critical value:\n",
    "For a two-tailed test, find the critical value for a significance level of 0.01 and the calculated degrees of freedom.\n",
    "\n",
    "Compare the t-statistic to the critical value:\n",
    "\n",
    "If ∣t∣ is greater than the critical value, reject H0\n",
    "\n",
    "If ∣t∣ is less than the critical value, fail to reject H0\n",
    "\n",
    "Make your conclusion based on the comparison."
   ]
  },
  {
   "cell_type": "markdown",
   "id": "3c4f196f-bf82-40e2-b987-aa39606d7884",
   "metadata": {},
   "source": []
  },
  {
   "cell_type": "markdown",
   "id": "ca2ca04b-cfef-4498-9f61-bdb459156313",
   "metadata": {},
   "source": [
    "Q17. A marketing company wants to estimate the average number of ads watched by viewers during a TV program. They take a random sample of 50 viewers and find that the sample mean is 4 with a standard deviation of 1.5. Estimate the population mean with a 99% confidence interval."
   ]
  },
  {
   "cell_type": "markdown",
   "id": "879f19b4-65a8-42fd-a956-5124a2a57065",
   "metadata": {},
   "source": [
    "Ans. Confidence Interval = x̄ ± Z(s/√n)\n",
    "\n",
    "in this case x̄=4, s=1.5, n=50\n",
    "so desired confidence level is 99%\n",
    "\n",
    "Step 1: Find the critical value (Z) for a 99% confidence level:\n",
    "You can find the critical value from the standard normal distribution table. For a 99% confidence level, the critical value is approximately 2.576.\n",
    "\n",
    "Step 2: Calculate the Confidence Interval:\n",
    "Now, you can calculate the confidence interval:\n",
    "Confidence Interval = 4 ± 2.576 (1.5/√50)\n",
    "\n",
    "Step 3: Calculate the values:\n",
    "Calculate the value inside the square root: √50 = 7.0711\n",
    "\n",
    "Calculate the margin of error: 2.576 × (1.5/7.0711) ≈ 0.5489\n",
    "\n",
    "Step 4: Calculate the Confidence Interval:\n",
    "Substitute the values into the confidence interval formula:\n",
    "Confidence Interval = 4 ± 0.5489\n",
    "\n",
    "Step 5: Calculate the Upper and Lower Bounds:\n",
    "Lower bound: 4 − 0.5489 ≈ 3.4511\n",
    "\n",
    "Upper bound: 4 + 0.5489 ≈ 4.5489\n",
    "\n",
    "Step 6: Interpret the Confidence Interval:\n",
    "With 99% confidence, we can estimate that the true average number of ads watched by viewers during a TV program is between approximately 3.4511 and 4.5489.\n",
    "\n",
    "So, the 99% confidence interval for the population mean is [3.4511, 4.5489]."
   ]
  },
  {
   "cell_type": "code",
   "execution_count": null,
   "id": "28575555-7992-4a25-88c6-95bcc52ea91e",
   "metadata": {},
   "outputs": [],
   "source": []
  }
 ],
 "metadata": {
  "kernelspec": {
   "display_name": "Python 3 (ipykernel)",
   "language": "python",
   "name": "python3"
  },
  "language_info": {
   "codemirror_mode": {
    "name": "ipython",
    "version": 3
   },
   "file_extension": ".py",
   "mimetype": "text/x-python",
   "name": "python",
   "nbconvert_exporter": "python",
   "pygments_lexer": "ipython3",
   "version": "3.10.8"
  }
 },
 "nbformat": 4,
 "nbformat_minor": 5
}
