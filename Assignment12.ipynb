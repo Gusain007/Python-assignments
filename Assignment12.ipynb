{
 "cells": [
  {
   "cell_type": "markdown",
   "id": "24e25d4b-ac19-4150-b3f1-d8bf16a16c3b",
   "metadata": {},
   "source": [
    "Q1:What is the difference between a t-test and a z-test? Provide an example scenario where you would use each type of test."
   ]
  },
  {
   "cell_type": "markdown",
   "id": "06ad33fa-2399-4b1a-91da-cf8702b986ce",
   "metadata": {
    "tags": []
   },
   "source": [
    "Ans. T-test and Z-test are both statistical tests used to make inferences about population parameters based on sample data. However, they are used in different situations depending on the characteristics of the data and the assumptions made.\n",
    "\n",
    "T-test:\n",
    "\n",
    "When to use: T-tests are typically used when the sample size is small (usually less than 30) or when the population standard deviation is unknown. T-tests are also appropriate when the data is approximately normally distributed.\n",
    "\n",
    "Formula: The formula for a t-test statistic is t = (x̄ - μ) / (s / √n), where:\n",
    "\n",
    "x̄ is the sample mean\n",
    "\n",
    "μ is the hypothesized population mean\n",
    "\n",
    "s is the sample standard deviation\n",
    "\n",
    "n is the sample size\n",
    "\n",
    "Example scenario for a T-test:\n",
    "Suppose you want to test whether the average test scores of students in your school differ significantly from the national average (μ). You collect a random sample of 20 student scores and calculate the sample mean and standard deviation. In this case, you would use a t-test because you have a small sample size and may not know the population standard deviation.\n",
    "\n",
    "\n",
    "Z-test:\n",
    "\n",
    "When to use: Z-tests are appropriate when the sample size is large (typically n > 30) or when you know the population standard deviation. Z-tests assume that the data is normally distributed.\n",
    "\n",
    "Formula: The formula for a z-test statistic is z = (x̄ - μ) / (σ / √n), where:\n",
    "\n",
    "x̄ is the sample mean\n",
    "\n",
    "μ is the hypothesized population mean\n",
    "\n",
    "σ is the population standard deviation\n",
    "\n",
    "n is the sample size\n",
    "\n",
    "Example scenario for a Z-test:\n",
    "Suppose you are testing the effectiveness of a new drug on a large group of patients, and you know the population standard deviation of the patients' response to the drug. In this case, you would use a z-test because you have a large sample size and knowledge of the population standard deviation.\n",
    "\n",
    "In summary, the choice between a t-test and a z-test depends on the sample size and whether you know the population standard deviation. If the sample size is small or the population standard deviation is unknown, a t-test is more appropriate. If the sample size is large and the population standard deviation is known, a z-test is usually preferred"
   ]
  },
  {
   "cell_type": "markdown",
   "id": "66276a89-4f48-4f7e-b6a5-4260cf758349",
   "metadata": {},
   "source": []
  },
  {
   "cell_type": "markdown",
   "id": "eadcfcaa-f917-493d-bf66-103e48aa90bf",
   "metadata": {
    "tags": []
   },
   "source": [
    "Q2: Differentiate between one-tailed and two-tailed tests."
   ]
  },
  {
   "cell_type": "markdown",
   "id": "981b3bb2-b1df-42af-8be0-c914dd4a17b0",
   "metadata": {},
   "source": [
    "Ans. One-tailed and two-tailed tests are two types of hypothesis tests used in statistics to determine whether there is a significant difference or relationship between a sample or samples and a population parameter. They differ in how they consider the possible outcomes of the test.\n",
    "\n",
    "One-Tailed Test:\n",
    "\n",
    "Directional Hypothesis: A one-tailed test is used when you have a specific hypothesis about the direction of the effect. In other words, you are interested in testing whether the sample data is significantly greater than or significantly less than a certain population parameter, but not both.\n",
    "\n",
    "Alternative Hypotheses: In a one-tailed test, you have two alternative hypotheses: a \"greater than\" alternative (H1: μ > μ0) or a \"less than\" alternative (H1: μ < μ0), where μ is the population parameter, and μ0 is the hypothesized value.\n",
    "\n",
    "Critical Region: The critical region for a one-tailed test is located in one tail of the distribution (either the right tail or the left tail), depending on the direction specified in the alternative hypothesis.\n",
    "\n",
    "Example: If you want to test whether a new treatment increases the average recovery time of patients, you would use a one-tailed test with a \"greater than\" alternative hypothesis because you are only interested in determining if the treatment is more effective, not less effective.\n",
    "\n",
    "Two-Tailed Test:\n",
    "\n",
    "Nondirectional Hypothesis: A two-tailed test is used when you want to test whether there is a significant difference, but you do not have a specific hypothesis about the direction of the effect. It is used to detect whether the sample data is significantly different from a population parameter in either direction.\n",
    "\n",
    "Alternative Hypothesis: In a two-tailed test, the alternative hypothesis is of the form H1: μ ≠ μ0, where μ is the population parameter, and μ0 is the hypothesized value. This form indicates that you are interested in detecting differences in both directions.\n",
    "\n",
    "Critical Region: The critical region for a two-tailed test is divided into two tails of the distribution, one in each direction, to account for the possibility of a significant difference in either direction.\n",
    "\n",
    "Example: If you want to test whether a coin is fair (i.e., the probability of getting heads is different from 0.5), you would use a two-tailed test because you want to detect any significant deviation from the expected value, whether it's more heads or more tails.\n",
    "\n",
    "In summary, the choice between a one-tailed and a two-tailed test depends on the nature of your research question and the specific hypothesis you want to test. If you have a specific directional hypothesis, you use a one-tailed test. If you want to detect differences in either direction, you use a two-tailed test."
   ]
  },
  {
   "cell_type": "markdown",
   "id": "f8e0fc61-0cbc-425d-97b6-c6cc5ed3290c",
   "metadata": {},
   "source": []
  },
  {
   "cell_type": "markdown",
   "id": "0d5bed17-6f10-46a2-8a20-340bd5feb613",
   "metadata": {},
   "source": [
    "Q3: Explain the concept of Type 1 and Type 2 errors in hypothesis testing. Provide an example scenario for each type of error."
   ]
  },
  {
   "cell_type": "markdown",
   "id": "3cb5b2f4-a046-4faa-894f-f5771aee4eb8",
   "metadata": {},
   "source": [
    "Ans. In hypothesis testing, there are two types of errors that can occur: Type I error and Type II error. These errors are associated with the decisions made when testing a null hypothesis.\n",
    "\n",
    "Type I Error (False Positive):\n",
    "A Type I error occurs when a null hypothesis that is actually true is rejected. In other words, it's a false positive, where you mistakenly conclude that there is a significant effect or difference when there isn't.\n",
    "Symbol: Denoted as α (alpha).\n",
    "Example Scenario: Imagine a pharmaceutical company testing a new drug for a particular disease. The null hypothesis (H0) states that the drug has no effect, and the alternative hypothesis (H1) suggests that the drug is effective. If the company erroneously rejects the null hypothesis (H0) and concludes that the drug is effective (when, in reality, it's not), it results in a Type I error. This can be harmful because the drug might be released to the market even though it doesn't work.\n",
    "\n",
    "Type II Error (False Negative):\n",
    "A Type II error occurs when a null hypothesis that is actually false is not rejected. In other words, it's a false negative, where you fail to detect a significant effect or difference when it actually exists.\n",
    "Symbol: Denoted as β (beta).\n",
    "Example Scenario: Let's continue with the pharmaceutical example. This time, assume the drug is genuinely effective (i.e., the null hypothesis is false), but the company fails to reject the null hypothesis (H0). This results in a Type II error. Patients do not benefit from the effective drug because it's not approved for use.\n",
    "The concept of Type I and Type II errors is often framed in the context of a trade-off. In hypothesis testing, you can control the probability of making one type of error (e.g., reducing the chance of a Type I error) at the expense of increasing the probability of making the other type of error (e.g., a Type II error). This trade-off is controlled by the significance level (α), which is often set at a predetermined value (e.g., 0.05) to determine the risk of a Type I error.\n",
    "\n",
    "In summary, Type I error is the incorrect rejection of a true null hypothesis, while Type II error is the failure to reject a false null hypothesis. Understanding and minimizing these errors are essential in statistical hypothesis testing, as they have practical implications in various fields, such as medicine, manufacturing, and scientific research."
   ]
  },
  {
   "cell_type": "markdown",
   "id": "51415589-c823-49b6-b8d0-f4ae7c0eae79",
   "metadata": {},
   "source": []
  },
  {
   "cell_type": "markdown",
   "id": "3804508f-080c-42e4-9e92-dc7304338e63",
   "metadata": {},
   "source": [
    "Q4:  Explain Bayes's theorem with an example."
   ]
  },
  {
   "cell_type": "markdown",
   "id": "de1b6946-e6b6-41a6-a30b-fa9935e89fec",
   "metadata": {},
   "source": [
    "Ans. Bayes's theorem, named after the 18th-century statistician and philosopher Thomas Bayes, is a fundamental concept in probability theory and statistics. It describes how to update our beliefs about an event or hypothesis in light of new evidence. Bayes's theorem relates conditional probabilities, which are probabilities that are dependent on some prior knowledge or evidence.\n",
    "\n",
    "The general form of Bayes's theorem is as follows:\n",
    "P(A|B) = (P(B|A) * P(A))/P(B)\n",
    "\n",
    "Medical Testing Example:\n",
    "\n",
    "Suppose there is a medical test to detect a rare disease, and the test is not perfect. It has a known false positive rate of 5%, meaning that 5% of healthy individuals who take the test will receive a positive result. The test also has a false negative rate of 10%, meaning that 10% of individuals with the disease will receive a negative result. The prevalence of the disease in the population is 2%, meaning that 2% of people actually have the disease.\n",
    "\n",
    "Now, let's use Bayes's theorem to calculate the probability that an individual who tests positive actually has the disease:\n",
    "\n",
    "Define the events:\n",
    "\n",
    "Event A: The individual has the disease.\n",
    "Event B: The individual tests positive.\n",
    "Determine the probabilities:\n",
    "P(A): The prior probability of an individual having the disease is 2% or 0.02.\n",
    "P(B|A): The probability of testing positive given that the individual has the disease is 90% (1 - 0.10, which accounts for the false negative rate).\n",
    "P(B|-A): The probability of testing positive given that the individual does not have the disease is 5% (the false positive rate).\n",
    "P(-A): The probability of an individual not having the disease is 98% (1 - 0.02).\n",
    "\n",
    "Apply Bayes's theorem:\n",
    "Now we can use Bayes's theorem to calculate the probability that an individual who tests positive actually has the disease:\n",
    "P(A|B) = (P(B|A) x P(A))/P(B)\n",
    "Where P(B) can be calculated using the law of total probability:\n",
    "P(B) = P(B|A) * P(A) + P(B|-A) * P(-A)\n",
    "P(B) = (0.90 * 0.02) + (0.05 * 0.98) = 0.018 + 0.049 = 0.067\n",
    "\n",
    "P(A|B) = (0.90 * 0.02)/0.067 = 0.2687\n",
    "\n",
    "So, even if an individual tests positive for the disease, the probability that they actually have the disease is only about 26.87%."
   ]
  },
  {
   "cell_type": "markdown",
   "id": "78e8eb8f-8d01-4583-bf96-50e3ecd95061",
   "metadata": {},
   "source": []
  },
  {
   "cell_type": "markdown",
   "id": "8b281c16-3a83-4556-8160-ab12031ba416",
   "metadata": {},
   "source": [
    "Q5: What is a confidence interval? How to calculate the confidence interval, explain with an example."
   ]
  },
  {
   "cell_type": "markdown",
   "id": "a3ad7513-6cf2-481f-ae0f-e195374c58cf",
   "metadata": {},
   "source": [
    "Ans. A confidence interval is a range of values that is constructed around a sample statistic (e.g., a sample mean) to estimate an unknown population parameter (e.g., the population mean) with a certain level of confidence. It provides a range within which the true parameter is likely to fall. In other words, it quantifies the uncertainty or variability associated with estimating population parameters from sample data.\n",
    "\n",
    "A confidence interval is typically expressed as:\n",
    "Point Estimate ± Margin of Error\n",
    "\n",
    "The \"point estimate\" is the sample statistic used to estimate the population parameter, such as the sample mean.\n",
    "The \"margin of error\" is a measure of the range of values that are likely to contain the true population parameter. It depends on the level of confidence and the variability in the data.\n",
    "\n",
    "Example: Calculating a 95% Confidence Interval for the Mean\n",
    "\n",
    "Suppose you want to estimate the average height of adult males in a certain city. You collect a random sample of 100 adult males and measure their heights. The sample mean height is 175 centimeters, and the sample standard deviation is 5 centimeters.\n",
    "\n",
    "(1) Select the Level of Confidence: In this example, we'll calculate a 95% confidence interval, which is a common choice. This means we want to be 95% confident that the true population mean falls within our interval.\n",
    "\n",
    "(2) Determine the Z-Score (or T-Score): The Z-score (or T-score) is based on the chosen confidence level. For a 95% confidence interval, the Z-score is approximately 1.96 (assuming a large sample size, which allows us to use the Z-distribution). If your sample size is small or the population standard deviation is unknown, you would use a T-score instead.\n",
    "\n",
    "(3) Calculate the Margin of Error:\n",
    "\n",
    "The margin of error is determined by the formula:\n",
    "Margin of Error = Z-Score × (Sample Standard Deviation/√Sample Size)\n",
    "\n",
    "In our example, the Z-Score is 1.96, the sample standard deviation is 5 centimeters, and the sample size is 100:\n",
    "Margin of Error = 1.96 × (5/√100) = 1.96 × 5/10 = 0.98 centimeters\n",
    "\n",
    "(4) Calculate the Confidence Interval: Combine the point estimate (sample mean) with the margin of error to create the confidence interval:\n",
    "Lower limit: Sample Mean - Margin of Error\n",
    "\n",
    "Upper limit: Sample Mean + Margin of Error\n",
    "\n",
    "In our example:\n",
    "\n",
    "Lower limit: 175 - 0.98 = 174.02 centimeters\n",
    "\n",
    "Upper limit: 175 + 0.98 = 175.98 centimeters\n",
    "\n",
    "(5) Interpret the Confidence Interval: The 95% confidence interval for the average height of adult males in the city is 174.02 cm to 175.98 cm. This means that we can be 95% confident that the true population mean height falls within this range."
   ]
  },
  {
   "cell_type": "code",
   "execution_count": null,
   "id": "620c7cd6-a563-481a-9ba9-4acec3132981",
   "metadata": {},
   "outputs": [],
   "source": []
  },
  {
   "cell_type": "markdown",
   "id": "0258bc1b-4582-4968-8bd2-58d439725968",
   "metadata": {},
   "source": [
    "Q6. Use Bayes' Theorem to calculate the probability of an event occurring given prior knowledge of the event's probability and new evidence. Provide a sample problem and solution."
   ]
  },
  {
   "cell_type": "markdown",
   "id": "2f10803e-4456-4762-9cbb-be45df2b0bb3",
   "metadata": {},
   "source": [
    "Ans. Imagine you are developing a spam filter for emails. You want to calculate the probability that an incoming email is spam given certain characteristics of the email and prior knowledge about spam emails.\n",
    "\n",
    "(1) Define the events:\n",
    "Event A: The email is spam.\n",
    "Event B: The email contains the word \"free.\"\n",
    "\n",
    "(2) Determine the probabilities:\n",
    "P(A): The prior probability of an email being spam based on historical data is 20%, or 0.20.\n",
    "P(B|A): The probability that a spam email contains the word \"free\" is 80%, or 0.80.\n",
    "P(-A): The probability of an email not being spam is 80%, or 0.80 (the complement of P(A)).\n",
    "P(B|-A): The probability that a non-spam email contains the word \"free\" is 5%, or 0.05.\n",
    "\n",
    "(3) Calculate the probability of the word \"free\" appearing in an email:\n",
    "Use the law of total probability to calculate \n",
    "P(B) = P(B|A) * P(A) + P(B|-A) * P(-A)\n",
    "P(B) = (0.80 * 0.20) + (0.05 * 0.80) = 0.16 + 0.04 = 0.20\n",
    "\n",
    "(4) Apply Bayes' Theorem to calculate the probability that the email is spam given that it contains the word \"free\":\n",
    "P(A|B) = (P(B|A) x P(A))/P(B)\n",
    "P(A|B) = (0.80 * 0.20)/0.20 = 0.80\n",
    "\n",
    "So, if an incoming email contains the word \"free,\" the probability that it is spam is 80%.\n",
    "This example demonstrates how Bayes' Theorem can be used in the context of spam filtering to update the probability of an event (an email being spam) given evidence (the presence of the word \"free\") and prior knowledge about the event's likelihood."
   ]
  },
  {
   "cell_type": "markdown",
   "id": "274ee762-aa77-4656-a921-1706ebea058a",
   "metadata": {},
   "source": []
  },
  {
   "cell_type": "markdown",
   "id": "046ff16d-de2c-4fc2-97ba-7bd5dd7d3437",
   "metadata": {},
   "source": [
    "Q7. Calculate the 95% confidence interval for a sample of data with a mean of 50 and a standard deviation of 5. Interpret the results."
   ]
  },
  {
   "cell_type": "markdown",
   "id": "fc1cf748-dab0-4a1a-975a-d38427e787e8",
   "metadata": {},
   "source": [
    "Ans. To calculate a 95% confidence interval for a sample of data with a mean of 50 and a standard deviation of 5, you can use the formula for the confidence interval:\n",
    "Confidence Interval = Sample Mean ± (Critical Value x (Standard Deviation/√Sample size))\n",
    "\n",
    "For a 95% confidence interval, the critical value depends on the distribution and degrees of freedom. If the sample size is large (typically n > 30), you can use the Z-distribution and the critical value for a 95% confidence interval is approximately 1.96.\n",
    "\n",
    "Without knowing the sample size, I'll provide the formula, but you'll need to know the sample size to complete the calculation.\n",
    "\n",
    "The confidence interval is calculated as:\n",
    "Confidence Interval = 50 ± (1.96×(5/√n))\n",
    "\n",
    "You'll need to insert the actual sample size (n) into the formula to calculate the confidence interval.\n",
    "\n",
    "Interpretation:\n",
    "\n",
    "With a 95% confidence level, the calculated confidence interval will provide a range of values within which we are 95% confident that the true population mean lies. In this case, if you knew the sample size and calculated the interval, you could say, \"We are 95% confident that the true population mean falls within the interval [lower limit, upper limit].\" The interval provides a measure of the uncertainty associated with estimating the population mean based on the sample data."
   ]
  },
  {
   "cell_type": "code",
   "execution_count": null,
   "id": "786b2aa5-8317-40d6-be12-3293a7cc92f4",
   "metadata": {},
   "outputs": [],
   "source": []
  },
  {
   "cell_type": "markdown",
   "id": "0edecfe7-0be5-453f-a058-0a3a86a4b534",
   "metadata": {},
   "source": [
    "Q8. What is the margin of error in a confidence interval? How does sample size affect the margin of error? Provide an example of a scenario where a larger sample size would result in a smaller margin of error."
   ]
  },
  {
   "cell_type": "markdown",
   "id": "c8e2caa5-fef7-483e-83b2-b872c70f215d",
   "metadata": {},
   "source": [
    "Ans. The margin of error (MOE) in a confidence interval represents the range of values around the point estimate (e.g., sample mean) that is likely to contain the true population parameter with a specified level of confidence. It quantifies the uncertainty or variability in the estimation. A smaller margin of error indicates a more precise estimate, while a larger margin of error implies greater uncertainty.\n",
    "\n",
    "The margin of error is calculated using the formula:\n",
    "\n",
    "Margin of Error = Critical Value x (Standard Deviation/√Sample size)\n",
    "\n",
    "Example Scenario:\n",
    "\n",
    "Suppose you want to estimate the average income of households in a city. You can take two different sample sizes: a smaller sample of 100 households and a larger sample of 1,000 households. Let's assume you use a 95% confidence level for both cases.\n",
    "\n",
    "Smaller Sample (n = 100):\n",
    "\n",
    "You collect income data from 100 households and calculate the sample mean and standard deviation.\n",
    "Using the formula, you determine the margin of error for a 95% confidence interval.\n",
    "The margin of error is, let's say, Rs500.\n",
    "Larger Sample (n = 1,000):\n",
    "\n",
    "You collect income data from 1,000 households and calculate the sample mean and standard deviation.\n",
    "Using the same formula, you determine the margin of error for a 95% confidence interval.\n",
    "The margin of error is, let's say, Rs200.\n",
    "\n",
    "In this scenario, the larger sample size (1,000 households) results in a smaller margin of error (Rs200) compared to the smaller sample size (100 households) with a larger margin of error (Rs500). This means that with the larger sample size, you can estimate the average income of households with more precision, and you can be more confident that the true population mean falls within a narrower range around the sample mean."
   ]
  },
  {
   "cell_type": "code",
   "execution_count": null,
   "id": "9071381b-3b1a-4675-9274-682c854b507b",
   "metadata": {},
   "outputs": [],
   "source": []
  },
  {
   "cell_type": "markdown",
   "id": "582b0e01-81fe-41b7-8ffe-6eacc3836a1f",
   "metadata": {},
   "source": [
    "Q9. Calculate the z-score for a data point with a value of 75, a population mean of 70, and a population standard deviation of 5. Interpret the results."
   ]
  },
  {
   "cell_type": "markdown",
   "id": "581af6a4-c35b-4ceb-bc69-2e25fdca42e0",
   "metadata": {},
   "source": [
    "Ans. To calculate the Z-score for a data point, you can use the formula:\n",
    "\n",
    "Z = (X - μ)/σ = (75 - 70)/5 = 1\n",
    "\n",
    "Interpretation:\n",
    "A Z-score of 1 indicates that the data point (75) is 1 standard deviation above the mean (70) in the population. This means the data point is relatively higher compared to the average value, and it is located in the upper 84th percentile of the population. In a standard normal distribution (with a mean of 0 and a standard deviation of 1), a Z-score of 1 corresponds to the 84th percentile, meaning that 84% of the data falls below this value."
   ]
  },
  {
   "cell_type": "code",
   "execution_count": null,
   "id": "3a7f0022-f5a1-457e-9050-81be422b0976",
   "metadata": {},
   "outputs": [],
   "source": []
  },
  {
   "cell_type": "markdown",
   "id": "1042f053-8c18-4113-a0a9-9dd4adf7a928",
   "metadata": {},
   "source": [
    "Q10. In a study of the effectiveness of a new weight loss drug, a sample of 50 participants lost an average of 6 pounds with a standard deviation of 2.5 pounds. Conduct a hypothesis test to determine if the drug is significantly effective at a 95% confidence level using a t-test."
   ]
  },
  {
   "cell_type": "markdown",
   "id": "091af042-63a3-42ce-bb76-69b39cdaf19d",
   "metadata": {},
   "source": [
    "Ans. To conduct a hypothesis test to determine if the weight loss drug is significantly effective, you can follow these steps using a t-test:\n",
    "\n",
    "Step 1: Define the null and alternative hypotheses:\n",
    "\n",
    "The null hypothesis H0  typically assumes that there is no significant effect, while the alternative hypothesis (H1) represents the effect you want to test.\n",
    "H0: The weight loss drug is not significantly effective (μ = 0)\n",
    "H1: The weight loss drug is significantly effective (μ ≠ 0).\n",
    "\n",
    "Step 2: Set the significance level \n",
    "In this case, the significance level is 0.05, as you want to test the hypothesis at a 95% confidence level.\n",
    "\n",
    "Step 3: Calculate the test statistic:\n",
    "You can calculate the t-statistic using the formula:\n",
    "t = (x̄ - μ0)/(s/√n)\n",
    "t = 16.9\n",
    "\n",
    "Step 4: Determine the degrees of freedom:\n",
    "The degrees of freedom for this t-test are (n-1) = 50 - 1 = 49\n",
    "\n",
    "Step 5: Find the critical t-value:\n",
    "Using a t-table or calculator and a two-tailed test with a significance level of 0.05 and 49 degrees of freedom, you can find the critical t-values. For a 95% confidence interval, you would have a critical t-value of approximately ±2.0096 (rounding to the nearest 4 decimal places).\n",
    "\n",
    "Step 6: Compare the test statistic to the critical t-value:\n",
    "The absolute value of the test statistic (16.9) is greater than the critical t-value, so you can reject the null hypothesis.\n",
    "\n",
    "This indicates that the weight loss drug is significantly effective. "
   ]
  },
  {
   "cell_type": "code",
   "execution_count": null,
   "id": "c7e8d1dd-a154-492d-8c72-d2cb5eef1641",
   "metadata": {},
   "outputs": [],
   "source": []
  },
  {
   "cell_type": "markdown",
   "id": "fce7927f-4131-4a5e-bc9c-9f752f3d4e6c",
   "metadata": {},
   "source": [
    "Q11. In a survey of 500 people, 65% reported being satisfied with their current job. Calculate the 95% confidence interval for the true proportion of people who are satisfied with their job."
   ]
  },
  {
   "cell_type": "markdown",
   "id": "61116dff-b71e-482f-8bbd-4b289b259e76",
   "metadata": {},
   "source": [
    "Ans. To calculate a confidence interval for the true proportion of people who are satisfied with their job, you can use the formula for a confidence interval for a population proportion, also known as a binomial proportion confidence interval. The formula for the confidence interval is:\n",
    "\n",
    "Confidence Interval = ˆp ± Z.√(ˆp(1-ˆp)/n) = 0.65 ± 0.045\n",
    "\n",
    "Lower Limit: 0.65 - 0.045 = 0.605\n",
    "Upper Limit: 0.65 + 0.045 = 0.655\n",
    "\n",
    "So, the 95% confidence interval for the true proportion of people who are satisfied with their job is approximately 60.5% to 65.5%. This means that you can be 95% confident that the true proportion falls within this range based on the survey of 500 people."
   ]
  },
  {
   "cell_type": "code",
   "execution_count": null,
   "id": "628be917-da24-4347-8a2f-fdbc9fb0d1fe",
   "metadata": {},
   "outputs": [],
   "source": []
  },
  {
   "cell_type": "markdown",
   "id": "c9a54aad-2bcb-48e2-811c-8b15929136d5",
   "metadata": {},
   "source": [
    "Q12. A researcher is testing the effectiveness of two different teaching methods on student performance. Sample A has a mean score of 85 with a standard deviation of 6, while sample B has a mean score of 82 with a standard deviation of 5. Conduct a hypothesis test to determine if the two teaching methods have a significant difference in student performance using a t-test with a significance level of 0.01."
   ]
  },
  {
   "cell_type": "markdown",
   "id": "1c1b0746-5cca-4da0-897e-0131812d25cc",
   "metadata": {},
   "source": [
    "Ans. H0: There is no significant difference in student performance between the two teaching methods (μ1 = μ2)\n",
    "H1: There is a significant difference in student performance between the two teaching methods (μ1 ≠ μ2)\n",
    "\n",
    "significance level is 0.01 (1%)\n",
    "\n",
    "You can calculate the t-statistic for a two-sample t-test using the formula: t = (x̄1 - x̄2)/√((s1²/n1)+(s2² /n2))\n",
    "t = 3/((36n1 + 25n2)/n1.n2)\n",
    "\n",
    "Note- Values of n1 and n2 are not given\n",
    "\n",
    "Determine the degrees of freedom:- \n",
    "df = ((s1²/n1)+(s2² /n2))²/[(((s1²/n1)²)/(n1-1)) + (((s2²/n2)²)/(n2-1))]\n",
    "\n",
    "Using a t-table or calculator and a two-tailed test with a significance level of 0.01 and the degrees of freedom, you can find the critical t-value.\n",
    "\n",
    "Compare the test statistic to the critical t-value:\n",
    "If the absolute value of the test statistic is greater than the critical t-value, you can reject the null hypothesis. Otherwise, you fail to reject the null hypothesis."
   ]
  },
  {
   "cell_type": "code",
   "execution_count": null,
   "id": "d7174f8e-757a-40e3-8f1b-861360b2d44a",
   "metadata": {},
   "outputs": [],
   "source": []
  },
  {
   "cell_type": "markdown",
   "id": "6f7cdad3-9cde-4ba3-8dbc-f64d04a52ca0",
   "metadata": {},
   "source": [
    "Q13. A population has a mean of 60 and a standard deviation of 8. A sample of 50 observations has a mean of 65. Calculate the 90% confidence interval for the true population mean."
   ]
  },
  {
   "cell_type": "markdown",
   "id": "7ca241be-61b2-4cd7-aba9-6e9a95c7107e",
   "metadata": {},
   "source": [
    "Ans. To calculate a 90% confidence interval for the true population mean, you can use the formula for the confidence interval:\n",
    "\n",
    "C.I = x̄ ± Z. σ/√n = 65 ± 1.645 . 8/√50\n",
    "\n",
    "Lower Limit: 65 - 1.645 .8/√50 = 63.13\n",
    "Upper Limit: 65 + 1.645 .8/√50 = 66.86\n",
    "\n",
    "This means that you can be 90% confident that the true population mean falls within this range based on the sample of 50 observations."
   ]
  },
  {
   "cell_type": "code",
   "execution_count": null,
   "id": "09767b1d-274e-4987-9cce-debf06158c32",
   "metadata": {},
   "outputs": [],
   "source": []
  },
  {
   "cell_type": "markdown",
   "id": "6a3dd4eb-1f6f-4135-904a-3216f7a63ff5",
   "metadata": {},
   "source": [
    "Q14. In a study of the effects of caffeine on reaction time, a sample of 30 participants had an average reaction time of 0.25 seconds with a standard deviation of 0.05 seconds. Conduct a hypothesis test to determine if the caffeine has a significant effect on reaction time at a 90% confidence level using a t-test."
   ]
  },
  {
   "cell_type": "markdown",
   "id": "8108942c-f2ce-4d06-860e-9e1e0c335c34",
   "metadata": {},
   "source": [
    "Ans. To conduct a hypothesis test to determine if caffeine has a significant effect on reaction time at a 90% confidence level using a t-test, you can follow these steps:\n",
    "\n",
    "(1) Define the null and alternative hypotheses:\n",
    "\n",
    "Null Hypothesis (H0): Caffeine has no significant effect on reaction time, or the mean reaction time is the same with and without caffeine.\n",
    "H0: μ = 0.25 seconds\n",
    "Alternative Hypothesis (Ha): Caffeine has a significant effect on reaction time, or the mean reaction time is different with caffeine.\n",
    "Ha: μ ≠ 0.25 seconds\n",
    "\n",
    "(2) Set the confidence level (α) to 0.10 for a 90% confidence interval. This means that you are willing to accept a 10% chance of making a Type I error (rejecting the null hypothesis when it is true).\n",
    "\n",
    "(3) Calculate the t-statistic:\n",
    "The formula for the t-statistic is given by:\n",
    "t = (x̄ - μ) / (s / √n)\n",
    "\n",
    "Where:\n",
    "x̄ is the sample mean\n",
    "\n",
    "μ is the population mean under the null hypothesis\n",
    "\n",
    "s is the sample standard deviation\n",
    "\n",
    "n is the sample size\n",
    "\n",
    "t = (0.25 - 0.25) / (0.05 / √30) = 0 / (0.05 / √30) = 0\n",
    "\n",
    "(4) Find the critical t-values for a two-tailed test with α = 0.10 and degrees of freedom (df) = n - 1. In this case, df = 30 - 1 = 29. You can use a t-table or an online calculator to find the critical t-values.\n",
    "\n",
    "For a 90% confidence level and a two-tailed test with 29 degrees of freedom, the critical t-values are approximately ±1.645.\n",
    "\n",
    "(5) Make a decision:\n",
    "Since the calculated t-statistic (0) is within the range of the critical t-values (-1.645 to 1.645), you fail to reject the null hypothesis.\n",
    "\n",
    "(6) Draw a conclusion:\n",
    "At a 90% confidence level, there is not enough evidence to conclude that caffeine has a significant effect on reaction time. The data does not support the claim that the mean reaction time is different with and without caffeine.\n",
    "\n",
    "In summary, based on the t-test at a 90% confidence level, you do not have sufficient evidence to conclude that caffeine has a significant effect on reaction time."
   ]
  },
  {
   "cell_type": "code",
   "execution_count": null,
   "id": "2ccfa6e1-cf2d-48f5-814a-dcbd8a510e84",
   "metadata": {},
   "outputs": [],
   "source": []
  }
 ],
 "metadata": {
  "kernelspec": {
   "display_name": "Python 3 (ipykernel)",
   "language": "python",
   "name": "python3"
  },
  "language_info": {
   "codemirror_mode": {
    "name": "ipython",
    "version": 3
   },
   "file_extension": ".py",
   "mimetype": "text/x-python",
   "name": "python",
   "nbconvert_exporter": "python",
   "pygments_lexer": "ipython3",
   "version": "3.10.8"
  }
 },
 "nbformat": 4,
 "nbformat_minor": 5
}
