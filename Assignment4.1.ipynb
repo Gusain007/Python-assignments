{
 "cells": [
  {
   "cell_type": "markdown",
   "id": "2d787407-e31a-48fe-8358-9c2028406451",
   "metadata": {},
   "source": [
    "Q1. Create a vehicle class with an init method having instance variables as name_of_vehicle, max_speed and average_of_vehicle."
   ]
  },
  {
   "cell_type": "code",
   "execution_count": 4,
   "id": "90306659-d961-4a87-b2ec-f52fe24c1e24",
   "metadata": {},
   "outputs": [
    {
     "name": "stdout",
     "output_type": "stream",
     "text": [
      "Car: Max Speed = 250 km/hr, Average = 20 kmPL\n",
      "Bike: Max Speed = 150 km/hr, Average = 45 kmPL\n"
     ]
    }
   ],
   "source": [
    "class vehicle:\n",
    "    def __init__(self, name_of_vehicle, max_speed, average_of_vehicle):\n",
    "        self.name_of_vehicle = name_of_vehicle\n",
    "        self.max_speed = max_speed\n",
    "        self.average_of_vehicle = average_of_vehicle\n",
    "        \n",
    "car = vehicle('Car', 250, 20)\n",
    "bike = vehicle('Bike', 150, 45)\n",
    "    \n",
    "print(f'{car.name_of_vehicle}: Max Speed = {car.max_speed} km/hr, Average = {car.average_of_vehicle} kmPL')\n",
    "print(f'{bike.name_of_vehicle}: Max Speed = {bike.max_speed} km/hr, Average = {bike.average_of_vehicle} kmPL')\n",
    "    \n",
    "        "
   ]
  },
  {
   "cell_type": "code",
   "execution_count": null,
   "id": "9af1e5ae-cff7-479a-97c0-e26650127142",
   "metadata": {},
   "outputs": [],
   "source": []
  },
  {
   "cell_type": "markdown",
   "id": "79efe660-1d1b-43ac-8e56-0863d01bc28b",
   "metadata": {},
   "source": [
    "Q2. Create a child class car from the vehicle class created in Que 1, which will inherit the vehicle class. Create a method named seating_capacity which takes capacity as an argument and returns the name of the vehicle and its seating capacity."
   ]
  },
  {
   "cell_type": "code",
   "execution_count": 22,
   "id": "375af1e7-b1f2-42ec-bdc8-88051c316bbd",
   "metadata": {},
   "outputs": [],
   "source": [
    "class vehicle:\n",
    "    def __init__(self, name_of_vehicle, max_speed, average_of_vehicle):\n",
    "        self.name_of_vehicle = name_of_vehicle\n",
    "        self.max_speed = max_speed\n",
    "        self.average_of_vehicle = average_of_vehicle\n",
    "        \n",
    "class car(vehicle):\n",
    "    def seating_capacity(self, capacity):\n",
    "        return f'{self.name_of_vehicle} has a seating capacity of {capacity} people.'\n"
   ]
  },
  {
   "cell_type": "code",
   "execution_count": 23,
   "id": "f76cf405-1d6a-4a0f-bd38-19dbe10bfbda",
   "metadata": {},
   "outputs": [],
   "source": [
    "car1 = car('Sedan', 250, 20)\n",
    "car2 = car('SUV', 200, 15)"
   ]
  },
  {
   "cell_type": "code",
   "execution_count": 25,
   "id": "4f4c17b8-4955-4bb2-8079-d6ee6b91d2ee",
   "metadata": {},
   "outputs": [
    {
     "data": {
      "text/plain": [
       "'Sedan has a seating capacity of 5 people.'"
      ]
     },
     "execution_count": 25,
     "metadata": {},
     "output_type": "execute_result"
    }
   ],
   "source": [
    "car1.seating_capacity(5)"
   ]
  },
  {
   "cell_type": "code",
   "execution_count": 26,
   "id": "8147259a-a03d-4fec-8d1d-b7caae8e898b",
   "metadata": {},
   "outputs": [
    {
     "data": {
      "text/plain": [
       "'SUV has a seating capacity of 7 people.'"
      ]
     },
     "execution_count": 26,
     "metadata": {},
     "output_type": "execute_result"
    }
   ],
   "source": [
    "car2.seating_capacity(7)"
   ]
  },
  {
   "cell_type": "code",
   "execution_count": null,
   "id": "983685cb-06c7-4d3b-81d8-fa501ac7a90c",
   "metadata": {},
   "outputs": [],
   "source": []
  },
  {
   "cell_type": "markdown",
   "id": "3ae39bed-ec34-485f-a609-2780eefc609e",
   "metadata": {},
   "source": [
    "Q3. What is multiple inheritance? Write a python code to demonstrate multiple inheritance."
   ]
  },
  {
   "cell_type": "markdown",
   "id": "290ef867-ff85-4eb2-9706-447f4903a646",
   "metadata": {},
   "source": [
    "Ans. Multiple Inheritance:- It occurs when a subclass inherits from more than one superclass. Eg:-"
   ]
  },
  {
   "cell_type": "code",
   "execution_count": 27,
   "id": "49ee00f7-2c62-4418-a38e-e1d2f67f2b1a",
   "metadata": {},
   "outputs": [],
   "source": [
    "class Flying:\n",
    "    def fly(self):\n",
    "        pass\n",
    "class Swimming:\n",
    "    def swim(self):\n",
    "        pass\n",
    "class Swan(Flying, Swimming):\n",
    "    def fly(self):\n",
    "        return \"Yes, it can Fly\"\n",
    "    def swim(self):\n",
    "        return \"Yes, it can Swim\""
   ]
  },
  {
   "cell_type": "code",
   "execution_count": null,
   "id": "87dfe516-46e6-4ae1-a4d8-f9cd2d6a9539",
   "metadata": {},
   "outputs": [],
   "source": []
  },
  {
   "cell_type": "markdown",
   "id": "e3ffa8c6-76f1-4e22-9d21-a7538e80de89",
   "metadata": {},
   "source": [
    "Q4. What are getter and setter in python? Create a class and create a getter and a setter method in this class."
   ]
  },
  {
   "cell_type": "markdown",
   "id": "39171c1f-8f30-4d3f-bf7f-37df2662ae7a",
   "metadata": {},
   "source": [
    "Ans. In Python, getters and setters are methods used to control access to attributes of a class. They allow you to get and set the values of private or protected attributes while adding an additional layer of control or validation."
   ]
  },
  {
   "cell_type": "code",
   "execution_count": 36,
   "id": "4d441642-200e-4337-9664-b2e231448cf7",
   "metadata": {},
   "outputs": [],
   "source": [
    "class Student:\n",
    "    def __init__(self, name, age):\n",
    "        self.__name = name\n",
    "        self.__age = age\n",
    "\n",
    "    # Getter method for name\n",
    "    def get_name(self):\n",
    "        return self.__name\n",
    "\n",
    "    # Setter method for name\n",
    "    def set_name(self, name):\n",
    "        if len(name) > 0:\n",
    "            self.__name = name\n",
    "        else:\n",
    "            print(\"Name cannot be empty.\")\n",
    "\n",
    "    # Getter method for age\n",
    "    def get_age(self):\n",
    "        return self.__age\n",
    "\n",
    "    # Setter method for age\n",
    "    def set_age(self, age):\n",
    "        if age >= 0:\n",
    "            self.__age = age\n",
    "        else:\n",
    "            print(\"Age cannot be negative.\")"
   ]
  },
  {
   "cell_type": "code",
   "execution_count": 37,
   "id": "68340d6c-fdb4-4d05-a467-85ccd5e3a420",
   "metadata": {},
   "outputs": [],
   "source": [
    "student = Student(\"Alice\", 20)"
   ]
  },
  {
   "cell_type": "code",
   "execution_count": 38,
   "id": "ce4f6a62-3e34-4994-8989-e1b3af64635d",
   "metadata": {},
   "outputs": [
    {
     "data": {
      "text/plain": [
       "20"
      ]
     },
     "execution_count": 38,
     "metadata": {},
     "output_type": "execute_result"
    }
   ],
   "source": [
    "student.get_age()"
   ]
  },
  {
   "cell_type": "code",
   "execution_count": 39,
   "id": "1a88e27c-7ba1-4f45-9606-6f11d270bed3",
   "metadata": {},
   "outputs": [
    {
     "data": {
      "text/plain": [
       "'Alice'"
      ]
     },
     "execution_count": 39,
     "metadata": {},
     "output_type": "execute_result"
    }
   ],
   "source": [
    "student.get_name()"
   ]
  },
  {
   "cell_type": "code",
   "execution_count": null,
   "id": "89105236-4625-4d7e-b2bd-ff36eb25facc",
   "metadata": {},
   "outputs": [],
   "source": []
  },
  {
   "cell_type": "markdown",
   "id": "644a47c5-ef40-4c18-8725-671d10db7a75",
   "metadata": {},
   "source": [
    "Q5. What is method overriding in python? Write a python code to demonstrate method overriding."
   ]
  },
  {
   "cell_type": "markdown",
   "id": "4c1fc418-229f-4d4d-b284-fe0fd1763e11",
   "metadata": {},
   "source": [
    "Ans. Method overriding is a feature in object-oriented programming that allows a subclass to provide a specific implementation for a method that is already defined in its superclass. When a method is overridden, the subclass provides its own version of the method, which takes precedence over the version in the superclass when called on instances of the subclass."
   ]
  },
  {
   "cell_type": "code",
   "execution_count": 40,
   "id": "83912497-f0e5-4638-8c5e-3d10a11dd77e",
   "metadata": {},
   "outputs": [],
   "source": [
    "class Animal:\n",
    "    def speak(self):\n",
    "        print(\"Animal speaks.\")\n",
    "\n",
    "class Dog(Animal):\n",
    "    def speak(self):\n",
    "        print(\"Dog barks.\")\n",
    "\n",
    "class Cat(Animal):\n",
    "    def speak(self):\n",
    "        print(\"Cat meows.\")"
   ]
  },
  {
   "cell_type": "code",
   "execution_count": 41,
   "id": "a5d357ce-ce41-433f-9a86-1d307bd0e099",
   "metadata": {},
   "outputs": [],
   "source": [
    "dog = Dog()\n",
    "cat = Cat()"
   ]
  },
  {
   "cell_type": "code",
   "execution_count": 42,
   "id": "16d3fd1e-a492-4642-a0e6-abaa3cf405f4",
   "metadata": {},
   "outputs": [
    {
     "name": "stdout",
     "output_type": "stream",
     "text": [
      "Dog barks.\n",
      "Cat meows.\n"
     ]
    }
   ],
   "source": [
    "dog.speak() \n",
    "cat.speak()  "
   ]
  },
  {
   "cell_type": "markdown",
   "id": "61e8faca-561f-4553-830b-a6c0149addd0",
   "metadata": {},
   "source": [
    "In this example, we have a base class 'Animal' with a method 'speak'. Both the 'Dog' and 'Cat' subclasses inherit from 'Animal' and override the 'speak' method. When we create instances of 'Dog' and 'Cat' and call the 'speak' method, the overridden versions of the method in the respective subclasses are executed."
   ]
  },
  {
   "cell_type": "code",
   "execution_count": null,
   "id": "b4cb36c9-5bdf-4d7b-8c9d-55a390ca7758",
   "metadata": {},
   "outputs": [],
   "source": []
  }
 ],
 "metadata": {
  "kernelspec": {
   "display_name": "Python 3 (ipykernel)",
   "language": "python",
   "name": "python3"
  },
  "language_info": {
   "codemirror_mode": {
    "name": "ipython",
    "version": 3
   },
   "file_extension": ".py",
   "mimetype": "text/x-python",
   "name": "python",
   "nbconvert_exporter": "python",
   "pygments_lexer": "ipython3",
   "version": "3.10.8"
  }
 },
 "nbformat": 4,
 "nbformat_minor": 5
}
