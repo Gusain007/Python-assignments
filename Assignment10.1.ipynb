{
 "cells": [
  {
   "cell_type": "markdown",
   "id": "46775482-07c7-4348-876a-80a7f12432ea",
   "metadata": {},
   "source": [
    "Q1. What are the three measures of central tendency?"
   ]
  },
  {
   "cell_type": "markdown",
   "id": "1dc071ba-5f9e-44a0-8a41-36527535d65f",
   "metadata": {},
   "source": [
    "Ans. Measures of Central Tendency:\n",
    "\n",
    "(1) Mean - Describes the typical or average value in a dataset. It's sensitive to outliers and can be influenced by extreme values.\n",
    "Calculation: Sum of all data points divided by the number of data points.\n",
    "\n",
    "(2) Median - Represents the middle of the data distribution and is not affected by outliers, making it a robust measure of central tendency.\n",
    "Calculation: The middle value when the data is arranged in ascending or descending order.\n",
    " \n",
    "(2) Mode - Identifies the most common value, which can be especially useful for categorical or discrete data.\n",
    "Calculation: The most frequently occurring value in the dataset."
   ]
  },
  {
   "cell_type": "code",
   "execution_count": null,
   "id": "99df4cc0-80e3-4f4a-83a7-38f8fc2b65fc",
   "metadata": {},
   "outputs": [],
   "source": []
  },
  {
   "cell_type": "markdown",
   "id": "070231fe-f967-4dd9-b6d2-0ed583b3ef8d",
   "metadata": {},
   "source": [
    "Q2. What is the difference between the mean, median, and mode? How are they used to measure the\n",
    "central tendency of a dataset?"
   ]
  },
  {
   "cell_type": "markdown",
   "id": "3327137e-225e-43d2-8f2f-9b40be2b0f9f",
   "metadata": {},
   "source": [
    "Ans. The central tendency measure is defined as the number used to represent the center or middle of a set of data values. The three commonly used measures of central tendency are the mean, median, and mode. The mean is the average where the sum of all the numbers is divided by the total number of numbers, whereas the median is the middle value in the list of given numbers numerically ordered from smallest to biggest and mode is the value of the number which occurs most often in the list. "
   ]
  },
  {
   "cell_type": "code",
   "execution_count": null,
   "id": "b3dfd745-2550-4e09-b134-c1edc26692a1",
   "metadata": {},
   "outputs": [],
   "source": []
  },
  {
   "cell_type": "markdown",
   "id": "fdc1cc8b-8c04-4416-93bd-c1cf7d72af74",
   "metadata": {},
   "source": [
    "Q3. Measure the three measures of central tendency for the given height data:\n",
    "[178,177,176,177,178.2,178,175,179,180,175,178.9,176.2,177,172.5,178,176.5]"
   ]
  },
  {
   "cell_type": "markdown",
   "id": "e844dc61-954c-4024-966f-c21bbf81e731",
   "metadata": {},
   "source": [
    "Ans. Mean = 177.02\n",
    "Median = 177\n",
    "Mode = 177 and 178"
   ]
  },
  {
   "cell_type": "code",
   "execution_count": null,
   "id": "06e998e1-39fb-47c0-bcfd-997ff64afe7b",
   "metadata": {},
   "outputs": [],
   "source": []
  },
  {
   "cell_type": "markdown",
   "id": "680169e2-8ea4-4b10-81b9-0786b41654a1",
   "metadata": {},
   "source": [
    "Q4. Find the standard deviation for the given data:\n",
    "[178,177,176,177,178.2,178,175,179,180,175,178.9,176.2,177,172.5,178,176.5]"
   ]
  },
  {
   "cell_type": "markdown",
   "id": "90bd569c-3378-479f-a7ba-15b3364ff1d2",
   "metadata": {},
   "source": [
    "Ans. Standard Deviation ≈ √3.2089 ≈ 1.7915"
   ]
  },
  {
   "cell_type": "code",
   "execution_count": null,
   "id": "05509a8a-69de-44e6-b143-75ca9b130209",
   "metadata": {},
   "outputs": [],
   "source": []
  },
  {
   "cell_type": "markdown",
   "id": "d2e83aa8-3710-4bc8-8620-c025f3e51503",
   "metadata": {},
   "source": [
    "Q5. How are measures of dispersion such as range, variance, and standard deviation used to describe the spread of a dataset? Provide an example."
   ]
  },
  {
   "cell_type": "markdown",
   "id": "e1b88eca-e40b-472e-9705-468dfae217fb",
   "metadata": {},
   "source": [
    "Ans. Measures of dispersion, such as range, variance, and standard deviation, are used to describe the spread or variability of a dataset. They provide valuable information about how the data points are distributed around the central tendency (mean, median, or mode).\n",
    "\n",
    "Range: The range is the simplest measure of dispersion and represents the difference between the maximum and minimum values in a dataset. It gives you an idea of the overall spread of the data.\n",
    "Example: Consider a dataset of daily temperatures (in degrees Celsius) for a particular city in a month:\n",
    "[15, 17, 19, 21, 23, 24, 26, 28, 30, 32]\n",
    "Range = Maximum - Minimum = 32 - 15 = 17°C\n",
    "The range tells you that the temperatures vary by 17 degrees over the month.\n",
    "\n",
    "Variance: Variance calculates the average of the squared differences between each data point and the mean. It provides a more detailed understanding of how individual data points deviate from the mean. Higher variance indicates more spread.\n",
    "Example: Consider a dataset of test scores for a class of students:\n",
    "[85, 90, 92, 78, 88]\n",
    "Mean = (85 + 90 + 92 + 78 + 88) / 5 = 86.6\n",
    "Variance = [(85 - 86.6)^2 + (90 - 86.6)^2 + (92 - 86.6)^2 + (78 - 86.6)^2 + (88 - 86.6)^2] / 5 ≈ 26.24\n",
    "A higher variance indicates that the scores are more spread out from the mean.\n",
    "\n",
    "Standard Deviation: The standard deviation is the square root of the variance. It represents the average deviation of data points from the mean and is in the same unit as the data. A higher standard deviation implies greater variability.\n",
    "Example: Using the same dataset of test scores:\n",
    "Standard Deviation = √Variance ≈ √26.24 ≈ 5.12\n",
    "A standard deviation of approximately 5.12 means that, on average, the test scores deviate from the mean by about 5.12 points."
   ]
  },
  {
   "cell_type": "code",
   "execution_count": null,
   "id": "ef1da7e0-8248-4df4-b934-617d92ea4e16",
   "metadata": {},
   "outputs": [],
   "source": []
  },
  {
   "cell_type": "markdown",
   "id": "4df0d4ac-4520-471f-b6f0-8bcd7592c3e9",
   "metadata": {},
   "source": [
    "Q6. What is a Venn diagram?"
   ]
  },
  {
   "cell_type": "markdown",
   "id": "e6cab570-b597-4062-98ec-182aed6cf774",
   "metadata": {},
   "source": [
    "Ans. A Venn diagram is a graphical representation that shows the relationships between different sets or groups of objects. It is a useful tool in mathematics, logic, and various fields to visualize how different sets intersect or overlap.\n",
    "\n",
    "A Venn diagram consists of circles (or other shapes) that represent sets. Each circle represents a specific set, and the overlap between circles shows the elements that belong to more than one set. The non-overlapping parts of the circles represent the elements that are unique to each set.\n",
    "\n",
    "Venn diagrams are used to illustrate various set operations and concepts, such as union (elements that belong to at least one set), intersection (elements that belong to all sets), and complement (elements that belong to one set but not another). They are a valuable tool for organizing and analyzing data, solving problems, and conveying information about the relationships between different categories or groups."
   ]
  },
  {
   "cell_type": "code",
   "execution_count": null,
   "id": "265557b8-8323-4342-a1e0-569ede3d955d",
   "metadata": {},
   "outputs": [],
   "source": []
  },
  {
   "cell_type": "markdown",
   "id": "1b819c25-72df-43c6-abc4-997a9fa5e2a7",
   "metadata": {},
   "source": [
    "Q7. For the two given sets A = (2,3,4,5,6,7) & B = (0,2,6,8,10). Find:\n",
    "(i) A ∩ B\n",
    "(ii) A ⋃ B"
   ]
  },
  {
   "cell_type": "markdown",
   "id": "f553e53d-1f5e-4669-9aaf-fb0c3e0fc360",
   "metadata": {},
   "source": [
    "Ans. (i) A ∩ B (Intersection of A and B) = {2, 6}\n",
    "\n",
    "(ii) A ∪ B (Union of A and B):\n",
    "The union of two sets consists of all the unique elements from both sets combined.\n",
    "A ∪ B = {0, 2, 3, 4, 5, 6, 7, 8, 10}"
   ]
  },
  {
   "cell_type": "code",
   "execution_count": null,
   "id": "f1b4a708-06ca-4c36-92dd-7f77ffb85334",
   "metadata": {},
   "outputs": [],
   "source": []
  },
  {
   "cell_type": "markdown",
   "id": "817d7d81-9415-4477-82a4-2174d927af81",
   "metadata": {},
   "source": [
    "Q8. What do you understand about skewness in data?"
   ]
  },
  {
   "cell_type": "markdown",
   "id": "3a0e20ba-699a-4791-91b6-710e8fd4df7b",
   "metadata": {},
   "source": [
    "Ans. Skewness in data is a statistical measure that describes the asymmetry or lack of symmetry in the distribution of a dataset. In other words, it helps us understand the extent to which the data is skewed or deviates from a perfectly symmetrical distribution, such as a normal distribution (bell-shaped curve). Skewness is an important concept in statistics and data analysis because it provides insights into the shape of a dataset and can affect the choice of statistical methods and models used for analysis.\n",
    "\n",
    "There are three main types of skewness:\n",
    "\n",
    "Positive Skew (Right Skew):\n",
    "In a positively skewed distribution, the tail on the right side (the larger values) is longer or fatter than the left tail (the smaller values). The majority of the data points are concentrated on the left side of the distribution, while some high values extend the right tail. The mean is typically greater than the median in a positively skewed distribution.\n",
    "\n",
    "Negative Skew (Left Skew):\n",
    "In a negatively skewed distribution, the tail on the left side (the smaller values) is longer or fatter than the right tail (the larger values). The majority of the data points are concentrated on the right side of the distribution, while some low values extend the left tail. The mean is typically less than the median in a negatively skewed distribution.\n",
    "\n",
    "Zero Skew (Symmetrical):\n",
    "In a symmetrical distribution, there is no skewness. The left and right sides of the distribution are mirror images of each other. The mean and median are approximately equal in a symmetrical distribution, and the distribution is often close to a normal distribution."
   ]
  },
  {
   "cell_type": "code",
   "execution_count": null,
   "id": "b542c531-998b-4277-a1f3-405cb4b76752",
   "metadata": {},
   "outputs": [],
   "source": []
  },
  {
   "cell_type": "markdown",
   "id": "01ef0c21-0f72-45ba-b09a-5193972b4c7b",
   "metadata": {},
   "source": [
    "Q9. If a data is right skewed then what will be the position of median with respect to mean?"
   ]
  },
  {
   "cell_type": "markdown",
   "id": "67a46d5d-5066-4d77-860d-fed0f1f29ded",
   "metadata": {},
   "source": [
    "Ans. If a dataset is right-skewed, it means that the tail on the right side of the data distribution is longer or fatter than the left tail. In other words, there are some unusually high values in the data that are pulling the distribution to the right. When a dataset is right-skewed:\n",
    "The Mean (average) will be greater than the Median:\n",
    "The presence of the high values in the right tail of the distribution increases the arithmetic mean because these high values contribute significantly to the sum of the data points. As a result, the mean is typically greater than the median in a right-skewed distribution."
   ]
  },
  {
   "cell_type": "code",
   "execution_count": null,
   "id": "9b82275f-db03-4e0b-a1f2-192efb297753",
   "metadata": {},
   "outputs": [],
   "source": []
  },
  {
   "cell_type": "markdown",
   "id": "6f39cec0-ed73-452a-9e0b-f7f1f7fbe189",
   "metadata": {},
   "source": [
    "Q10. Explain the difference between covariance and correlation. How are these measures used in statistical analysis?"
   ]
  },
  {
   "cell_type": "markdown",
   "id": "4244a1f2-38e1-442b-ae1f-06ebe1c42830",
   "metadata": {},
   "source": [
    "Ans. Covariance and correlation are two statistical measures used to describe the relationship between two variables in a dataset. While they both provide insights into how variables change together, they have different properties and uses:\n",
    "\n",
    "Covariance:\n",
    "It is a measure of the degree to which two variables change together. It indicates whether an increase in one variable corresponds to an increase or decrease in another. A positive covariance indicates that the variables tend to move in the same direction, while a negative covariance indicates that they move in opposite directions.\n",
    "\n",
    "\n",
    "Correlation: \n",
    "It is a standardized measure that quantifies the strength and direction of the linear relationship between two variables. Unlike covariance, correlation is unitless and always falls within the range of -1 (perfect negative correlation) to 1 (perfect positive correlation), with 0 indicating no linear correlation.\n",
    "\n",
    "\n",
    "How they are used in statistical analysis:\n",
    "Covariance: Covariance is used to understand the relationship between two variables, but it doesn't provide a standardized measure, making it challenging to compare relationships between different pairs of variables. It's often used to identify whether two variables may be related and may be used in some machine learning algorithms and financial modeling.\n",
    "\n",
    "Correlation: Correlation is widely used in statistical analysis because it provides a standardized measure of the strength and direction of a linear relationship between two variables. It's useful for identifying and quantifying the degree of association between variables and is commonly used in fields like economics, social sciences, and data analysis. The Pearson correlation coefficient is the most common method, but there are other correlation coefficients for different types of relationships, such as Spearman's rank correlation for non-linear relationships."
   ]
  },
  {
   "cell_type": "code",
   "execution_count": null,
   "id": "9989cb64-1999-49d5-abf9-fe0d5ef4a602",
   "metadata": {},
   "outputs": [],
   "source": []
  },
  {
   "cell_type": "markdown",
   "id": "543b8029-1928-40a6-b334-fa7c99921b58",
   "metadata": {},
   "source": [
    "Q11. What is the formula for calculating the sample mean? Provide an example calculation for a dataset."
   ]
  },
  {
   "cell_type": "markdown",
   "id": "40ba865d-dacd-46fc-83ca-c7f8bf648584",
   "metadata": {},
   "source": [
    "Ans. The formula for calculating the sample mean (average) of a dataset is as follows:\n",
    "\n",
    "Sample Mean (X̄) = (Σx) / n\n",
    "\n",
    "Where:\n",
    "X̄ represents the sample mean (average).\n",
    "Σx represents the sum of all the individual data points in the dataset.\n",
    "n represents the number of data points in the dataset.\n",
    "\n",
    "Here's an example calculation for a simple dataset:\n",
    "Suppose you have the following dataset of daily temperatures in degrees Celsius for a week: 25, 26, 28, 30, 24, 27, 29.\n",
    "To find the sample mean (X̄) for this dataset, follow these steps:\n",
    "Add up all the data points: Σx = 25 + 26 + 28 + 30 + 24 + 27 + 29 = 189.\n",
    "Count the number of data points (n): In this case, there are 7 data points.\n",
    "Use the formula to calculate the sample mean: X̄ = Σx / n = 189 / 7 ≈ 27.\n",
    "\n",
    "So, the sample mean for the dataset is approximately 27 degrees Celsius. This means that, on average, the daily temperature for that week was around 27 degrees Celsius."
   ]
  },
  {
   "cell_type": "code",
   "execution_count": null,
   "id": "7a0ed815-2386-4a09-97f4-a036a547d2ed",
   "metadata": {},
   "outputs": [],
   "source": []
  },
  {
   "cell_type": "markdown",
   "id": "1f6f56b5-990e-475f-9a58-bbfaace9bd1e",
   "metadata": {},
   "source": [
    "Q12. For a normal distribution data what is the relationship between its measure of central tendency?"
   ]
  },
  {
   "cell_type": "markdown",
   "id": "21435c0d-34d7-4888-9024-ff20e1dad285",
   "metadata": {},
   "source": [
    "Ans. In a normal distribution, which is often referred to as a \"bell-shaped\" distribution, there is a specific relationship between its measures of central tendency, namely the mean, median, and mode. This relationship is as follows:\n",
    "\n",
    "Mean (μ): The mean of a normal distribution is located at the center of the distribution, and it is equal to the median. In a perfectly symmetrical normal distribution, the mean, median, and mode are all the same value and are located at the peak of the distribution's bell-shaped curve.\n",
    "\n",
    "Median: The median of a normal distribution is also located at the center of the distribution. As mentioned, in a perfectly symmetrical normal distribution, the median is equal to the mean, and they both coincide at the peak of the curve.\n",
    "\n",
    "Mode: The mode of a normal distribution is the value with the highest frequency or probability. In a normal distribution, the mode is also located at the center of the distribution and coincides with both the mean and median."
   ]
  },
  {
   "cell_type": "code",
   "execution_count": null,
   "id": "2d093993-cb08-45ed-92d8-4a9ca197980a",
   "metadata": {},
   "outputs": [],
   "source": []
  },
  {
   "cell_type": "markdown",
   "id": "db565d1b-42b5-4225-a31d-5d6cdcd0a8a5",
   "metadata": {},
   "source": [
    "Q13. How is covariance different from correlation?"
   ]
  },
  {
   "cell_type": "markdown",
   "id": "0ad14b27-2084-4526-a509-2f4ed0a65792",
   "metadata": {},
   "source": [
    "Ans. Covariance:\n",
    "Covariance is a measure of the degree to which two random variables change together. It indicates whether an increase in one variable corresponds to an increase or decrease in another. It can take on any real value, which makes it difficult to interpret in isolation. A positive covariance indicates a positive relationship, while a negative covariance indicates a negative relationship. However, the magnitude of covariance is not standardized, so it can't be used to compare the strength of relationships across different pairs of variables.\n",
    "\n",
    "Correlation:\n",
    "Correlation, on the other hand, is a standardized measure that quantifies the strength and direction of the linear relationship between two variables. It provides a value between -1 and 1, making it easier to compare and interpret. A correlation of 1 indicates a perfect positive linear relationship, a correlation of -1 indicates a perfect negative linear relationship, and a correlation of 0 suggests no linear relationship between the variables."
   ]
  },
  {
   "cell_type": "code",
   "execution_count": null,
   "id": "c1940247-8ffe-44f3-970b-68a6de3272a3",
   "metadata": {},
   "outputs": [],
   "source": []
  },
  {
   "cell_type": "markdown",
   "id": "81e313d9-9aa0-414f-ab45-124f6f250853",
   "metadata": {},
   "source": [
    "Q14. How do outliers affect measures of central tendency and dispersion? Provide an example."
   ]
  },
  {
   "cell_type": "markdown",
   "id": "572aa94d-873f-441f-a5f9-a1e563c4a745",
   "metadata": {},
   "source": [
    "Ans. Central tendency refers to measures like the mean, median, and mode, which describe the center or typical value of a data set. Dispersion measures, on the other hand, include measures like the range, variance, and standard deviation, which describe the spread or variability of the data. Outliers can distort these measures in the following ways:\n",
    "\n",
    "Measures of Central Tendency:\n",
    "a. Mean: Outliers, especially extreme ones, can pull the mean in their direction. For example, if you have a dataset of salaries in a small company, and one executive earns an exceptionally high salary, that outlier will inflate the mean salary for the entire company, making it appear higher than what most employees earn.\n",
    "\n",
    "b. Median: The median is less affected by outliers. It is the middle value when the data is sorted, so extreme outliers don't impact it as much. However, if an outlier is extreme enough, it can still skew the median.\n",
    "\n",
    "c. Mode: Outliers do not affect the mode, as it represents the most frequently occurring value in the data, and it is not sensitive to extreme values.\n",
    "\n",
    "Measures of Dispersion:\n",
    "a. Range: Outliers can have a significant impact on the range, which is the difference between the maximum and minimum values in a dataset. If there is an outlier at one extreme end of the data, the range will be much larger than it would be without the outlier.\n",
    "\n",
    "b. Variance and Standard Deviation: Outliers can inflate the variance and standard deviation, as these measures are based on the squared differences between data points and the mean. When squared, the differences are magnified, and extreme values have a substantial influence on these measures.\n",
    "\n",
    "Suppose you have a dataset representing the daily commute times (in minutes) of employees at a company:\n",
    "[15, 20, 25, 30, 35, 40, 45, 200]\n",
    "\n",
    "In this dataset, 200 is an outlier because it is significantly higher than the rest of the values. Let's see how this outlier affects the central tendency and dispersion measures:\n",
    "Mean: The mean commute time will be influenced by the outlier, making it much larger than the typical daily commute for employees. The mean, in this case, will be (15 + 20 + 25 + 30 + 35 + 40 + 45 + 200) / 8 = 57.125 minutes.\n",
    "\n",
    "Median: The median commute time is not significantly affected by the outlier because it represents the middle value. In this case, the median is 35 minutes.\n",
    "\n",
    "Range: The range will be greatly affected by the outlier, as it will be 200 (max) - 15 (min) = 185 minutes, which is much larger due to the outlier.\n",
    "\n",
    "Variance and Standard Deviation: The presence of the outlier will increase the variance and standard deviation, making them higher than they would be without the outlier."
   ]
  },
  {
   "cell_type": "code",
   "execution_count": null,
   "id": "5cb5ba70-4a0a-46b6-bb18-12f33bd87772",
   "metadata": {},
   "outputs": [],
   "source": []
  }
 ],
 "metadata": {
  "kernelspec": {
   "display_name": "Python 3 (ipykernel)",
   "language": "python",
   "name": "python3"
  },
  "language_info": {
   "codemirror_mode": {
    "name": "ipython",
    "version": 3
   },
   "file_extension": ".py",
   "mimetype": "text/x-python",
   "name": "python",
   "nbconvert_exporter": "python",
   "pygments_lexer": "ipython3",
   "version": "3.10.8"
  }
 },
 "nbformat": 4,
 "nbformat_minor": 5
}
