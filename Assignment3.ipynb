{
 "cells": [
  {
   "cell_type": "markdown",
   "id": "aa3f1f8f-de47-4183-883e-a095cd488359",
   "metadata": {},
   "source": [
    "Q1. Which keyword is used to create a function? Create a function to return a list of odd numbers in the\n",
    "range of 1 to 25."
   ]
  },
  {
   "cell_type": "markdown",
   "id": "7137ae3a-4a97-4c12-81d2-9679998d3f15",
   "metadata": {},
   "source": [
    "Ans.   'def' keyword is used to create a function. Syntax for creating a function is :-      def name():"
   ]
  },
  {
   "cell_type": "code",
   "execution_count": 3,
   "id": "e0a45880-3821-4c05-832e-4c065f130fe0",
   "metadata": {},
   "outputs": [],
   "source": [
    "def odd():\n",
    "    n=[]\n",
    "    for i in range(1,25):\n",
    "        if i%2==0:\n",
    "            x=i+1\n",
    "            n.append(x)\n",
    "    return n\n",
    "            "
   ]
  },
  {
   "cell_type": "code",
   "execution_count": 4,
   "id": "4ec5b1fc-43eb-4994-a938-dd0082746dd1",
   "metadata": {},
   "outputs": [
    {
     "data": {
      "text/plain": [
       "[3, 5, 7, 9, 11, 13, 15, 17, 19, 21, 23, 25]"
      ]
     },
     "execution_count": 4,
     "metadata": {},
     "output_type": "execute_result"
    }
   ],
   "source": [
    "odd()"
   ]
  },
  {
   "cell_type": "code",
   "execution_count": null,
   "id": "df981467-fd30-42c8-a2be-e19d636cabb8",
   "metadata": {},
   "outputs": [],
   "source": []
  },
  {
   "cell_type": "markdown",
   "id": "c538afab-948e-4f3c-b9c7-f0418f6723ee",
   "metadata": {},
   "source": [
    "Q2. Why *args and **kwargs is used in some functions? Create a function each for *args and **kwargs to\n",
    "demonstrate their use."
   ]
  },
  {
   "cell_type": "markdown",
   "id": "0cff0f18-789c-4d90-b30b-e98391fae7bc",
   "metadata": {},
   "source": [
    "Ans.   *args is used to pass 'n' number of arguments through a function. While **kwargs is used to pass 'n' number of keyword arguments (dictonary). Both *args and **kwargs makes a Python function flexible."
   ]
  },
  {
   "cell_type": "code",
   "execution_count": 10,
   "id": "f8a09a67-5cc3-4243-b9e3-014fa46e3949",
   "metadata": {},
   "outputs": [],
   "source": [
    "def funct1(*args):                 #example of *args function\n",
    "    n=[]\n",
    "    for i in args:\n",
    "        sq= i**2\n",
    "        n.append(sq)\n",
    "    return n\n",
    "    "
   ]
  },
  {
   "cell_type": "code",
   "execution_count": 11,
   "id": "b69ff865-6cb7-441f-85b2-1cd89cc15394",
   "metadata": {},
   "outputs": [
    {
     "data": {
      "text/plain": [
       "[1, 4, 9, 16, 25, 36, 49, 64, 81, 100]"
      ]
     },
     "execution_count": 11,
     "metadata": {},
     "output_type": "execute_result"
    }
   ],
   "source": [
    "funct1(1,2,3,4,5,6,7,8,9,10)         # because of the use of *args we can pass 'n' number of arguements through the function 'funct1'"
   ]
  },
  {
   "cell_type": "code",
   "execution_count": 27,
   "id": "2ba509c8-38fd-42bb-be0e-d86447b0dbfc",
   "metadata": {},
   "outputs": [],
   "source": [
    "def funct2(**kwargs):\n",
    "    for i in kwargs.keys():\n",
    "        if type(kwargs[i]) == complex :\n",
    "            return i, kwargs[i]"
   ]
  },
  {
   "cell_type": "code",
   "execution_count": 28,
   "id": "4b20050e-6a68-407d-9a1f-336fa0e58fdc",
   "metadata": {},
   "outputs": [
    {
     "data": {
      "text/plain": [
       "('a', (5+9j))"
      ]
     },
     "execution_count": 28,
     "metadata": {},
     "output_type": "execute_result"
    }
   ],
   "source": [
    "funct2(a = 5+9j, b = 45.5, c = 50, d = (1,2,3,4), e = [5,6,7,8])"
   ]
  },
  {
   "cell_type": "code",
   "execution_count": null,
   "id": "3f9d30cc-beb3-4f4c-bdfd-f8345fbc1a1e",
   "metadata": {},
   "outputs": [],
   "source": []
  },
  {
   "cell_type": "markdown",
   "id": "20736a9a-5509-46b6-a5d7-f87c19b55ceb",
   "metadata": {},
   "source": [
    "Q3. What is an iterator in python? Name the method used to initialise the iterator object and the method\n",
    "used for iteration. Use these methods to print the first five elements of the given list [2, 4, 6, 8, 10, 12, 14, 16, 18, 20]."
   ]
  },
  {
   "cell_type": "markdown",
   "id": "113268b6-81b2-4b78-b330-258ea07e68d7",
   "metadata": {},
   "source": [
    "Ans.   Iterators provide a way to access elements of a container one at a time without needing to know the underlying structure of the container. Iterators are used in constructs like loops, where you can repeatedly get the next element until there are no more elements left to retrieve. The two main methods associated with iterators are:\n",
    "iter(): This method is used to initialize an iterator object from an iterable.\n",
    "next(): This method is used for iteration. It retrieves the next item from the iterator."
   ]
  },
  {
   "cell_type": "code",
   "execution_count": 3,
   "id": "79c4a738-3b95-4187-84f6-e4f156e78ab3",
   "metadata": {},
   "outputs": [
    {
     "name": "stdout",
     "output_type": "stream",
     "text": [
      "2\n",
      "4\n",
      "6\n",
      "8\n",
      "10\n"
     ]
    }
   ],
   "source": [
    "L1 = [2, 4, 6, 8, 10, 12, 14, 16, 18, 20]\n",
    "\n",
    "iterator = iter(L1)      # Initialize an iterator object using iter()\n",
    "\n",
    "for i in range(5):\n",
    "    x = next(iterator)\n",
    "    print(x)"
   ]
  },
  {
   "cell_type": "code",
   "execution_count": null,
   "id": "22a108d4-7364-40ac-ae54-5f4262517969",
   "metadata": {},
   "outputs": [],
   "source": []
  },
  {
   "cell_type": "markdown",
   "id": "1d65d5ab-110d-459a-972b-98cf9446c743",
   "metadata": {},
   "source": [
    "Q4.   What is a generator function in python? Why yield keyword is used? Give an example of a generator\n",
    "function."
   ]
  },
  {
   "cell_type": "markdown",
   "id": "c2c5c692-9c12-41aa-aa05-9050058410ac",
   "metadata": {},
   "source": [
    "Ans.   A generator function in Python is a special type of function that returns an iterator, which can be used to generate a sequence of values lazily, one at a time, instead of generating all the values upfront and storing them in memory. Generator functions are particularly useful for working with large datasets.\n",
    "  The yield keyword is used in a generator function to indicate that the function should yield a value to the caller, but the function's state is preserved so that it can resume from where it left off when the next value is requested."
   ]
  },
  {
   "cell_type": "code",
   "execution_count": 8,
   "id": "e6c24b91-1651-4a0a-aa2a-e1478b3d5dcf",
   "metadata": {},
   "outputs": [
    {
     "name": "stdout",
     "output_type": "stream",
     "text": [
      "0\n",
      "1\n",
      "4\n",
      "9\n",
      "16\n"
     ]
    }
   ],
   "source": [
    "def sq(n):\n",
    "    for i in range(n):\n",
    "        yield i ** 2\n",
    "\n",
    "squares = sq(5)              # Create a generator object\n",
    "\n",
    "for x in squares:            # Iterate over the generated values\n",
    "    print(x)"
   ]
  },
  {
   "cell_type": "code",
   "execution_count": null,
   "id": "5792ae54-90fe-4482-a74a-9dfc73cf5d9a",
   "metadata": {},
   "outputs": [],
   "source": []
  },
  {
   "cell_type": "markdown",
   "id": "6a7d941c-e8ad-42b2-abc3-22d6686390ca",
   "metadata": {},
   "source": [
    "Q5.  Create a generator function for prime numbers less than 1000. Use the next() method to print the\n",
    "first 20 prime numbers."
   ]
  },
  {
   "cell_type": "code",
   "execution_count": 12,
   "id": "1d515305-4710-4e59-8825-76aa7eac9988",
   "metadata": {},
   "outputs": [
    {
     "name": "stdout",
     "output_type": "stream",
     "text": [
      "2\n",
      "3\n",
      "5\n",
      "7\n",
      "11\n",
      "13\n",
      "17\n",
      "19\n",
      "23\n",
      "29\n",
      "31\n",
      "37\n",
      "41\n",
      "43\n",
      "47\n",
      "53\n",
      "59\n",
      "61\n",
      "67\n",
      "71\n"
     ]
    }
   ],
   "source": [
    "def is_prime(num):\n",
    "    if num <= 1:\n",
    "        return False\n",
    "    if num <= 3:\n",
    "        return True\n",
    "    if num % 2 == 0 or num % 3 == 0:\n",
    "        return False\n",
    "    i = 5\n",
    "    while i * i <= num:\n",
    "        if num % i == 0 or num % (i + 2) == 0:\n",
    "            return False\n",
    "        i += 6\n",
    "    return True\n",
    "\n",
    "def prime_generator(limit):\n",
    "    num = 2\n",
    "    count = 0\n",
    "    while count < limit:\n",
    "        if is_prime(num):\n",
    "            yield num\n",
    "            count += 1\n",
    "        num += 1\n",
    "\n",
    "# Create a generator object\n",
    "prime_gen = prime_generator(20)\n",
    "\n",
    "# Print the first 20 prime numbers using next()\n",
    "for _ in range(20):\n",
    "    prime = next(prime_gen)\n",
    "    print(prime)"
   ]
  },
  {
   "cell_type": "code",
   "execution_count": null,
   "id": "5fdb2390-dc33-442a-a0cb-8d5d61d0f649",
   "metadata": {},
   "outputs": [],
   "source": []
  }
 ],
 "metadata": {
  "kernelspec": {
   "display_name": "Python 3 (ipykernel)",
   "language": "python",
   "name": "python3"
  },
  "language_info": {
   "codemirror_mode": {
    "name": "ipython",
    "version": 3
   },
   "file_extension": ".py",
   "mimetype": "text/x-python",
   "name": "python",
   "nbconvert_exporter": "python",
   "pygments_lexer": "ipython3",
   "version": "3.10.8"
  }
 },
 "nbformat": 4,
 "nbformat_minor": 5
}
