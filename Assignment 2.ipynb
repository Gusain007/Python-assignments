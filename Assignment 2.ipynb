{
 "cells": [
  {
   "cell_type": "markdown",
   "id": "19b9b978-d68e-4e51-9ea9-846aeacc9dba",
   "metadata": {},
   "source": [
    "Q1. How do you comment code in Python? What are the different types of comments?"
   ]
  },
  {
   "cell_type": "markdown",
   "id": "3d5dd9d3-49b4-49a2-b3ec-11e285a20b40",
   "metadata": {},
   "source": [
    "To comment code in Python we can use # in the starting of the comment or we can write the whole comment inside \"\"\"  \"\"\" and '''  '''. The comment helps in explaining Python code and makes it more readable. Following are the types of comments :-\n",
    "Single Line -  It is written after the hash symbol. Eg:- \n",
    "               #This is a single line comment\n",
    "Multi Line - It is written with the triple single quotation marks or double quotation marks. Eg:-\n",
    "             \"\"\" This is a\n",
    "                 multi line comment\"\"\"\n",
    "            ''' This is also a\n",
    "                 multi line comment'''\n",
    "\n"
   ]
  },
  {
   "cell_type": "code",
   "execution_count": null,
   "id": "8acb738b-ebc6-4473-8dcb-2649f4266203",
   "metadata": {},
   "outputs": [],
   "source": []
  },
  {
   "cell_type": "markdown",
   "id": "40615d77-b351-4968-8ead-480aacdcb368",
   "metadata": {},
   "source": [
    "Q2. What are variables in Python? How do you declare and assign values to variables?"
   ]
  },
  {
   "cell_type": "markdown",
   "id": "58c67616-1ff9-4c5a-b8ae-9313948fee97",
   "metadata": {},
   "source": [
    " Variables are symbolic names which are reference or pointer to an object. Once we assign an object to a variable, we can point to the object using that variable. Variables can alphabets, alphanumeric or a combination of alphabet/alphanumeric and underscore. For eg. abc, ABC, A01, b2, A_, a1_ etc.\n",
    " In Python we don't need to declare a data type to a variable because the data type is declared automatically when we assign a value to the variable. We use an assignment operator i.e. '=' to assign a value to the variable. Eg:- a=10, b=\"Abhi\", c=10+5j etc."
   ]
  },
  {
   "cell_type": "code",
   "execution_count": null,
   "id": "27a52d13-e229-4e0f-a71b-3886b8fc2a63",
   "metadata": {},
   "outputs": [],
   "source": []
  },
  {
   "cell_type": "markdown",
   "id": "5984a718-bf3a-4f87-a675-de141e5d6619",
   "metadata": {},
   "source": [
    "Q3. How do you convert one data type to another in Python?"
   ]
  },
  {
   "cell_type": "markdown",
   "id": "4ba7d4d6-e448-4b16-ad7e-e6336c1e6a6f",
   "metadata": {},
   "source": [
    "Type conversion is the direct conversion of one data type to another. There are two types of type conversions in python :-\n",
    "Implicit type conversion - this is that type of conversion in which the interpreter converts one data type to another. For eg. addition of an int value and float value will result in float value.\n",
    "Explicit type conversion - in this type conversion the data type is converted by the user according to their will. Eg. :-"
   ]
  },
  {
   "cell_type": "code",
   "execution_count": 28,
   "id": "b97757c9-5e6d-4624-a14d-725fadc3e3dd",
   "metadata": {},
   "outputs": [
    {
     "data": {
      "text/plain": [
       "float"
      ]
     },
     "execution_count": 28,
     "metadata": {},
     "output_type": "execute_result"
    }
   ],
   "source": [
    "A = 10 \n",
    "B = float(A)\n",
    "type(B)"
   ]
  },
  {
   "cell_type": "code",
   "execution_count": null,
   "id": "07122153-1c68-4a23-bd0a-bdd85c5f2bff",
   "metadata": {},
   "outputs": [],
   "source": []
  },
  {
   "cell_type": "markdown",
   "id": "5fe0796e-03da-4a6e-962f-db3a8ee1a13b",
   "metadata": {},
   "source": [
    "Q4. How do you write and execute a Python script from the command line?"
   ]
  },
  {
   "cell_type": "markdown",
   "id": "025050d3-4464-4b17-9c15-3df99320fc55",
   "metadata": {},
   "source": [
    "We can write Python programs by using any plain text editor. By convention this file will be saved by the .py extension. To run Python scripts with the python command, we need to open a command-line and type in the word python followed by the path to the script. If everything works okay, press Enter and see the output of the code on the screen. That's how Python script is executed from command line."
   ]
  },
  {
   "cell_type": "code",
   "execution_count": null,
   "id": "c946562e-39cf-480c-b65a-ce3242d1e7d9",
   "metadata": {},
   "outputs": [],
   "source": []
  },
  {
   "cell_type": "markdown",
   "id": "fa8f000e-d955-4aac-9ac8-836c68f53836",
   "metadata": {},
   "source": [
    "Q5. Given a list my_list = [1, 2, 3, 4, 5], write the code to slice the list and obtain the sub-list [2, 3]."
   ]
  },
  {
   "cell_type": "code",
   "execution_count": 29,
   "id": "a51dab74-bb7b-4b94-bf6d-c9ee4d75ce99",
   "metadata": {},
   "outputs": [
    {
     "data": {
      "text/plain": [
       "[2, 3]"
      ]
     },
     "execution_count": 29,
     "metadata": {},
     "output_type": "execute_result"
    }
   ],
   "source": [
    "my_list = [1, 2, 3, 4, 5]\n",
    "my_list[1:3]"
   ]
  },
  {
   "cell_type": "code",
   "execution_count": null,
   "id": "ef6a8a13-76ba-448b-a443-699fec0d7721",
   "metadata": {},
   "outputs": [],
   "source": []
  },
  {
   "cell_type": "markdown",
   "id": "24364c3b-05d3-4af8-b432-822bc63b8ebf",
   "metadata": {},
   "source": [
    "Q6. What is a complex number in mathematics, and how is it represented in Python"
   ]
  },
  {
   "cell_type": "markdown",
   "id": "e21b78d0-0f6c-40bd-94b9-b882befcb319",
   "metadata": {},
   "source": [
    "Complex numbers are the numbers which have both real and imaginary part. It is expressed in the form of x+iy where, x and y are real numbers and 'i' is an imaginary number called “iota”.\n",
    "But in Python complex numbers are represented as x+jy where, x and y are real parts and 'j' is an imaginary number. For eg. :-"
   ]
  },
  {
   "cell_type": "code",
   "execution_count": 33,
   "id": "535e5022-bf88-46f6-9a8c-4d3d7c8c244f",
   "metadata": {},
   "outputs": [
    {
     "data": {
      "text/plain": [
       "10.0"
      ]
     },
     "execution_count": 33,
     "metadata": {},
     "output_type": "execute_result"
    }
   ],
   "source": [
    "a = 10 + 7j\n",
    "a.real"
   ]
  },
  {
   "cell_type": "code",
   "execution_count": null,
   "id": "604763b9-dd70-491e-b5a4-a1fb55707395",
   "metadata": {},
   "outputs": [],
   "source": []
  },
  {
   "cell_type": "markdown",
   "id": "58ccc989-fbba-4fbe-8991-6d6d56189f0d",
   "metadata": {},
   "source": [
    "Q7. What is the correct way to declare a variable named age and assign the value 25 to it?\n"
   ]
  },
  {
   "cell_type": "code",
   "execution_count": 34,
   "id": "f932122f-4300-43da-af0b-dcde70940f14",
   "metadata": {},
   "outputs": [
    {
     "name": "stdout",
     "output_type": "stream",
     "text": [
      "25\n"
     ]
    }
   ],
   "source": [
    "age = 25      # Here assignment operator '=' does the work of assigning value '25' to the variable 'age'\n",
    "print(age)"
   ]
  },
  {
   "cell_type": "code",
   "execution_count": null,
   "id": "16c4e859-63af-4197-b6f0-3b0f530b0aed",
   "metadata": {},
   "outputs": [],
   "source": []
  },
  {
   "cell_type": "markdown",
   "id": "5fe6ccf2-3d6a-49ec-812b-330f2b26c34b",
   "metadata": {},
   "source": [
    "Q8. Declare a variable named price and assign the value 9.99 to it. What data type does this variable\n",
    "belong to?\n"
   ]
  },
  {
   "cell_type": "code",
   "execution_count": 36,
   "id": "9abd4f9a-ae9a-4085-b65e-1f6cd9f815e9",
   "metadata": {},
   "outputs": [
    {
     "data": {
      "text/plain": [
       "float"
      ]
     },
     "execution_count": 36,
     "metadata": {},
     "output_type": "execute_result"
    }
   ],
   "source": [
    "price = 9.99     # this is float value\n",
    "type(price)    "
   ]
  },
  {
   "cell_type": "code",
   "execution_count": null,
   "id": "edaea474-57a7-4ff3-aa16-5e0810a9128d",
   "metadata": {},
   "outputs": [],
   "source": []
  },
  {
   "cell_type": "markdown",
   "id": "cd19cb3d-2f8c-4400-a2ed-b35b5df995b5",
   "metadata": {},
   "source": [
    "Q9. Create a variable named name and assign your full name to it as a string. How would you print the\n",
    "value of this variable?\n"
   ]
  },
  {
   "cell_type": "code",
   "execution_count": 39,
   "id": "579d2de9-edb2-476c-af7a-52ff73e5dd45",
   "metadata": {},
   "outputs": [
    {
     "name": "stdout",
     "output_type": "stream",
     "text": [
      "Abhishek Gusain\n"
     ]
    }
   ],
   "source": [
    "name = \"Abhishek Gusain\"  # string is stored to 'name'\n",
    "print(name)   # printing the value of variable 'name'"
   ]
  },
  {
   "cell_type": "code",
   "execution_count": null,
   "id": "2c480cad-8967-424f-acba-0d38a8762c4d",
   "metadata": {},
   "outputs": [],
   "source": []
  },
  {
   "cell_type": "markdown",
   "id": "22ca1d84-e403-4475-b0e4-4476e0a9fa9a",
   "metadata": {},
   "source": [
    "Q10. Given the string \"Hello, World!\", extract the substring \"World\".\n"
   ]
  },
  {
   "cell_type": "code",
   "execution_count": 45,
   "id": "92a8d1b0-bb37-416d-91ab-608cb77f5bee",
   "metadata": {},
   "outputs": [
    {
     "data": {
      "text/plain": [
       "'World'"
      ]
     },
     "execution_count": 45,
     "metadata": {},
     "output_type": "execute_result"
    }
   ],
   "source": [
    "a = \"Hello World!\"\n",
    "a[6:11]   #printing the required substring"
   ]
  },
  {
   "cell_type": "code",
   "execution_count": null,
   "id": "35651206-7964-406a-9103-113fd51aa41e",
   "metadata": {},
   "outputs": [],
   "source": []
  },
  {
   "cell_type": "markdown",
   "id": "766f63cc-a356-4dc1-8629-fb4fa598245b",
   "metadata": {},
   "source": [
    "Q11. Create a variable named \"is_student\" and assign it a boolean value indicating whether you are\n",
    "currently a student or not."
   ]
  },
  {
   "cell_type": "code",
   "execution_count": 73,
   "id": "c6232811-ac23-45eb-ad9e-58ead9d25670",
   "metadata": {},
   "outputs": [
    {
     "name": "stdout",
     "output_type": "stream",
     "text": [
      "Student\n"
     ]
    }
   ],
   "source": [
    "is_student = True\n",
    "if is_student == 1:\n",
    "    print(\"Student\")\n",
    "else :\n",
    "    print(\"Not a student\")"
   ]
  },
  {
   "cell_type": "code",
   "execution_count": null,
   "id": "625dac77-9e78-413d-afd5-04f0b464558e",
   "metadata": {},
   "outputs": [],
   "source": []
  }
 ],
 "metadata": {
  "kernelspec": {
   "display_name": "Python 3 (ipykernel)",
   "language": "python",
   "name": "python3"
  },
  "language_info": {
   "codemirror_mode": {
    "name": "ipython",
    "version": 3
   },
   "file_extension": ".py",
   "mimetype": "text/x-python",
   "name": "python",
   "nbconvert_exporter": "python",
   "pygments_lexer": "ipython3",
   "version": "3.10.8"
  }
 },
 "nbformat": 4,
 "nbformat_minor": 5
}
