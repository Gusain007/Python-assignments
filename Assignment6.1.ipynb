{
 "cells": [
  {
   "cell_type": "markdown",
   "id": "e3a5ce34-e2e1-4a9b-ae8b-d67bfe00e7bc",
   "metadata": {},
   "source": [
    "Q1. What is MongoDB? Explain non-relational databases in short. In which scenarios it is preferred to use MongoDB over SQL databases?"
   ]
  },
  {
   "cell_type": "markdown",
   "id": "c886026c-77f2-47f3-a72c-0a20dc7a5c24",
   "metadata": {},
   "source": [
    "Ans. MongoDB is a popular open-source NoSQL database management system that is designed to store and manage unstructured or semi-structured data. It is part of the broader category of non-relational databases.\n",
    "Non-relational databases, often called NoSQL databases, are a category of database systems that store and manage data in flexible, non-tabular formats, such as documents, key-value pairs, or graphs. They offer flexibility, scalability, and are well-suited for unstructured or semi-structured data, making them ideal for modern applications.\n",
    "MongoDB is preferred over SQL databases in scenarios where data needs are more flexible, and scalability and rapid development are critical. It's an excellent choice for applications dealing with unstructured or semi-structured data, such as social media platforms, content management systems, and real-time analytics. MongoDB's document-oriented structure allows developers to store data in a way that closely mirrors their application's object model, reducing the need for complex data mappings. It excels at handling high write throughput and can easily scale horizontally to accommodate growing data volumes and user loads."
   ]
  },
  {
   "cell_type": "code",
   "execution_count": null,
   "id": "74a0fa78-2035-42ee-b04c-a239e6120aec",
   "metadata": {},
   "outputs": [],
   "source": []
  },
  {
   "cell_type": "markdown",
   "id": "98657a35-ae36-4ced-9750-aa7e927a1d0c",
   "metadata": {},
   "source": [
    "Q2. State and Explain the features of MongoDB."
   ]
  },
  {
   "cell_type": "markdown",
   "id": "e47d0bae-c8f3-4382-bf39-a25227992e51",
   "metadata": {},
   "source": [
    "Ans. Following are the features of MongoDB:\n",
    "\n",
    "Flexible Schema: This means you can store documents in the database without defining a predefined structure, making it well-suited for semi-structured and unstructured data.\n",
    "\n",
    "JSON-like Documents: MongoDB stores data in BSON (Binary JSON) format, which is similar to JSON. This format is both human-readable and efficient for storage and retrieval.\n",
    "\n",
    "Scalability: MongoDB offers horizontal scalability, allowing you to distribute data across multiple servers or clusters. This is crucial for handling large datasets and high traffic loads.\n",
    "\n",
    "Replication: MongoDB supports replica sets, providing data redundancy and high availability. In the event of a primary node failure, one of the replicas can take over as the new primary.\n",
    "\n",
    "Geospatial Queries: MongoDB has built-in support for geospatial data and queries, making it suitable for location-based applications.\n",
    "\n",
    "Full-Text Search: MongoDB offers full-text search capabilities, allowing for efficient text-based searching within documents.\n",
    "\n",
    "Security: MongoDB provides security features like authentication, authorization, and encryption to protect data and restrict access to authorized users.\n",
    "\n",
    "Drivers and Ecosystem: MongoDB has a rich ecosystem of official and community-supported drivers for various programming languages, making it accessible to a wide range of developers."
   ]
  },
  {
   "cell_type": "code",
   "execution_count": null,
   "id": "359086e2-88c7-4f8b-af88-5a1ee4699291",
   "metadata": {},
   "outputs": [],
   "source": []
  },
  {
   "cell_type": "markdown",
   "id": "65c8851c-13f1-4697-972b-7eb2c8e49ef0",
   "metadata": {},
   "source": [
    "Q3. Write a code to connect MongoDB to Python. Also, create a database and a collection in MongoDB."
   ]
  },
  {
   "cell_type": "markdown",
   "id": "074e3b14-8383-4cb0-95d8-bea0343b8cc7",
   "metadata": {},
   "source": [
    "Ans.\n",
    "\n",
    "pip install pymongo  #First install pymongo using pip\n",
    "\n",
    "import pymongo\n",
    "\n",
    "# Replace these with your MongoDB connection details\n",
    "mongo_uri = \"mongodb://localhost:27017/\"\n",
    "database_name = \"mydatabase\"\n",
    "collection_name = \"mycollection\"\n",
    "\n",
    "# Create a MongoDB client\n",
    "client = pymongo.MongoClient(mongo_uri)\n",
    "\n",
    "# Access or create a database\n",
    "db = client[database_name]\n",
    "\n",
    "# Access or create a collection\n",
    "collection = db[collection_name]\n",
    "\n",
    "# Insert a document into the collection\n",
    "document = {\n",
    "    \"name\": \"John Doe\",\n",
    "    \"email\": \"johndoe@example.com\",\n",
    "    \"age\": 30\n",
    "}\n",
    "\n",
    "# Insert the document into the collection\n",
    "insert_result = collection.insert_one(document)\n",
    "\n",
    "# Print the inserted document's ID\n",
    "print(\"Inserted document ID:\", insert_result.inserted_id)\n",
    "\n",
    "# Close the MongoDB connection\n",
    "client.close()"
   ]
  },
  {
   "cell_type": "code",
   "execution_count": null,
   "id": "a279be8a-d5e0-4942-be8f-13a8e6701674",
   "metadata": {},
   "outputs": [],
   "source": []
  },
  {
   "cell_type": "markdown",
   "id": "4f7fe07b-213f-4ccc-80be-0d96957c1787",
   "metadata": {},
   "source": [
    "Q4. Using the database and the collection created in question number 3, write a code to insert one record, and insert many records. Use the find() and find_one() methods to print the inserted record."
   ]
  },
  {
   "cell_type": "markdown",
   "id": "6839fcb1-03b9-45b5-975c-b7c4a84f5ca9",
   "metadata": {},
   "source": [
    "Ans.\n",
    "\n",
    "import pymongo\n",
    "\n",
    "# Replace these with your MongoDB connection details\n",
    "mongo_uri = \"mongodb://localhost:27017/\"\n",
    "database_name = \"mydatabase\"\n",
    "collection_name = \"mycollection\"\n",
    "\n",
    "# Create a MongoDB client\n",
    "client = pymongo.MongoClient(mongo_uri)\n",
    "\n",
    "# Access the database and collection\n",
    "db = client[database_name]\n",
    "collection = db[collection_name]\n",
    "\n",
    "# Insert one record\n",
    "record_one = {\n",
    "    \"name\": \"Slice\",\n",
    "    \"email\": \"slice@example.com\",\n",
    "    \"age\": 55\n",
    "}\n",
    "collection.insert_one(record_one)\n",
    "\n",
    "# Insert many records\n",
    "records_many = [\n",
    "    {\n",
    "        \"name\": \"Bob\",\n",
    "        \"email\": \"bob@example.com\",\n",
    "        \"age\": 30\n",
    "    },\n",
    "    {\n",
    "        \"name\": \"Charlie\",\n",
    "        \"email\": \"charlie@example.com\",\n",
    "        \"age\": 35\n",
    "    },\n",
    "    {\n",
    "        \"name\": \"David\",\n",
    "        \"email\": \"david@example.com\",\n",
    "        \"age\": 40\n",
    "    }\n",
    "]\n",
    "collection.insert_many(records_many)\n",
    "\n",
    "# Print the inserted records using find() and find_one()\n",
    "print(\"Inserted records:\")\n",
    "for record in collection.find():\n",
    "    print(record)\n",
    "\n",
    "# Find and print one specific record\n",
    "specific_record = collection.find_one({\"name\": \"Slice\"})\n",
    "print(\"\\nFind one record:\")\n",
    "print(specific_record)\n",
    "\n",
    "# Close the MongoDB connection\n",
    "client.close()\n"
   ]
  },
  {
   "cell_type": "markdown",
   "id": "133bbe3b-ff4b-4e7b-a9c6-29a75a107e5a",
   "metadata": {},
   "source": [
    "Q5. Explain how you can use the find() method to query the MongoDB database. Write a simple code to demonstrate this."
   ]
  },
  {
   "cell_type": "markdown",
   "id": "13921e07-42bf-440f-83dd-3fb5aa2bcb74",
   "metadata": {},
   "source": [
    "Ans.\n",
    "\n",
    "import pymongo\n",
    "\n",
    "# Replace these with your MongoDB connection details\n",
    "mongo_uri = \"mongodb://localhost:27017/\"\n",
    "database_name = \"mydatabase\"\n",
    "collection_name = \"mycollection\"\n",
    "\n",
    "# Create a MongoDB client\n",
    "client = pymongo.MongoClient(mongo_uri)\n",
    "\n",
    "# Access the database and collection\n",
    "db = client[database_name]\n",
    "collection = db[collection_name]\n",
    "\n",
    "# Insert some sample data (for demonstration purposes)\n",
    "sample_data = [\n",
    "    {\"name\": \"Slice\", \"age\": 25},\n",
    "    {\"name\": \"Shobby\", \"age\": 30},\n",
    "    {\"name\": \"Suman\", \"age\": 35},\n",
    "    {\"name\": \"Dravid\", \"age\": 40},\n",
    "]\n",
    "\n",
    "collection.insert_many(sample_data)\n",
    "\n",
    "# Using the find() method to query the database\n",
    "# Find all documents in the collection\n",
    "all_documents = collection.find()\n",
    "\n",
    "print(\"All documents in the collection:\")\n",
    "for document in all_documents:\n",
    "    print(document)\n",
    "\n",
    "# Find documents that match specific criteria\n",
    "criteria = {\"age\": {\"$gte\": 30}}  # Find documents where age is greater than or equal to 30\n",
    "filtered_documents = collection.find(criteria)\n",
    "\n",
    "print(\"\\nFiltered documents:\")\n",
    "for document in filtered_documents:\n",
    "    print(document)\n",
    "\n",
    "# Close the MongoDB connection\n",
    "client.close()\n"
   ]
  },
  {
   "cell_type": "code",
   "execution_count": null,
   "id": "d8da81a8-f4b6-4615-9dc6-8634a8687422",
   "metadata": {},
   "outputs": [],
   "source": []
  },
  {
   "cell_type": "markdown",
   "id": "73086621-f851-4be0-9ab2-e446418e9747",
   "metadata": {},
   "source": [
    "Q6. Explain the sort() method. Give an example to demonstrate sorting in MongoDB."
   ]
  },
  {
   "cell_type": "markdown",
   "id": "24e5e880-f161-4c47-b5ff-1e0aca6bfda5",
   "metadata": {},
   "source": [
    "Ans. In MongoDB, the sort() method is used to sort the documents in the result set of a query. You can specify one or more fields by which the documents should be sorted and whether the sorting should be in ascending (ascending order, 1) or descending (descending order, -1) order for each field."
   ]
  },
  {
   "cell_type": "markdown",
   "id": "2ae97847-95f4-403c-b85f-78f46e7b56f0",
   "metadata": {},
   "source": [
    "import pymongo\n",
    "\n",
    "# Replace these with your MongoDB connection details\n",
    "mongo_uri = \"mongodb://localhost:27017/\"\n",
    "database_name = \"mydatabase\"\n",
    "collection_name = \"employees\"\n",
    "\n",
    "# Create a MongoDB client\n",
    "client = pymongo.MongoClient(mongo_uri)\n",
    "\n",
    "# Access the database and collection\n",
    "db = client[database_name]\n",
    "collection = db[collection_name]\n",
    "\n",
    "# Query and sort employees by age in ascending order\n",
    "sorted_employees = collection.find().sort(\"age\", 1)\n",
    "\n",
    "# Print the sorted employees\n",
    "print(\"Sorted employees by age (ascending):\")\n",
    "for employee in sorted_employees:\n",
    "    print(employee)\n",
    "\n",
    "# Close the MongoDB connection\n",
    "client.close()"
   ]
  },
  {
   "cell_type": "code",
   "execution_count": null,
   "id": "b5776fb0-11c2-4fb1-a718-a914e6ad5390",
   "metadata": {},
   "outputs": [],
   "source": []
  },
  {
   "cell_type": "markdown",
   "id": "6ca97390-3d12-4907-8922-a358ad9f3430",
   "metadata": {},
   "source": [
    "Q7. Explain why delete_one(), delete_many(), and drop() is used."
   ]
  },
  {
   "cell_type": "markdown",
   "id": "41446665-c7c4-4453-bf09-a87beacb0baa",
   "metadata": {},
   "source": [
    "Ans. delete_one(filter): This method is used to delete a single document that matches a specified filter (query) from a collection.\n",
    "Usage: delete_one(filter)\n",
    "\n",
    "delete_one(filter): This method is used to delete a single document that matches a specified filter (query) from a collection.\n",
    "Usage: delete_one(filter)\n",
    "\n",
    "drop(): This method is used to completely remove an entire collection from the database, including all its documents and indexes.\n",
    "Usage: drop()"
   ]
  },
  {
   "cell_type": "code",
   "execution_count": null,
   "id": "0daa42bb-dbbd-4f96-ae67-c856197403b2",
   "metadata": {},
   "outputs": [],
   "source": []
  },
  {
   "cell_type": "code",
   "execution_count": null,
   "id": "62a47c07-cc36-4d22-8f4d-ba04ae0cf5ee",
   "metadata": {},
   "outputs": [],
   "source": []
  },
  {
   "cell_type": "code",
   "execution_count": null,
   "id": "70b15dc6-a79b-4bbd-aa0d-8464ece5986c",
   "metadata": {},
   "outputs": [],
   "source": []
  },
  {
   "cell_type": "code",
   "execution_count": null,
   "id": "313ddb18-4091-4226-bbb2-094cb0bbae8a",
   "metadata": {},
   "outputs": [],
   "source": []
  },
  {
   "cell_type": "code",
   "execution_count": null,
   "id": "58d270ff-a3df-4e88-beeb-9a301f492278",
   "metadata": {},
   "outputs": [],
   "source": []
  }
 ],
 "metadata": {
  "kernelspec": {
   "display_name": "Python 3 (ipykernel)",
   "language": "python",
   "name": "python3"
  },
  "language_info": {
   "codemirror_mode": {
    "name": "ipython",
    "version": 3
   },
   "file_extension": ".py",
   "mimetype": "text/x-python",
   "name": "python",
   "nbconvert_exporter": "python",
   "pygments_lexer": "ipython3",
   "version": "3.10.8"
  }
 },
 "nbformat": 4,
 "nbformat_minor": 5
}
