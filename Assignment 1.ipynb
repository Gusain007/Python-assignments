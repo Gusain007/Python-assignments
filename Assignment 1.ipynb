{
 "cells": [
  {
   "cell_type": "markdown",
   "id": "33080faf-4131-498f-a78a-725b00da3b9d",
   "metadata": {},
   "source": [
    "Q1. Create one variable containing following type of data:"
   ]
  },
  {
   "cell_type": "code",
   "execution_count": null,
   "id": "d1a562f3-5973-4364-a688-93a5cda3d1ad",
   "metadata": {},
   "outputs": [],
   "source": [
    "(i) string"
   ]
  },
  {
   "cell_type": "code",
   "execution_count": 1,
   "id": "cc82fe9c-7cda-4de4-b047-5ab25a721efd",
   "metadata": {},
   "outputs": [],
   "source": [
    "a = \"spring\""
   ]
  },
  {
   "cell_type": "code",
   "execution_count": 2,
   "id": "4e6d9fab-b252-401d-96d6-4ada54305b9d",
   "metadata": {},
   "outputs": [
    {
     "data": {
      "text/plain": [
       "str"
      ]
     },
     "execution_count": 2,
     "metadata": {},
     "output_type": "execute_result"
    }
   ],
   "source": [
    "type (a)"
   ]
  },
  {
   "cell_type": "markdown",
   "id": "b5406e3e-8432-4f66-afd0-7dddb4e70115",
   "metadata": {},
   "source": [
    "(ii) list"
   ]
  },
  {
   "cell_type": "code",
   "execution_count": 6,
   "id": "cad65ec0-af8e-4bee-b505-3df68166c0db",
   "metadata": {},
   "outputs": [],
   "source": [
    "b = [1,2,3,4, \"Abhi\", 2 + 5j, \"Gusain\"]"
   ]
  },
  {
   "cell_type": "code",
   "execution_count": 10,
   "id": "475b88c2-dfe4-41fe-bd9d-8ad53ae0618a",
   "metadata": {},
   "outputs": [
    {
     "data": {
      "text/plain": [
       "list"
      ]
     },
     "execution_count": 10,
     "metadata": {},
     "output_type": "execute_result"
    }
   ],
   "source": [
    "type (b)"
   ]
  },
  {
   "cell_type": "markdown",
   "id": "ea098c09-7c97-46b7-8138-1413d067f626",
   "metadata": {},
   "source": [
    "(iii) float"
   ]
  },
  {
   "cell_type": "code",
   "execution_count": 11,
   "id": "60932d6f-7334-49a2-a369-a64aee173f29",
   "metadata": {},
   "outputs": [],
   "source": [
    "c = 27.95"
   ]
  },
  {
   "cell_type": "code",
   "execution_count": 12,
   "id": "828eb447-558c-4596-b190-357149f301b9",
   "metadata": {},
   "outputs": [
    {
     "data": {
      "text/plain": [
       "float"
      ]
     },
     "execution_count": 12,
     "metadata": {},
     "output_type": "execute_result"
    }
   ],
   "source": [
    "type (c)"
   ]
  },
  {
   "cell_type": "markdown",
   "id": "33d95c28-d313-4df8-96f1-637e53f45939",
   "metadata": {},
   "source": [
    "(iv) tuple"
   ]
  },
  {
   "cell_type": "code",
   "execution_count": 13,
   "id": "fe48087b-7d41-4395-b0ee-dc66cbc949e5",
   "metadata": {},
   "outputs": [],
   "source": [
    "d = (1,2,3,4, 'Abhi', 3 + 9j, \"Gusain\")"
   ]
  },
  {
   "cell_type": "code",
   "execution_count": 14,
   "id": "454558dc-8775-473b-9f49-49e9ee7b957b",
   "metadata": {},
   "outputs": [
    {
     "data": {
      "text/plain": [
       "tuple"
      ]
     },
     "execution_count": 14,
     "metadata": {},
     "output_type": "execute_result"
    }
   ],
   "source": [
    "type (d)"
   ]
  },
  {
   "cell_type": "code",
   "execution_count": null,
   "id": "b42c3bf0-fe01-4c70-8d29-67ced22738d9",
   "metadata": {},
   "outputs": [],
   "source": []
  },
  {
   "cell_type": "markdown",
   "id": "2619af37-407e-4cb8-9d53-53212d6e265e",
   "metadata": {},
   "source": [
    "Q2. Given are some following variables containing data:\n",
    "What will be the data type of the above given variable."
   ]
  },
  {
   "cell_type": "markdown",
   "id": "8a5b6520-c58f-49a0-be53-c01f9ce615ad",
   "metadata": {},
   "source": [
    "(i) var1 = ‘ ‘      - it will have a string data type"
   ]
  },
  {
   "cell_type": "code",
   "execution_count": 15,
   "id": "f7d671bd-279d-477f-81b5-60038b2118c5",
   "metadata": {},
   "outputs": [],
   "source": [
    "var1 = ' '"
   ]
  },
  {
   "cell_type": "code",
   "execution_count": 16,
   "id": "bb54ffc1-1a9e-4e26-b1cc-8640b9e984bb",
   "metadata": {},
   "outputs": [
    {
     "data": {
      "text/plain": [
       "str"
      ]
     },
     "execution_count": 16,
     "metadata": {},
     "output_type": "execute_result"
    }
   ],
   "source": [
    "type (var1)"
   ]
  },
  {
   "cell_type": "markdown",
   "id": "fd258d2d-645f-4b69-a538-711b6b15b984",
   "metadata": {},
   "source": [
    "(ii) var2 = ‘[ DS , ML , Python]’     - it will have a string data type"
   ]
  },
  {
   "cell_type": "code",
   "execution_count": 17,
   "id": "478335b6-042a-4453-a297-b5971a76b8f3",
   "metadata": {},
   "outputs": [],
   "source": [
    "var2 = '[DS, ML, Python]'"
   ]
  },
  {
   "cell_type": "code",
   "execution_count": 18,
   "id": "4a9e58a5-305d-4c00-8856-40316968ab0d",
   "metadata": {},
   "outputs": [
    {
     "data": {
      "text/plain": [
       "str"
      ]
     },
     "execution_count": 18,
     "metadata": {},
     "output_type": "execute_result"
    }
   ],
   "source": [
    "type (var2)"
   ]
  },
  {
   "cell_type": "markdown",
   "id": "53e47fad-b837-4f8f-89e1-6e5204a8ed91",
   "metadata": {},
   "source": [
    "(iii) var3 = [ ‘DS’ , ’ML’ , ‘Python’ ]       - it will have a list data type"
   ]
  },
  {
   "cell_type": "code",
   "execution_count": 19,
   "id": "34dd730b-c1e8-4c3d-9091-ba7b1f7b0419",
   "metadata": {},
   "outputs": [],
   "source": [
    "var3 = ['DS', 'ML', 'Python']"
   ]
  },
  {
   "cell_type": "code",
   "execution_count": 20,
   "id": "b6a949ed-eca5-457a-a447-88caec17bcf3",
   "metadata": {},
   "outputs": [
    {
     "data": {
      "text/plain": [
       "list"
      ]
     },
     "execution_count": 20,
     "metadata": {},
     "output_type": "execute_result"
    }
   ],
   "source": [
    "type (var3)"
   ]
  },
  {
   "cell_type": "markdown",
   "id": "5b51a7d1-0edb-4178-847c-2d2b4798e65c",
   "metadata": {},
   "source": [
    "(iv) var4 = 1.          - it will have a float data type"
   ]
  },
  {
   "cell_type": "code",
   "execution_count": 21,
   "id": "0617fd87-cedc-4ada-9278-4307c11c6d97",
   "metadata": {},
   "outputs": [],
   "source": [
    "var4 = 1."
   ]
  },
  {
   "cell_type": "code",
   "execution_count": 22,
   "id": "e6c6fabe-9bef-4702-823c-b0da5d183a3c",
   "metadata": {},
   "outputs": [
    {
     "data": {
      "text/plain": [
       "float"
      ]
     },
     "execution_count": 22,
     "metadata": {},
     "output_type": "execute_result"
    }
   ],
   "source": [
    "type (var4)"
   ]
  },
  {
   "cell_type": "code",
   "execution_count": null,
   "id": "babcc374-0fa9-441f-bc72-11bb731ef00a",
   "metadata": {},
   "outputs": [],
   "source": []
  },
  {
   "cell_type": "markdown",
   "id": "b84390eb-39a8-4ef7-baa4-8c9c595e654d",
   "metadata": {},
   "source": [
    "Q3. Explain the use of the following operators using an example:"
   ]
  },
  {
   "cell_type": "markdown",
   "id": "d5a14926-5c73-40d5-b386-dfcd35afaee6",
   "metadata": {},
   "source": [
    "(i) /         "
   ]
  },
  {
   "cell_type": "code",
   "execution_count": 23,
   "id": "2eb6789f-1743-4e80-aa93-11d2f6dd6ca0",
   "metadata": {},
   "outputs": [
    {
     "data": {
      "text/plain": [
       "5.0"
      ]
     },
     "execution_count": 23,
     "metadata": {},
     "output_type": "execute_result"
    }
   ],
   "source": [
    "100/20       #This is a Division operator"
   ]
  },
  {
   "cell_type": "markdown",
   "id": "523e7765-d4b2-47c8-b418-0eb14f312822",
   "metadata": {},
   "source": [
    "(ii) %        "
   ]
  },
  {
   "cell_type": "code",
   "execution_count": 24,
   "id": "553009fb-3e64-4227-805e-1ad107a827b6",
   "metadata": {},
   "outputs": [
    {
     "data": {
      "text/plain": [
       "1"
      ]
     },
     "execution_count": 24,
     "metadata": {},
     "output_type": "execute_result"
    }
   ],
   "source": [
    "100%11       #This is a Modulus operator"
   ]
  },
  {
   "cell_type": "markdown",
   "id": "f7ebb023-ecbb-4cf4-b9ac-55ce8871de5f",
   "metadata": {},
   "source": [
    "(iii) //      \n"
   ]
  },
  {
   "cell_type": "code",
   "execution_count": 25,
   "id": "3dfd2a38-80d7-4868-a671-714d4df9202e",
   "metadata": {},
   "outputs": [
    {
     "data": {
      "text/plain": [
       "9"
      ]
     },
     "execution_count": 25,
     "metadata": {},
     "output_type": "execute_result"
    }
   ],
   "source": [
    "100//11       #This is a Floor Division operator"
   ]
  },
  {
   "cell_type": "markdown",
   "id": "cb8d22d1-ad14-4e1f-bbb4-d3b42831b3c8",
   "metadata": {},
   "source": [
    "(iv) **      \n"
   ]
  },
  {
   "cell_type": "code",
   "execution_count": 26,
   "id": "54d7ffc6-92fe-4377-ae43-b5b7ba4c7435",
   "metadata": {},
   "outputs": [
    {
     "data": {
      "text/plain": [
       "1000"
      ]
     },
     "execution_count": 26,
     "metadata": {},
     "output_type": "execute_result"
    }
   ],
   "source": [
    "10**3          #This is a Exponentiation operator"
   ]
  },
  {
   "cell_type": "code",
   "execution_count": null,
   "id": "3156137a-cdad-4b25-9d4d-3d95825176ff",
   "metadata": {},
   "outputs": [],
   "source": []
  },
  {
   "cell_type": "markdown",
   "id": "ef9b4aed-030f-4fa2-a973-0d3b00f65d51",
   "metadata": {},
   "source": [
    "Q4. Create a list of length 10 of your choice containing multiple types of data. Using for loop print the element and its data type."
   ]
  },
  {
   "cell_type": "code",
   "execution_count": 28,
   "id": "40e1a43a-cf4a-4ba0-810f-e1314178ddad",
   "metadata": {},
   "outputs": [
    {
     "name": "stdout",
     "output_type": "stream",
     "text": [
      "1\n",
      "2\n",
      "3\n",
      "4\n",
      "Abhi\n",
      "Gusain\n",
      "(5+9j)\n"
     ]
    }
   ],
   "source": [
    "f = [1,2,3,4,\"Abhi\", 'Gusain', 5 + 9j]\n",
    "for i in f :\n",
    "    print (i)"
   ]
  },
  {
   "cell_type": "code",
   "execution_count": null,
   "id": "ed0b9420-0732-4a93-8ca8-50d8cdf6674e",
   "metadata": {},
   "outputs": [],
   "source": []
  },
  {
   "cell_type": "markdown",
   "id": "c24e96a4-c4e0-4b7e-853d-3055515394bb",
   "metadata": {},
   "source": [
    "Q5. Using a while loop, verify if the number A is purely divisible by number B and if so then how many\n",
    "times it can be divisible."
   ]
  },
  {
   "cell_type": "code",
   "execution_count": 40,
   "id": "257392fa-3eae-4818-a8af-4ade7558cf98",
   "metadata": {
    "jupyter": {
     "source_hidden": true
    },
    "tags": []
   },
   "outputs": [
    {
     "name": "stdout",
     "output_type": "stream",
     "text": [
      "Enter value of A\n"
     ]
    },
    {
     "name": "stdin",
     "output_type": "stream",
     "text": [
      " 50\n"
     ]
    },
    {
     "name": "stdout",
     "output_type": "stream",
     "text": [
      "Enter value of B\n"
     ]
    },
    {
     "name": "stdin",
     "output_type": "stream",
     "text": [
      " 10\n"
     ]
    },
    {
     "name": "stdout",
     "output_type": "stream",
     "text": [
      "A is divisible by B\n",
      "5.0\n",
      "times\n"
     ]
    }
   ],
   "source": [
    "print(\"Enter value of A\")\n",
    "A = int(input())\n",
    "print(\"Enter value of B\")\n",
    "B = int(input())\n",
    "\n",
    "while B< A :\n",
    "    if A % B == 0 :\n",
    "        i = A/B\n",
    "        print (\"A is divisible by B\")\n",
    "        print (i)\n",
    "        print (\"times\")\n",
    "        break\n",
    "    else :\n",
    "        print (\"B is not divisible by A\")\n",
    "        break"
   ]
  },
  {
   "cell_type": "code",
   "execution_count": null,
   "id": "85ec2649-e135-4867-85b7-67ac9386e4f9",
   "metadata": {},
   "outputs": [],
   "source": []
  },
  {
   "cell_type": "markdown",
   "id": "d5311390-5cb1-4114-989c-87d8f95b6a71",
   "metadata": {},
   "source": [
    "Q6. Create a list containing 25 int type data. Using for loop and if-else condition print if the element is\n",
    "divisible by 3 or not."
   ]
  },
  {
   "cell_type": "code",
   "execution_count": 43,
   "id": "5d55ba52-9293-4ebc-9ed6-b0d70ed331d5",
   "metadata": {},
   "outputs": [
    {
     "name": "stdout",
     "output_type": "stream",
     "text": [
      "3\n",
      "6\n",
      "9\n",
      "12\n",
      "15\n",
      "18\n",
      "21\n",
      "24\n"
     ]
    }
   ],
   "source": [
    "j = [1,2,3,4,5,6,7,8,9,10,11,12,13,14,15,16,17,18,19,20,21,22,23,24,25]\n",
    "for k in j :\n",
    "    if k % 3 == 0 :\n",
    "        print(k)\n",
    "        continue\n",
    "    else :\n",
    "        continue"
   ]
  },
  {
   "cell_type": "code",
   "execution_count": null,
   "id": "63d246fe-32bb-435f-b8d6-39fcb6502570",
   "metadata": {},
   "outputs": [],
   "source": []
  },
  {
   "cell_type": "markdown",
   "id": "1302183a-4abb-4403-8972-098bef931187",
   "metadata": {},
   "source": [
    "Q7. What do you understand about mutable and immutable data types? Give examples for both showing this property."
   ]
  },
  {
   "cell_type": "markdown",
   "id": "31f5405e-b35f-4f8b-9172-6d17293ca000",
   "metadata": {},
   "source": [
    "Mutable is when something is changeable or has the ability to change. In Python, ‘mutable’ is the ability of objects to change their values. These are often the objects that store a collection of data. Eg. list, dict, set"
   ]
  },
  {
   "cell_type": "code",
   "execution_count": 2,
   "id": "3af411c5-59ef-41cf-a8eb-58e3ab3ee5cf",
   "metadata": {},
   "outputs": [],
   "source": [
    "l = [5,6,7,8,9+2j, \"Swaraj\", 'Disney']  "
   ]
  },
  {
   "cell_type": "code",
   "execution_count": 3,
   "id": "658b88a1-8b2f-428a-95e9-48920055673d",
   "metadata": {},
   "outputs": [
    {
     "data": {
      "text/plain": [
       "list"
      ]
     },
     "execution_count": 3,
     "metadata": {},
     "output_type": "execute_result"
    }
   ],
   "source": [
    "type (l)"
   ]
  },
  {
   "cell_type": "code",
   "execution_count": 4,
   "id": "29dc9bb9-360a-42ff-87fd-45ff63e2fb82",
   "metadata": {},
   "outputs": [
    {
     "data": {
      "text/plain": [
       "'Swaraj'"
      ]
     },
     "execution_count": 4,
     "metadata": {},
     "output_type": "execute_result"
    }
   ],
   "source": [
    "l[5]"
   ]
  },
  {
   "cell_type": "code",
   "execution_count": 5,
   "id": "67d46b3b-ffa7-43af-8115-087eb0839297",
   "metadata": {},
   "outputs": [],
   "source": [
    "l[5] = 1000"
   ]
  },
  {
   "cell_type": "code",
   "execution_count": 6,
   "id": "c6e08702-fced-4236-9ac6-630b0853e52a",
   "metadata": {},
   "outputs": [
    {
     "data": {
      "text/plain": [
       "[5, 6, 7, 8, (9+2j), 1000, 'Disney']"
      ]
     },
     "execution_count": 6,
     "metadata": {},
     "output_type": "execute_result"
    }
   ],
   "source": [
    "l        #checking if the data has been replaced at l[5] index i.e checking mutability"
   ]
  },
  {
   "cell_type": "markdown",
   "id": "59413e7f-0de4-4f9d-8698-00c256a4f5cf",
   "metadata": {},
   "source": [
    "Immutable objects are of in-built datatypes like int, float, bool, string, Unicode, and tuple. In simple words, an immutable object can’t be changed after it is created. "
   ]
  },
  {
   "cell_type": "code",
   "execution_count": 7,
   "id": "c4361990-8053-4c59-8632-323465540e62",
   "metadata": {},
   "outputs": [],
   "source": [
    "m = (5,6,7,8,9+2j, \"Swaraj\", 'Disney')    #immutability example"
   ]
  },
  {
   "cell_type": "code",
   "execution_count": 8,
   "id": "66b45075-acd2-4aba-871a-70fa77708962",
   "metadata": {},
   "outputs": [
    {
     "data": {
      "text/plain": [
       "tuple"
      ]
     },
     "execution_count": 8,
     "metadata": {},
     "output_type": "execute_result"
    }
   ],
   "source": [
    "type (m)"
   ]
  },
  {
   "cell_type": "code",
   "execution_count": 9,
   "id": "02c9429d-b116-4027-9dd1-3da888cc8cac",
   "metadata": {},
   "outputs": [
    {
     "data": {
      "text/plain": [
       "'Swaraj'"
      ]
     },
     "execution_count": 9,
     "metadata": {},
     "output_type": "execute_result"
    }
   ],
   "source": [
    "m[5]"
   ]
  },
  {
   "cell_type": "code",
   "execution_count": 10,
   "id": "36c94215-69de-4254-8c4d-aeee0ef19f92",
   "metadata": {},
   "outputs": [
    {
     "ename": "TypeError",
     "evalue": "'tuple' object does not support item assignment",
     "output_type": "error",
     "traceback": [
      "\u001b[0;31m---------------------------------------------------------------------------\u001b[0m",
      "\u001b[0;31mTypeError\u001b[0m                                 Traceback (most recent call last)",
      "Cell \u001b[0;32mIn[10], line 1\u001b[0m\n\u001b[0;32m----> 1\u001b[0m \u001b[43mm\u001b[49m\u001b[43m[\u001b[49m\u001b[38;5;241;43m5\u001b[39;49m\u001b[43m]\u001b[49m \u001b[38;5;241m=\u001b[39m \u001b[38;5;241m1000\u001b[39m\n",
      "\u001b[0;31mTypeError\u001b[0m: 'tuple' object does not support item assignment"
     ]
    }
   ],
   "source": [
    "m[5] = 1000    #checking if data can be replaced at the m[5] index i.e checking mutability"
   ]
  },
  {
   "cell_type": "code",
   "execution_count": null,
   "id": "7b6b2c6b-651b-4a41-82b5-fe3d97921a60",
   "metadata": {},
   "outputs": [],
   "source": []
  }
 ],
 "metadata": {
  "kernelspec": {
   "display_name": "Python 3 (ipykernel)",
   "language": "python",
   "name": "python3"
  },
  "language_info": {
   "codemirror_mode": {
    "name": "ipython",
    "version": 3
   },
   "file_extension": ".py",
   "mimetype": "text/x-python",
   "name": "python",
   "nbconvert_exporter": "python",
   "pygments_lexer": "ipython3",
   "version": "3.10.8"
  }
 },
 "nbformat": 4,
 "nbformat_minor": 5
}
