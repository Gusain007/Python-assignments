{
 "cells": [
  {
   "cell_type": "markdown",
   "id": "5bf4703b-2dd9-47d5-b006-37253f7f179e",
   "metadata": {},
   "source": [
    "Q1. What is multithreading in python? Why is it used? Name the module used to handle threads in python."
   ]
  },
  {
   "cell_type": "markdown",
   "id": "1b708f51-5d62-4ed8-b59b-158ddb442d8b",
   "metadata": {},
   "source": [
    "Ans. Multithreading in Python refers to the concurrent execution of multiple threads within a single Python program. A thread is a lightweight sub-process that can execute independently, sharing the same memory space as the parent process. Python's multithreading is used to achieve concurrency, which can help improve the performance of certain types of programs, particularly those that involve I/O-bound or parallelizable tasks.\n",
    "Multithreading is useful when you want to perform tasks concurrently to take advantage of multiple CPU cores or when you need to perform non-blocking I/O operations, such as reading and writing files, network communication, or handling multiple user interactions simultaneously.\n",
    "Python provides the 'threading' module in the standard library to handle threads. You can use this module to create and manage threads in your Python programs. It provides a high-level, object-oriented API for creating and controlling threads, making it relatively easy to work with threads in Python."
   ]
  },
  {
   "cell_type": "code",
   "execution_count": null,
   "id": "d1e506bc-6c7a-483f-a5f0-c093334a80d0",
   "metadata": {},
   "outputs": [],
   "source": []
  },
  {
   "cell_type": "markdown",
   "id": "5eba6225-5e8c-4a35-bb64-e9196f1bc741",
   "metadata": {},
   "source": [
    "Q2. Why threading module used? Write the use of the following functions\n",
    "1 activeCount()\n",
    "2 currentThread()\n",
    "3 enumerate()"
   ]
  },
  {
   "cell_type": "markdown",
   "id": "4da39875-1cde-402b-9487-4ac330a715ee",
   "metadata": {},
   "source": [
    "Ans. The threading module in Python is used for creating and managing threads in a Python program. It provides a high-level interface for working with threads, allowing you to create, start, stop, and synchronize threads easily.\n",
    "(1) activeCount() - This function is used to retrieve the current number of Thread objects that are active (i.e., not yet terminated). It returns the count of all Thread objects, including the main thread. It can be useful for monitoring the overall activity of threads in your program.\n",
    "\n",
    "(2) currentThread() - This function returns a reference to the currently executing Thread object, allowing you to access information about the thread, such as its name and ID.\n",
    "\n",
    "(3) enumerate() - This function returns a list of all active Thread objects. It is useful for obtaining a list of all currently running threads so that you can perform actions on them or monitor their status."
   ]
  },
  {
   "cell_type": "code",
   "execution_count": null,
   "id": "5eefdafd-8479-437b-9ddf-7e41cc9208a0",
   "metadata": {},
   "outputs": [],
   "source": []
  },
  {
   "cell_type": "markdown",
   "id": "9d9ddc0d-9036-49c2-9422-b5d041c78b3e",
   "metadata": {},
   "source": [
    "Q3. Explain the following functions\n",
    "1 run()\n",
    "2 start()\n",
    "3 join()\n",
    "4 isAlive()"
   ]
  },
  {
   "cell_type": "markdown",
   "id": "d1b849be-66e9-46c2-b7ee-d3105ff47c4b",
   "metadata": {},
   "source": [
    "Ans. \n",
    "(1) run() - The run() method is not directly called by the programmer; instead, it's meant to be overridden in a subclass of the threading.Thread class. When you create a new thread by subclassing threading.Thread, you typically override the run() method in your subclass to define the code that the thread will execute. This method represents the entry point for the thread's execution.\n",
    "\n",
    "(2) start() - The start() method is used to start the execution of a thread. It causes the run() method (if overridden) to be executed in a separate thread of control. You should always call start() to initiate thread execution, rather than calling the run() method directly, as start() handles the necessary thread setup and management.\n",
    "\n",
    "(3) join() - The join() method is used to wait for a thread to finish its execution before continuing with the rest of the program. When you call join() on a thread, the program will pause and wait for that thread to complete. This is useful when you need to ensure that certain threads finish before proceeding with the main program logic.\n",
    "\n",
    "(4) isAlive() - The isAlive() method is used to check whether a thread is currently running or if it has completed its execution. It returns True if the thread is still active (running or has not started yet), and False if the thread has finished."
   ]
  },
  {
   "cell_type": "code",
   "execution_count": null,
   "id": "a7e66d59-f430-49c6-948a-eafc0dc45614",
   "metadata": {},
   "outputs": [],
   "source": []
  },
  {
   "cell_type": "markdown",
   "id": "c69f0b54-4d32-4ea0-842c-4bd7b92221a7",
   "metadata": {},
   "source": [
    "Q4. Write a python program to create two threads. Thread one must print the list of squares and thread two must print the list of cubes."
   ]
  },
  {
   "cell_type": "code",
   "execution_count": 1,
   "id": "10126205-6415-49bc-9bab-75bdb91e14df",
   "metadata": {},
   "outputs": [
    {
     "name": "stdout",
     "output_type": "stream",
     "text": [
      "Square of 1 is 1\n",
      "Square of 2 is 4\n",
      "Square of 3 is 9\n",
      "Square of 4 is 16\n",
      "Square of 5 is 25\n",
      "Cube of 1 is 1\n",
      "Cube of 2 is 8\n",
      "Cube of 3 is 27\n",
      "Cube of 4 is 64\n",
      "Cube of 5 is 125\n",
      "Both threads have finished.\n"
     ]
    }
   ],
   "source": [
    "import threading\n",
    "\n",
    "# Function to print squares of numbers\n",
    "def print_squares():\n",
    "    for i in range(1, 6):\n",
    "        print(f\"Square of {i} is {i**2}\")\n",
    "\n",
    "# Function to print cubes of numbers\n",
    "def print_cubes():\n",
    "    for i in range(1, 6):\n",
    "        print(f\"Cube of {i} is {i**3}\")\n",
    "\n",
    "# Create two threads\n",
    "thread1 = threading.Thread(target=print_squares)\n",
    "thread2 = threading.Thread(target=print_cubes)\n",
    "\n",
    "# Start the threads\n",
    "thread1.start()\n",
    "thread2.start()\n",
    "\n",
    "# Wait for both threads to finish\n",
    "thread1.join()\n",
    "thread2.join()\n",
    "\n",
    "print(\"Both threads have finished.\")"
   ]
  },
  {
   "cell_type": "code",
   "execution_count": null,
   "id": "6b3f2c6a-545d-4ea5-96ea-e8d9f066a761",
   "metadata": {},
   "outputs": [],
   "source": []
  },
  {
   "cell_type": "markdown",
   "id": "5bd712d8-339b-44c6-a179-64965051e78c",
   "metadata": {},
   "source": [
    "Q5. State advantages and disadvantages of multithreading"
   ]
  },
  {
   "cell_type": "markdown",
   "id": "3f5130e7-40f8-47bf-a276-448109c29a82",
   "metadata": {},
   "source": [
    "Ans. \n",
    "Advantages of Multithreading:-\n",
    "(1) Improved Performance: Multithreading can lead to enhanced performance in certain situations, particularly for I/O-bound and parallelizable tasks. By executing multiple threads concurrently on multi-core processors, you can potentially achieve better CPU utilization and faster task execution.\n",
    "\n",
    "(2) Responsiveness: Multithreading can help make a program more responsive, especially in user interface applications. It allows tasks like user input handling and background processing to run concurrently, ensuring that the application remains responsive to user actions.\n",
    "\n",
    "(3) Resource Sharing: Threads within the same process can share resources such as memory space, reducing the overhead of inter-process communication (IPC). This makes it easier to exchange data and state between threads.\n",
    "\n",
    "(4) Simplified Code: In some cases, multithreading can simplify the code structure. Tasks that need to be performed concurrently can be encapsulated within separate threads, leading to a more modular and maintainable codebase.\n",
    "\n",
    "Disadvantages of Multithreading:-\n",
    "(1) Complexity: Multithreaded programming is inherently more complex than single-threaded programming. Dealing with synchronization, data sharing, and thread safety can introduce subtle bugs and make code harder to understand and maintain.\n",
    "\n",
    "(2) Race Conditions: Race conditions occur when multiple threads access shared data concurrently, potentially leading to unpredictable and incorrect behavior. Avoiding race conditions requires careful synchronization, which can be error-prone.\n",
    "\n",
    "(3) Deadlocks: Deadlocks can occur when two or more threads are waiting for each other to release resources, causing the entire program to freeze. Detecting and resolving deadlocks can be challenging.\n",
    "\n",
    "(4) Overhead: Creating and managing threads comes with some overhead, both in terms of memory usage and CPU cycles. In some cases, the overhead of thread creation and context switching may outweigh the performance benefits of multithreading.\n",
    "\n",
    "(5) Global Interpreter Lock (GIL): In Python and some other languages, the Global Interpreter Lock (GIL) can limit the effectiveness of multithreading for CPU-bound tasks. The GIL allows only one thread to execute Python bytecode at a time, restricting true parallelism.\n",
    "\n",
    "(6) Debugging: Debugging multithreaded programs can be challenging due to the non-deterministic nature of thread scheduling. Bugs may not always reproduce consistently.\n",
    "\n"
   ]
  },
  {
   "cell_type": "code",
   "execution_count": null,
   "id": "ee8fe876-b908-47f2-bcdc-5f8aed341163",
   "metadata": {},
   "outputs": [],
   "source": []
  },
  {
   "cell_type": "markdown",
   "id": "d885dd6e-34b6-4911-a8ae-c652fa2a4d6f",
   "metadata": {},
   "source": [
    "Q6. Explain deadlocks and race conditions."
   ]
  },
  {
   "cell_type": "markdown",
   "id": "917887c2-722d-4d0b-bea7-f5eb5af93292",
   "metadata": {},
   "source": [
    "Ans. Deadlock:\n",
    "\n",
    "A deadlock is a situation in which two or more threads or processes are unable to proceed with their execution because each is waiting for the other(s) to release a resource they need. This leads to a standstill in the program, where no progress can be made, and the threads become unresponsive. Deadlocks can be challenging to detect and resolve. They typically involve the following conditions, known as the \"four necessary conditions for deadlock\":\n",
    "\n",
    "(1) Mutual Exclusion: At least one resource must be held in a manner that prevents other threads from accessing it. This means that the resource cannot be used by multiple threads simultaneously.\n",
    "\n",
    "(2) Hold and Wait: A thread must already hold one resource and be waiting to acquire another resource that is held by another thread.\n",
    "\n",
    "(3) No Preemption: Resources cannot be forcibly taken away from a thread; they can only be released voluntarily.\n",
    "\n",
    "(4) Circular Wait: There must be a circular chain of threads, each waiting for a resource held by the next thread in the chain.\n",
    "\n",
    "To prevent deadlocks, various techniques and strategies can be employed, such as resource allocation policies, deadlock detection algorithms, and deadlock avoidance techniques like using timeouts or ordering resources.\n",
    "\n",
    "Race Condition:\n",
    "\n",
    "A race condition occurs when the behavior of a program depends on the relative timing of events, typically the execution of multiple threads or processes, and the outcome of the program becomes unpredictable or unintended. Race conditions can lead to incorrect program behavior, data corruption, or crashes. They arise when multiple threads access shared resources concurrently, and at least one of the threads modifies the resource.\n",
    "\n",
    "Common examples of race conditions include:\n",
    "\n",
    "(1) Read-Modify-Write Operations: When multiple threads read and modify a shared variable simultaneously, the final value of the variable can be unexpected.\n",
    "\n",
    "(2) File Access: When multiple threads write to the same file without proper synchronization, the file's contents can become garbled.\n",
    "\n",
    "(3) Data Structures: Accessing and modifying data structures like lists or dictionaries concurrently without synchronization can lead to corruption or inconsistency.\n",
    "\n",
    "Preventing race conditions typically involves using synchronization mechanisms such as locks, semaphores, or mutexes to ensure that only one thread can access or modify a shared resource at a time. By enforcing mutual exclusion, you can prevent race conditions and maintain the integrity of shared data."
   ]
  },
  {
   "cell_type": "code",
   "execution_count": null,
   "id": "745a9eb5-93e1-4f27-8519-712264338a8a",
   "metadata": {},
   "outputs": [],
   "source": []
  }
 ],
 "metadata": {
  "kernelspec": {
   "display_name": "Python 3 (ipykernel)",
   "language": "python",
   "name": "python3"
  },
  "language_info": {
   "codemirror_mode": {
    "name": "ipython",
    "version": 3
   },
   "file_extension": ".py",
   "mimetype": "text/x-python",
   "name": "python",
   "nbconvert_exporter": "python",
   "pygments_lexer": "ipython3",
   "version": "3.10.8"
  }
 },
 "nbformat": 4,
 "nbformat_minor": 5
}
