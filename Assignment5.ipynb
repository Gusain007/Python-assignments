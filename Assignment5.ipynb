{
 "cells": [
  {
   "cell_type": "markdown",
   "id": "806501b2-24b6-4198-8010-fd02479305b5",
   "metadata": {},
   "source": [
    "Q1. What is an Exception in python? Write the difference between Exceptions and Syntax errors"
   ]
  },
  {
   "cell_type": "markdown",
   "id": "d7b46124-f4e0-4b59-a9c5-d75da0a318db",
   "metadata": {},
   "source": [
    "Ans. In Python, an exception is an event that occurs during the execution of a program that disrupts the normal flow of the program's instructions. Exception handling in Python allows you to gracefully handle these errors and take appropriate actions to prevent your program from crashing.\n",
    "\n",
    "Difference between Exceptions and Syntax errors :-\n",
    "\n",
    "Exceptions:\n",
    "\n",
    "1. Exceptions occur during the runtime (execution) of a program when something unexpected happens, such as attempting to divide by zero, accessing a non-existent file, or trying to use a variable that hasn't been defined.\n",
    "\n",
    "2. Exceptions are runtime errors and can be handled using try and except blocks to gracefully respond to the error without crashing the program.\n",
    "\n",
    "3. Examples of exceptions include ZeroDivisionError, TypeError, and ValueError.\n",
    "\n",
    "Syntax Errors:\n",
    "\n",
    "1. Syntax errors occur during the parsing of the code (before execution) when the Python interpreter encounters invalid syntax in the code. These errors prevent the program from running.\n",
    "\n",
    "2. Syntax errors are also known as parsing errors, and they indicate that there is a fundamental problem with the structure of the code.\n",
    "\n",
    "3. Examples of syntax errors include missing colons at the end of if or while statements, using undefined variables, or using incorrect indentation."
   ]
  },
  {
   "cell_type": "code",
   "execution_count": null,
   "id": "8247cd3d-04b5-465c-bdc5-7bda5cb5176a",
   "metadata": {},
   "outputs": [],
   "source": []
  },
  {
   "cell_type": "markdown",
   "id": "8ab9a82e-c963-463f-ac3a-5b7e8cd51e78",
   "metadata": {},
   "source": [
    "Q2. What happens when an exception is not handled? Explain with an example."
   ]
  },
  {
   "cell_type": "markdown",
   "id": "e5e3c484-9c48-4050-86fa-8f01e10fa0b1",
   "metadata": {},
   "source": [
    "Ans. When an exception is not handled in a Python program, it leads to what is known as an \"unhandled exception.\" When an unhandled exception occurs, the program's normal execution flow is disrupted, and the program terminates prematurely. "
   ]
  },
  {
   "cell_type": "code",
   "execution_count": 6,
   "id": "85889c76-b287-4ba0-8447-29cc1af02f9a",
   "metadata": {},
   "outputs": [
    {
     "ename": "ZeroDivisionError",
     "evalue": "division by zero",
     "output_type": "error",
     "traceback": [
      "\u001b[0;31m---------------------------------------------------------------------------\u001b[0m",
      "\u001b[0;31mZeroDivisionError\u001b[0m                         Traceback (most recent call last)",
      "Cell \u001b[0;32mIn[6], line 1\u001b[0m\n\u001b[0;32m----> 1\u001b[0m result \u001b[38;5;241m=\u001b[39m \u001b[38;5;241;43m10\u001b[39;49m\u001b[43m \u001b[49m\u001b[38;5;241;43m/\u001b[39;49m\u001b[43m \u001b[49m\u001b[38;5;241;43m0\u001b[39;49m\n\u001b[1;32m      2\u001b[0m \u001b[38;5;28mprint\u001b[39m(\u001b[38;5;124m\"\u001b[39m\u001b[38;5;124mProgram continues after the exception.\u001b[39m\u001b[38;5;124m\"\u001b[39m)\n",
      "\u001b[0;31mZeroDivisionError\u001b[0m: division by zero"
     ]
    }
   ],
   "source": [
    "result = 10 / 0\n",
    "print(\"Program continues after the exception.\")"
   ]
  },
  {
   "cell_type": "code",
   "execution_count": 7,
   "id": "ecac4339-bb87-4cd1-bbb7-028f814e8153",
   "metadata": {},
   "outputs": [
    {
     "name": "stdout",
     "output_type": "stream",
     "text": [
      "Error: division by zero\n",
      "Program continues after the exception.\n"
     ]
    }
   ],
   "source": [
    "def divide(x, y):\n",
    "    result = x / y\n",
    "    return result\n",
    "\n",
    "try:\n",
    "    result = divide(10, 0)  # Attempting to divide by zero\n",
    "    print(\"Result:\", result)\n",
    "except ZeroDivisionError as e:\n",
    "    print(\"Error:\", e)\n",
    "\n",
    "print(\"Program continues after the exception.\")"
   ]
  },
  {
   "cell_type": "markdown",
   "id": "00f6e9a4-82cf-4aa4-9f30-601f92d631ce",
   "metadata": {},
   "source": [
    "In this example, we have a function divide that attempts to perform division. Inside a try block, we call divide(10, 0), which is an attempt to divide 10 by 0, causing a ZeroDivisionError. However, we have an except block that catches this specific exception and prints an error message."
   ]
  },
  {
   "cell_type": "code",
   "execution_count": null,
   "id": "40a59bcb-aede-4294-b025-ae546d0694b0",
   "metadata": {},
   "outputs": [],
   "source": []
  },
  {
   "cell_type": "markdown",
   "id": "54fa1978-a577-469f-b7d7-35db033c3648",
   "metadata": {},
   "source": [
    "Q3. Which Python statements are used to catch and handle exceptions? Explain with an example."
   ]
  },
  {
   "cell_type": "markdown",
   "id": "e7412a16-fc98-4f8b-a76f-d0e5b5b1097c",
   "metadata": {},
   "source": [
    "Ans. In Python, you can catch and handle exceptions using the try and except statements. The try block contains the code that might raise an exception, and the except block contains the code to handle the exception if it occurs. Additionally, you can use else and finally blocks for more advanced exception handling scenarios."
   ]
  },
  {
   "cell_type": "code",
   "execution_count": 14,
   "id": "211e1553-9594-400e-a4c4-7c356673ca95",
   "metadata": {},
   "outputs": [],
   "source": [
    "def divide(x, y):\n",
    "    try:\n",
    "        result = x / y\n",
    "        return result\n",
    "    except ZeroDivisionError:\n",
    "        print(\"Error: Division by zero is not allowed.\")\n",
    "        return None"
   ]
  },
  {
   "cell_type": "code",
   "execution_count": 17,
   "id": "1f88b7b2-8b59-4b21-b639-4ef37bac6253",
   "metadata": {},
   "outputs": [
    {
     "name": "stdout",
     "output_type": "stream",
     "text": [
      "Result 1: 5.0\n"
     ]
    }
   ],
   "source": [
    "# Example 1: Handling a ZeroDivisionError\n",
    "result1 = divide(10, 2)  # This will not raise an exception\n",
    "print(\"Result 1:\", result1)"
   ]
  },
  {
   "cell_type": "code",
   "execution_count": 18,
   "id": "7c0658ff-fa41-452a-80c6-6815f6bcfce7",
   "metadata": {},
   "outputs": [
    {
     "name": "stdout",
     "output_type": "stream",
     "text": [
      "Error: Division by zero is not allowed.\n",
      "Result 2: None\n"
     ]
    }
   ],
   "source": [
    "# Example 2: Handling a ZeroDivisionError\n",
    "result2 = divide(10, 0)  # This will raise a ZeroDivisionError\n",
    "print(\"Result 2:\", result2)"
   ]
  },
  {
   "cell_type": "code",
   "execution_count": 19,
   "id": "f1238d9c-d13b-4c17-8dd3-b422cc33e229",
   "metadata": {},
   "outputs": [
    {
     "name": "stdout",
     "output_type": "stream",
     "text": [
      "Error: invalid literal for int() with base 10: 'abc'\n"
     ]
    }
   ],
   "source": [
    "# Example 3: Handling a different exception (ValueError)\n",
    "try:\n",
    "    value = int(\"abc\")  # This will raise a ValueError\n",
    "except ValueError as e:\n",
    "    print(\"Error:\", e)"
   ]
  },
  {
   "cell_type": "code",
   "execution_count": null,
   "id": "b93683c1-23c7-49ba-be80-5af3f1af3440",
   "metadata": {},
   "outputs": [],
   "source": []
  },
  {
   "cell_type": "markdown",
   "id": "7ea2033e-055e-48db-8500-1c0f12dfd02b",
   "metadata": {},
   "source": [
    "Q4. Explain with an example:\n",
    "\n",
    "a. try and else\n",
    "b. finally\n",
    "c. raise"
   ]
  },
  {
   "cell_type": "markdown",
   "id": "d1cad8f6-3379-44a1-9953-63c79efeadff",
   "metadata": {},
   "source": [
    "a. try and else - The try block is used to enclose the code that might raise an exception, and the else block is used to specify code that should run if no exception occurs in the try block."
   ]
  },
  {
   "cell_type": "code",
   "execution_count": 24,
   "id": "08574c9d-7037-4427-a158-b0c8b4df1539",
   "metadata": {},
   "outputs": [
    {
     "name": "stdin",
     "output_type": "stream",
     "text": [
      "Enter a number:  58\n",
      "Enter another number:  0\n"
     ]
    },
    {
     "name": "stdout",
     "output_type": "stream",
     "text": [
      "Error: Division by zero is not allowed.\n"
     ]
    }
   ],
   "source": [
    "try:\n",
    "    num1 = int(input(\"Enter a number: \"))\n",
    "    num2 = int(input(\"Enter another number: \"))\n",
    "    result = num1 / num2\n",
    "except ValueError:\n",
    "    print(\"Invalid input. Please enter valid numbers.\")\n",
    "except ZeroDivisionError:\n",
    "    print(\"Error: Division by zero is not allowed.\")\n",
    "else:\n",
    "    print(\"Result of division:\", result)"
   ]
  },
  {
   "cell_type": "markdown",
   "id": "10fc282e-63bc-4ced-8f36-9760fa90d6bf",
   "metadata": {},
   "source": [
    "b. finally - The finally block is used to define a set of statements that will be executed regardless of whether an exception is raised or not in the preceding try and except blocks."
   ]
  },
  {
   "cell_type": "code",
   "execution_count": 30,
   "id": "0d203b94-d2e4-4856-b770-e28a81c91496",
   "metadata": {},
   "outputs": [
    {
     "name": "stdout",
     "output_type": "stream",
     "text": [
      "File not found.\n",
      "File closed.\n"
     ]
    }
   ],
   "source": [
    "try:\n",
    "    file = open(\"example.txt\", \"r\")\n",
    "    content = file.read()\n",
    "    \n",
    "except FileNotFoundError:\n",
    "    print(\"File not found.\")\n",
    "\n",
    "finally:\n",
    "    # Ensure the file is closed, regardless of exceptions\n",
    "    if 'file' in locals() and not file.closed:\n",
    "        file.close()\n",
    "    print(\"File closed.\")\n"
   ]
  },
  {
   "cell_type": "markdown",
   "id": "a5496de5-9f87-4759-93d9-59055362434a",
   "metadata": {},
   "source": [
    "c. raise - The raise statement is used to explicitly raise an exception in your code. You can use it to signal an error or exception condition."
   ]
  },
  {
   "cell_type": "code",
   "execution_count": 28,
   "id": "97fa1d6c-4e50-4f38-8cfb-dadade14b567",
   "metadata": {},
   "outputs": [
    {
     "name": "stdin",
     "output_type": "stream",
     "text": [
      "Enter your age:  -100\n"
     ]
    },
    {
     "name": "stdout",
     "output_type": "stream",
     "text": [
      "Error: Age cannot be negative.\n"
     ]
    }
   ],
   "source": [
    "def calculate_age(age):\n",
    "    if age < 0:\n",
    "        raise ValueError(\"Age cannot be negative.\")\n",
    "    return age\n",
    "\n",
    "try:\n",
    "    age = int(input(\"Enter your age: \"))\n",
    "    calculated_age = calculate_age(age)\n",
    "    print(\"Your age is:\", calculated_age)\n",
    "except ValueError as e:\n",
    "    print(\"Error:\", e)"
   ]
  },
  {
   "cell_type": "code",
   "execution_count": null,
   "id": "01d93980-7a7c-42a0-b3e7-b9ce94d3c044",
   "metadata": {},
   "outputs": [],
   "source": []
  },
  {
   "cell_type": "markdown",
   "id": "c75a22f6-a3a7-4ac2-a232-3d488cd9d433",
   "metadata": {},
   "source": [
    "Q5. What are Custom Exceptions in python? Why do we need Custom Exceptions? Explain with an example."
   ]
  },
  {
   "cell_type": "markdown",
   "id": "f500c447-c459-40ad-8b7c-631f5fb9d0ba",
   "metadata": {},
   "source": [
    "Ans. Custom exceptions, also known as user-defined exceptions, are exceptions that you create in Python to handle specific error conditions or exceptional cases that are not adequately covered by the built-in exception types. Custom exceptions allow you to handle specific error conditions that are unique to your application or domain. By defining custom exceptions with meaningful names and error messages, your code becomes more self-explanatory and easier to understand. This can enhance the maintainability of your codebase."
   ]
  },
  {
   "cell_type": "code",
   "execution_count": 31,
   "id": "67111f78-ff7e-41bc-8efd-ff93c57483e4",
   "metadata": {},
   "outputs": [
    {
     "name": "stdin",
     "output_type": "stream",
     "text": [
      "Enter your age -10\n"
     ]
    },
    {
     "name": "stdout",
     "output_type": "stream",
     "text": [
      "Age should not be less than zero\n"
     ]
    }
   ],
   "source": [
    "'''\n",
    "We don't want to accept impossible figues for age but int won't solve this issue. \n",
    "We need exception for this \n",
    "'''\n",
    "\n",
    "class validateage1(Exception):\n",
    "    def __init__(self,msg):\n",
    "        self.msg = msg\n",
    "        \n",
    "def validate_age1(age):\n",
    "    if age <= 0 :\n",
    "        raise validateage1 (\"Age should not be less than zero\")\n",
    "    elif age > 125 :\n",
    "        raise validateage1 (\"Enter a realistic age\")\n",
    "    else:\n",
    "        print ('Age is valid')\n",
    "        \n",
    "try:\n",
    "    age = int(input('Enter your age'))\n",
    "    validate_age1(age)\n",
    "    \n",
    "except validateage1 as f:\n",
    "    print(f)"
   ]
  },
  {
   "cell_type": "code",
   "execution_count": null,
   "id": "c970df71-361f-4eab-9d16-7f29bc7e08c9",
   "metadata": {},
   "outputs": [],
   "source": []
  },
  {
   "cell_type": "markdown",
   "id": "84607874-e48c-4c99-b0d1-baa07fafdc82",
   "metadata": {},
   "source": [
    "Q6. Create a custom exception class. Use this class to handle an exception."
   ]
  },
  {
   "cell_type": "code",
   "execution_count": 35,
   "id": "8ac48f12-9a1d-4094-a85a-d7e4516f881f",
   "metadata": {},
   "outputs": [
    {
     "name": "stdin",
     "output_type": "stream",
     "text": [
      "Enter a positive number:  true\n"
     ]
    },
    {
     "name": "stdout",
     "output_type": "stream",
     "text": [
      "Error: Invalid input. Please enter a valid number.\n"
     ]
    }
   ],
   "source": [
    "# Custom exception class\n",
    "class NegativeValueError(Exception):\n",
    "    # Custom exception for handling negative values.\n",
    "    def __init__(self, value):\n",
    "        self.value = value\n",
    "        self.message = f\"Negative values are not allowed: {value}\"\n",
    "\n",
    "# Function that raises the custom exception\n",
    "def process_positive_number(number):\n",
    "    if number < 0:\n",
    "        raise NegativeValueError(number)\n",
    "    else:\n",
    "        return f\"Processed positive number: {number}\"\n",
    "\n",
    "# Example usage\n",
    "try:\n",
    "    input_number = int(input(\"Enter a positive number: \"))\n",
    "    result = process_positive_number(input_number)\n",
    "    print(result)\n",
    "except NegativeValueError as e:\n",
    "    print(\"Error:\", e.message)\n",
    "except ValueError:\n",
    "    print(\"Error: Invalid input. Please enter a valid number.\")"
   ]
  },
  {
   "cell_type": "code",
   "execution_count": null,
   "id": "6dfe62fb-eec2-4db3-9b65-ffe720a8cf80",
   "metadata": {},
   "outputs": [],
   "source": []
  }
 ],
 "metadata": {
  "kernelspec": {
   "display_name": "Python 3 (ipykernel)",
   "language": "python",
   "name": "python3"
  },
  "language_info": {
   "codemirror_mode": {
    "name": "ipython",
    "version": 3
   },
   "file_extension": ".py",
   "mimetype": "text/x-python",
   "name": "python",
   "nbconvert_exporter": "python",
   "pygments_lexer": "ipython3",
   "version": "3.10.8"
  }
 },
 "nbformat": 4,
 "nbformat_minor": 5
}
