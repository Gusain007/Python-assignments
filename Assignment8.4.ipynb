{
 "cells": [
  {
   "cell_type": "markdown",
   "id": "87f89cdb-a99c-432d-b9fd-f114beab005a",
   "metadata": {},
   "source": [
    "Q1. How can you create a Bokeh plot using Python code?"
   ]
  },
  {
   "cell_type": "code",
   "execution_count": 7,
   "id": "a2196e0d-e96c-44c1-abfa-912208e5fb8c",
   "metadata": {
    "tags": []
   },
   "outputs": [],
   "source": [
    "from bokeh.plotting import figure, show, output_file\n",
    "import numpy as np\n",
    "\n",
    "x = np.linspace(1, 10 , 100)\n",
    "y = np.sin(x)\n",
    "\n",
    "p = figure(title=\"Sine Wave\", x_axis_label=\"X\", y_axis_label=\"Y\")\n",
    "p.line(x, y, line_width=2, line_color=\"blue\", legend_label=\"Sine Wave\")\n",
    "p.legend.location = \"top_left\"\n",
    "\n",
    "output_file(\"sine_wave.html\")\n",
    "show(p)"
   ]
  },
  {
   "cell_type": "code",
   "execution_count": null,
   "id": "c24b225d-d0ff-4033-8a70-e890d50d321f",
   "metadata": {},
   "outputs": [],
   "source": []
  },
  {
   "cell_type": "markdown",
   "id": "0d4c00e3-a703-47a9-9f39-307497a0cb31",
   "metadata": {},
   "source": [
    "Q2. What are glyphs in Bokeh, and how can you add them to a Bokeh plot? Explain with an example."
   ]
  },
  {
   "cell_type": "markdown",
   "id": "30da9b8c-2e36-4cd8-8354-4e7c54e3f973",
   "metadata": {},
   "source": [
    "Ans. In Bokeh, glyphs are visual markers or shapes that are used to represent data on a plot. They are fundamental elements for creating various types of visualizations, such as scatter plots, line charts, bar charts, and more. Bokeh provides a wide range of glyphs to choose from, including circles, squares, lines, bars, and more."
   ]
  },
  {
   "cell_type": "code",
   "execution_count": 10,
   "id": "ca55c187-2d5b-4300-b36a-c2e14bcd21ff",
   "metadata": {
    "tags": []
   },
   "outputs": [],
   "source": [
    "from bokeh.plotting import figure, show, output_file\n",
    "import numpy as np\n",
    "\n",
    "x = np.linspace(0, 4 * np.pi, 100)\n",
    "y = np.sin(x)\n",
    "p = figure(title=\"Sine Wave\", x_axis_label=\"X\", y_axis_label=\"Y\")\n",
    "\n",
    "p.line(x, y, line_width=2, line_color=\"blue\", legend_label=\"Sine Wave\")\n",
    "\n",
    "x_circle = [1, 2, 3, 4]\n",
    "y_circle = [0, -1, 0, 1]\n",
    "p.circle(x_circle, y_circle, size=10, fill_color=\"red\", line_color=\"black\", legend_label=\"Circles\")\n",
    "\n",
    "output_file(\"sine_wave_with_circles.html\")\n",
    "show(p)"
   ]
  },
  {
   "cell_type": "code",
   "execution_count": null,
   "id": "e03b90c3-840f-47af-818a-fcc1c85d7e67",
   "metadata": {},
   "outputs": [],
   "source": []
  },
  {
   "cell_type": "markdown",
   "id": "8c0b9a11-0424-48f4-972f-62305ec8b876",
   "metadata": {},
   "source": [
    "Q3. How can you customize the appearance of a Bokeh plot, including the axes, title, and legend?"
   ]
  },
  {
   "cell_type": "markdown",
   "id": "dea0befe-7eb0-4867-b432-4283293bfe7a",
   "metadata": {},
   "source": [
    "Ans. You can customize the appearance of a Bokeh plot in various ways, including the axes, title, and legend.\n",
    "\n",
    "1. Customizing Axes:\n",
    "\n",
    "i) Axis Labels: You can set labels for the x-axis and y-axis using \"x_axis_label\" and \"y_axis_label\" properties of the figure object.\n",
    "\n",
    "ii)Axis Limits: You can set the limits of the x-axis and y-axis using x_range and y_range properties of the figure object. Eg.\n",
    "p.x_range = Range1d(0, 10)  # Set x-axis range from 0 to 10\n",
    "p.y_range = Range1d(-1, 1)  # Set y-axis range from -1 to 1\n",
    "\n",
    "iii)Tick Labels and Formatting: You can customize tick labels and formatting for the axes using the xaxis and yaxis attributes of the figure object.\n",
    "\n",
    "2. Customizing Title:\n",
    "\n",
    "i) Title: You can set the title of the plot using the title property of the figure object. \n",
    "Eg:-\n",
    "p = figure(title=\"My Custom Title\")\n",
    "\n",
    "ii) Title Text Style: You can customize the style of the title text using the title_text_font_size, title_text_color, and other properties.\n",
    "\n",
    "3. Customizing Legend:\n",
    "\n",
    "i) Legend: If you have added legends to your plot (e.g., by specifying legend_label when adding glyphs), you can customize the legend using the legend attribute of the figure object.\n",
    "\n",
    "ii) Legend Location: You can change the location of the legend using the location property. \n",
    "Eg :-\n",
    "p.legend.location = \"top_right\"\n",
    "\n",
    "iii)Legend Background: You can set the background color and other properties of the legend using legend.background_fill_color, legend.border_line_color, etc."
   ]
  },
  {
   "cell_type": "code",
   "execution_count": null,
   "id": "1f6439d1-729f-45c9-9263-99248fb0b759",
   "metadata": {},
   "outputs": [],
   "source": []
  },
  {
   "cell_type": "markdown",
   "id": "d53506b9-15c1-4137-94f9-7b5c5dd7982d",
   "metadata": {},
   "source": [
    "Q4. What is a Bokeh server, and how can you use it to create interactive plots that can be updated in real time?"
   ]
  },
  {
   "cell_type": "markdown",
   "id": "558fc686-9baf-49b6-8ce7-9771488c85bb",
   "metadata": {},
   "source": [
    "Ans. A Bokeh server is a component of the Bokeh library that allows you to create and deploy interactive web applications and dashboards with dynamic and real-time updating plots and data. With Bokeh server, you can build interactive data visualization applications that respond to user inputs and automatically update based on changing data, all in a Python environment."
   ]
  },
  {
   "cell_type": "code",
   "execution_count": null,
   "id": "e46b53f5-430c-4df8-8f14-e2f28625983e",
   "metadata": {},
   "outputs": [],
   "source": [
    "from bokeh.plotting import figure, curdoc, output_notebook, show\n",
    "from bokeh.models import ColumnDataSource\n",
    "from bokeh.layouts import layout\n",
    "from bokeh.models.widgets import Slider\n",
    "import numpy as np\n",
    "\n",
    "output_notebook()\n",
    "\n",
    "plot = figure(title=\"Real-time Interactive Plot\", width=600, height=300, y_range=(-10, 10))\n",
    "\n",
    "source = ColumnDataSource(data={'x': [], 'y': []})\n",
    "\n",
    "line = plot.line('x', 'y', source=source, line_width=2)\n",
    "\n",
    "def update_data(attrname, old, new):\n",
    "    # Get the current slider value\n",
    "    frequency = frequency_slider.value\n",
    "\n",
    "    # Generate new data for the sine wave\n",
    "    x = np.linspace(0, 4 * np.pi, 1000)\n",
    "    y = np.sin(frequency * x)\n",
    "\n",
    "    # Update the data source\n",
    "    source.data = {'x': x, 'y': y}\n",
    "\n",
    "# Create a slider widget\n",
    "frequency_slider = Slider(start=1, end=10, value=1, step=0.1, title=\"Frequency\")\n",
    "frequency_slider.on_change('value', update_data)\n",
    "\n",
    "layout = layout([\n",
    "    [plot],\n",
    "    [frequency_slider],\n",
    "])\n",
    "show(layout)"
   ]
  },
  {
   "cell_type": "code",
   "execution_count": null,
   "id": "9fb2c657-8e78-45ad-9497-2a2a3db1769f",
   "metadata": {},
   "outputs": [],
   "source": []
  },
  {
   "cell_type": "markdown",
   "id": "351d2c11-4423-4941-bb1e-1e96fd59fdbe",
   "metadata": {},
   "source": [
    "Q5. How can you embed a Bokeh plot into a web page or dashboard using Flask or Django?"
   ]
  },
  {
   "cell_type": "markdown",
   "id": "b5a70db5-3ffd-49f2-aa7b-c840416c10ba",
   "metadata": {},
   "source": [
    "Ans. Embedding a Bokeh plot into a web page or dashboard using Flask involves creating a Flask web application and rendering the Bokeh plot within a Flask route. Here are the steps to embed a Bokeh plot into a Flask web application:\n",
    "\n",
    "1. Install Flask and Bokeh:\n",
    "\n",
    "2. Create a Flask Application:\n",
    "Create a Flask application by creating a Python script, for example, app.py. Import the necessary libraries and set up the Flask app:"
   ]
  },
  {
   "cell_type": "code",
   "execution_count": null,
   "id": "809501fa-088a-46cd-ab2e-1f408aab8b6c",
   "metadata": {},
   "outputs": [],
   "source": [
    "from flask import Flask, render_template\n",
    "from bokeh.plotting import figure, show\n",
    "from bokeh.embed import components\n",
    "import numpy as np\n",
    "\n",
    "app = Flask(__name__)"
   ]
  },
  {
   "cell_type": "markdown",
   "id": "dba74603-7890-45e1-a592-921c8d826e4c",
   "metadata": {},
   "source": [
    "3. Define a Route for the Bokeh Plot:\n",
    "Define a route in your Flask application where you'll render the Bokeh plot. Inside this route function, create the Bokeh plot you want to embed:"
   ]
  },
  {
   "cell_type": "code",
   "execution_count": null,
   "id": "b060322b-d7b3-426b-bcf4-3c417e25afdd",
   "metadata": {},
   "outputs": [],
   "source": [
    "@app.route('/')\n",
    "def index():\n",
    "    # Create a Bokeh plot\n",
    "    x = np.linspace(0, 4 * np.pi, 1000)\n",
    "    y = np.sin(x)\n",
    "\n",
    "    plot = figure(title=\"Bokeh Plot Example\", width=600, height=300)\n",
    "    plot.line(x, y)\n",
    "\n",
    "    # Embed the plot into HTML components\n",
    "    script, div = components(plot)\n",
    "\n",
    "    return render_template('index.html', script=script, div=div)"
   ]
  },
  {
   "cell_type": "markdown",
   "id": "310acb22-74f2-463f-9082-3d256c2a795b",
   "metadata": {},
   "source": [
    "4. Create an HTML Template:\n",
    "Create an HTML template file (e.g., index.html) that will be used to render the web page with the embedded Bokeh plot. Use the script and div variables from the Flask route to embed the plot into the HTML:"
   ]
  },
  {
   "cell_type": "markdown",
   "id": "b199291a-5e4d-48d5-8826-acaad4993e8c",
   "metadata": {},
   "source": [
    "<!DOCTYPE html>\n",
    "<html>\n",
    "<head>\n",
    "    <title>Bokeh Plot in Flask</title>\n",
    "    {{ script|safe }}\n",
    "</head>\n",
    "<body>\n",
    "    <h1>Bokeh Plot Example</h1>\n",
    "    <div>\n",
    "        {{ div|safe }}\n",
    "    </div>\n",
    "</body>\n",
    "</html>"
   ]
  },
  {
   "cell_type": "markdown",
   "id": "11b88b23-ef26-40ff-9f1b-2b3b36727326",
   "metadata": {},
   "source": [
    "5. Run the Flask Application:\n",
    "In your app.py script, add the following lines to run the Flask app:"
   ]
  },
  {
   "cell_type": "code",
   "execution_count": null,
   "id": "7dbd88bd-53ff-4b9b-92b8-8df8556c93f8",
   "metadata": {},
   "outputs": [],
   "source": [
    "if __name__ == '__main__':\n",
    "    app.run(debug=True)"
   ]
  },
  {
   "cell_type": "markdown",
   "id": "4cfadb8a-4ccc-415f-9208-4102042052cc",
   "metadata": {},
   "source": [
    "6. Run the Flask Application:\n",
    "Open a terminal and navigate to the directory containing your app.py file. Run the Flask application:"
   ]
  },
  {
   "cell_type": "code",
   "execution_count": null,
   "id": "57b3ade6-8df3-4caf-8c6d-e512e48bf34d",
   "metadata": {},
   "outputs": [],
   "source": [
    "python app.py"
   ]
  },
  {
   "cell_type": "markdown",
   "id": "ffe4b250-a460-4275-8b51-0e1af92b2421",
   "metadata": {},
   "source": [
    "7. Access the Web Page:\n",
    "Open a web browser and go to the appropriate URL and port where your Flask app is running. You should see the Flask web page with the embedded Bokeh plot."
   ]
  },
  {
   "cell_type": "code",
   "execution_count": null,
   "id": "f62a2a58-c3b3-4019-853c-b0493b8bf590",
   "metadata": {},
   "outputs": [],
   "source": []
  },
  {
   "cell_type": "code",
   "execution_count": null,
   "id": "6f1d4351-6f4e-47ed-9c91-06a535c88870",
   "metadata": {},
   "outputs": [],
   "source": []
  },
  {
   "cell_type": "code",
   "execution_count": null,
   "id": "b450f286-413c-470b-a9ad-7d979c625f98",
   "metadata": {},
   "outputs": [],
   "source": []
  }
 ],
 "metadata": {
  "kernelspec": {
   "display_name": "Python 3 (ipykernel)",
   "language": "python",
   "name": "python3"
  },
  "language_info": {
   "codemirror_mode": {
    "name": "ipython",
    "version": 3
   },
   "file_extension": ".py",
   "mimetype": "text/x-python",
   "name": "python",
   "nbconvert_exporter": "python",
   "pygments_lexer": "ipython3",
   "version": "3.11.4"
  }
 },
 "nbformat": 4,
 "nbformat_minor": 5
}
