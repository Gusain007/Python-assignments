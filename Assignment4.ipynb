{
 "cells": [
  {
   "cell_type": "markdown",
   "id": "3551c270-d53c-43ec-b1d8-a71ad67c0051",
   "metadata": {},
   "source": [
    "Q1. Explain Class and Object with respect to Object-Oriented Programming. Give a suitable example."
   ]
  },
  {
   "cell_type": "markdown",
   "id": "2a943955-e132-459c-a886-2a5df4f5e203",
   "metadata": {},
   "source": [
    "Ans. A class is a blueprint or template for creating objects. It defines a set of attributes (data members) and methods (functions) that characterize the objects created from it.\n",
    "\n",
    "An object is an instance of a class. Objects are created based on the structure defined by the class, and they can store specific data values and perform actions (methods) associated with the class.\n",
    "\n",
    "Example:-"
   ]
  },
  {
   "cell_type": "code",
   "execution_count": 7,
   "id": "75d020e1-b2fc-4345-adf1-5636cc1ed165",
   "metadata": {},
   "outputs": [],
   "source": [
    "class school:\n",
    "    def __init__(self, name, phone, email):\n",
    "        self.name = name\n",
    "        self.phone = phone\n",
    "        self.email = email\n",
    "        \n",
    "    def return_student_details(self):\n",
    "        return self.name, self.phone, self.email"
   ]
  },
  {
   "cell_type": "code",
   "execution_count": 12,
   "id": "b287ba78-5fcd-4292-9472-b057464bb002",
   "metadata": {},
   "outputs": [],
   "source": [
    "obj = school('Abhi', 9123456789, \"abhi47@gmail.com\")     #Creating 'object' (instances) of the school class "
   ]
  },
  {
   "cell_type": "code",
   "execution_count": 13,
   "id": "5715ff4e-6f09-439d-aa7e-155a0f637e23",
   "metadata": {},
   "outputs": [
    {
     "data": {
      "text/plain": [
       "('Abhi', 9123456789, 'abhi47@gmail.com')"
      ]
     },
     "execution_count": 13,
     "metadata": {},
     "output_type": "execute_result"
    }
   ],
   "source": [
    "obj.return_student_details()                             # Using 'method' of the school class on the 'object'"
   ]
  },
  {
   "cell_type": "code",
   "execution_count": null,
   "id": "867c570e-6d40-4b69-925a-eb7e21d0d8ea",
   "metadata": {},
   "outputs": [],
   "source": []
  },
  {
   "cell_type": "markdown",
   "id": "9da8b6e0-4dac-4c01-bad0-99be80188941",
   "metadata": {},
   "source": [
    "Q2. Name the four pillars of OOPs."
   ]
  },
  {
   "cell_type": "markdown",
   "id": "4a91afd8-ece5-4df3-84ee-4d0714fd39b9",
   "metadata": {},
   "source": [
    "Ans. The four pillars of object-oriented programming (OOP) are:\n",
    "\n",
    "1.Encapsulation: It helps in hiding the internal details of an object and provides a level of abstraction.\n",
    "\n",
    "2.Abstraction: It allows programmers to work with high-level concepts without worrying about low-level implementation.\n",
    "\n",
    "3.Inheritance: It enables the creation of a new class (subclass or derived class) that inherits properties and behaviors (attributes and methods) from an existing class (superclass or base class).\n",
    "\n",
    "4.Polymorphism: It allows objects of different classes to be treated as objects of a common superclass. It promotes flexibility and extensibility in code."
   ]
  },
  {
   "cell_type": "code",
   "execution_count": null,
   "id": "fca8ccc2-6ef4-41b2-93fc-b2247babee87",
   "metadata": {},
   "outputs": [],
   "source": []
  },
  {
   "cell_type": "markdown",
   "id": "8a835fd6-98b5-432f-b2bc-749bdc127ed6",
   "metadata": {},
   "source": [
    "Q3. Explain why the __init__() function is used. Give a suitable example."
   ]
  },
  {
   "cell_type": "markdown",
   "id": "ac46534d-361c-4540-bf8f-5524cd790c2c",
   "metadata": {},
   "source": [
    "Ans. The __init__() function, also known as the constructor, is used in object-oriented programming languages like Python to initialize the attributes or properties of an object when it's created. \n"
   ]
  },
  {
   "cell_type": "code",
   "execution_count": 8,
   "id": "4dcde5ea-0bb9-422c-a44f-99feba4796dd",
   "metadata": {},
   "outputs": [],
   "source": [
    "class Person:\n",
    "    def __init__(self, name, age):\n",
    "        self.name = name\n",
    "        self.age = age\n",
    "\n",
    "    def return_details(self):\n",
    "        print(f\"{self.name} is {self.age} years old.\")\n",
    "\n"
   ]
  },
  {
   "cell_type": "code",
   "execution_count": 9,
   "id": "66313838-2ac1-4483-8e83-9b1087e2ae8f",
   "metadata": {},
   "outputs": [],
   "source": [
    "person1 = Person(\"Alice\", 30)"
   ]
  },
  {
   "cell_type": "code",
   "execution_count": 10,
   "id": "27bea60d-92c6-4a98-8b02-8da6059b5141",
   "metadata": {},
   "outputs": [
    {
     "name": "stdout",
     "output_type": "stream",
     "text": [
      "Alice is 30 years old.\n"
     ]
    }
   ],
   "source": [
    "person1.return_details()"
   ]
  },
  {
   "cell_type": "code",
   "execution_count": null,
   "id": "e85e34f7-17a0-4e09-8b7d-463c37e522b0",
   "metadata": {},
   "outputs": [],
   "source": []
  },
  {
   "cell_type": "markdown",
   "id": "72b28d21-b017-4bde-8697-0c36deb35ac8",
   "metadata": {},
   "source": [
    "Q4. Why self is used in OOPs?"
   ]
  },
  {
   "cell_type": "markdown",
   "id": "df84cfe4-6fd9-4c7a-a3b9-83d861f23006",
   "metadata": {},
   "source": [
    "Ans. In object-oriented programming (OOP), the self keyword is used to refer to the instance of the class that a method or attribute belongs to. It's a way to distinguish between instance-specific attributes and methods and class-level attributes and methods. The use of self is crucial for proper encapsulation and interaction within classes."
   ]
  },
  {
   "cell_type": "code",
   "execution_count": null,
   "id": "4093d74e-2b06-4f00-aa36-5a63965afe6b",
   "metadata": {},
   "outputs": [],
   "source": []
  },
  {
   "cell_type": "markdown",
   "id": "ea5d2e91-aaf0-4f94-a2f8-a7f6b64956b6",
   "metadata": {},
   "source": [
    "Q5. What is inheritance? Give an example for each type of inheritance."
   ]
  },
  {
   "cell_type": "markdown",
   "id": "f454b5fe-80b3-4f52-8807-a60a9bd51490",
   "metadata": {},
   "source": [
    "Ans. Inheritance is a fundamental concept in OOPs that allows a new class to inherit properties (attributes) and behaviors (methods) from an existing class. The existing class is referred to as the \"superclass\" or \"base class,\" and the new class is called the \"subclass\" or \"derived class.\" Inheritance promotes code reuse."
   ]
  },
  {
   "cell_type": "markdown",
   "id": "f1c5c69c-a889-41bb-94f6-82d51d3bd4b3",
   "metadata": {},
   "source": [
    "i) Single Inheritance:- It refers to a situation where a subclass inherits from only one superclass. In other words one parent class has one child class only. Eg:-"
   ]
  },
  {
   "cell_type": "code",
   "execution_count": 12,
   "id": "14107ecc-6a06-4c43-9841-bca6ddb59ce4",
   "metadata": {},
   "outputs": [],
   "source": [
    "class Animal:\n",
    "    def sound(self):\n",
    "        pass\n",
    "    \n",
    "class Dog(Animal):\n",
    "    def sound(self):\n",
    "        return \"Woof!\""
   ]
  },
  {
   "cell_type": "markdown",
   "id": "88fa23a7-5104-4ecc-8b81-add0d4968f0f",
   "metadata": {},
   "source": [
    "ii) Multiple Inheritance:- It occurs when a subclass inherits from more than one superclass. Eg:-"
   ]
  },
  {
   "cell_type": "code",
   "execution_count": 37,
   "id": "ca87906f-04a4-42b7-91d4-b6719fabc80b",
   "metadata": {},
   "outputs": [],
   "source": [
    "class Flying:\n",
    "    def fly(self):\n",
    "        pass\n",
    "class Swimming:\n",
    "    def swim(self):\n",
    "        pass\n",
    "class Swan(Flying, Swimming):\n",
    "    def fly(self):\n",
    "        return \"Yes, it can Fly\"\n",
    "    def swim(self):\n",
    "        return \"Yes, it can Swim\""
   ]
  },
  {
   "cell_type": "markdown",
   "id": "dd2ea9c0-2fe8-4dee-bb79-1a978586db2f",
   "metadata": {},
   "source": [
    "iii) Multilevel Inheritance - It involves a chain of inheritance where a subclass inherits from a superclass, and then another subclass inherits from that subclass."
   ]
  },
  {
   "cell_type": "code",
   "execution_count": 41,
   "id": "50f11d57-a4b4-46c0-8a9c-a5c6c00b8e8e",
   "metadata": {},
   "outputs": [],
   "source": [
    "class Vehicle:\n",
    "    def move(self):\n",
    "        pass\n",
    "\n",
    "class Car(Vehicle):\n",
    "    def drive(self):\n",
    "        pass\n",
    "\n",
    "class ElectricCar(Car):\n",
    "    def charge(self):\n",
    "        pass"
   ]
  },
  {
   "cell_type": "markdown",
   "id": "1826c0a3-1ebb-4e2e-bbb0-124e1eda6d48",
   "metadata": {},
   "source": [
    "iv) Hierarchical inheritance - It occurs when multiple subclasses inherit from a single superclass."
   ]
  },
  {
   "cell_type": "code",
   "execution_count": 42,
   "id": "b149c0cd-2487-4709-9c00-2294d9be9a03",
   "metadata": {},
   "outputs": [],
   "source": [
    "class Animal:\n",
    "    def sound(self):\n",
    "        pass\n",
    "    \n",
    "class Dog(Animal):\n",
    "    def sound(self):\n",
    "        return \"Woof!\"\n",
    "    \n",
    "class Cat(Animal):\n",
    "    def sound(self):\n",
    "        return \"Meow!\""
   ]
  },
  {
   "cell_type": "code",
   "execution_count": null,
   "id": "8699e226-7855-4819-8689-10d368ccd1d3",
   "metadata": {},
   "outputs": [],
   "source": []
  }
 ],
 "metadata": {
  "kernelspec": {
   "display_name": "Python 3 (ipykernel)",
   "language": "python",
   "name": "python3"
  },
  "language_info": {
   "codemirror_mode": {
    "name": "ipython",
    "version": 3
   },
   "file_extension": ".py",
   "mimetype": "text/x-python",
   "name": "python",
   "nbconvert_exporter": "python",
   "pygments_lexer": "ipython3",
   "version": "3.10.8"
  }
 },
 "nbformat": 4,
 "nbformat_minor": 5
}
