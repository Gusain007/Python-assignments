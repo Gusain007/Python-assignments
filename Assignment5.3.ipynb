{
 "cells": [
  {
   "cell_type": "markdown",
   "id": "92bca940-f7d4-441a-a9c3-dbc3c34b1d45",
   "metadata": {},
   "source": [
    "Q1. What is multiprocessing in python? Why is it useful?"
   ]
  },
  {
   "cell_type": "markdown",
   "id": "f6e7c4bf-7afb-4084-9d0c-164cac3fec19",
   "metadata": {},
   "source": [
    "Ans. Multiprocessing in Python refers to the use of multiple processes to achieve parallelism in a program. A process is a separate instance of a program that runs independently and has its own memory space. Unlike multithreading, where multiple threads share the same memory space, multiprocessing allows different processes to run concurrently, utilizing multiple CPU cores. Python's multiprocessing module is a standard library that provides a way to create and manage processes in a Python program.\n",
    "\n",
    "Multiprocessing is useful for several reasons:\n",
    "\n",
    "Parallel Execution: It allows you to perform multiple tasks concurrently by creating separate processes. Each process can execute its code independently, potentially utilizing multiple CPU cores for true parallelism. This is especially valuable for CPU-bound tasks that can be split into smaller sub-tasks.\n",
    "\n",
    "Avoiding Global Interpreter Lock (GIL): In CPython (the standard implementation of Python), the Global Interpreter Lock (GIL) restricts the execution of Python code to a single thread at a time, even on multi-core processors. Multiprocessing bypasses the GIL, allowing each process to run Python code in parallel, making it suitable for CPU-bound tasks.\n",
    "\n",
    "Isolation: Each process runs in its own memory space, which means that they are isolated from each other. This isolation can provide better fault tolerance, as a failure in one process is less likely to affect others.\n",
    "\n",
    "Resource Utilization: Multiprocessing can take advantage of the full computational power of modern multi-core processors, making efficient use of available hardware resources.\n",
    "\n",
    "Parallelism on Multiple Machines: Multiprocessing can also be used for distributed computing, where processes can run on multiple machines, enabling parallelism across a cluster of computers.\n",
    "\n",
    "Robustness: If one process crashes or experiences an issue, it does not necessarily affect other processes, increasing the overall robustness of the application."
   ]
  },
  {
   "cell_type": "markdown",
   "id": "d3bc11a3-a949-4f23-8732-8abd2d563cfc",
   "metadata": {},
   "source": []
  },
  {
   "cell_type": "markdown",
   "id": "3c27b15d-d207-4e3f-b3d6-7dac7e9703bc",
   "metadata": {},
   "source": [
    "Q2. What are the differences between multiprocessing and multithreading?"
   ]
  },
  {
   "cell_type": "markdown",
   "id": "9328a9fa-88b0-45f8-b060-878b6e50238f",
   "metadata": {},
   "source": [
    "Ans. Multiprocessing and multithreading are both techniques used in concurrent programming to achieve parallelism, but they have significant differences in how they operate and when they are best suited. Here are the key differences between multiprocessing and multithreading:\n",
    "\n",
    "(1) Execution Model:\n",
    "\n",
    "   Multiprocessing: In multiprocessing, multiple processes are created, each with its own memory space and Python interpreter. These processes run independently and can execute different code simultaneously. Multiprocessing is suitable for achieving true parallelism, as each process can run on a separate CPU core.\n",
    "\n",
    "   Multithreading: In multithreading, multiple threads share the same memory space within a single process and Python interpreter. Threads are lighter weight than processes and share data more readily. However, due to the Global Interpreter Lock (GIL) in CPython (the standard Python interpreter), true parallelism is limited, as only one thread can execute Python bytecode at a time. Therefore, multithreading is typically used for concurrent I/O-bound tasks rather than CPU-bound tasks.\n",
    "\n",
    "(2) Parallelism:\n",
    "\n",
    "   Multiprocessing: Multiprocessing is well-suited for CPU-bound tasks that can be divided into smaller sub-tasks that can run independently. It allows for achieving parallelism on multi-core processors effectively.\n",
    "\n",
    "   Multithreading: Multithreading is more suitable for I/O-bound tasks, such as file I/O, network communication, and user interface applications, where threads can yield control during I/O operations, allowing other threads to run. It is less effective for CPU-bound tasks due to the GIL limitation.\n",
    "\n",
    "(3) Isolation:\n",
    "\n",
    "   Multiprocessing: Processes are isolated from each other, which means that they have separate memory spaces. This isolation can improve fault tolerance, as issues in one process are less likely to affect others.\n",
    "\n",
    "   Multithreading: Threads within the same process share the same memory space, which can lead to potential data corruption or race conditions if not properly synchronized."
   ]
  },
  {
   "cell_type": "markdown",
   "id": "3cf5d509-c5e5-4025-8793-f2fbe5f08186",
   "metadata": {},
   "source": []
  },
  {
   "cell_type": "markdown",
   "id": "c4d2fce4-e737-4145-a9b0-0d3eaf8be804",
   "metadata": {},
   "source": [
    "Q3. Write a python code to create a process using the multiprocessing module."
   ]
  },
  {
   "cell_type": "code",
   "execution_count": 1,
   "id": "6f804238-4aa7-441b-8f68-00fb8e76f028",
   "metadata": {},
   "outputs": [
    {
     "name": "stdout",
     "output_type": "stream",
     "text": [
      "Worker process is running\n",
      "Main program continues\n"
     ]
    }
   ],
   "source": [
    "import multiprocessing\n",
    "\n",
    "# Function to be executed by the process\n",
    "def worker_function():\n",
    "    print(\"Worker process is running\")\n",
    "\n",
    "if __name__ == \"__main__\":\n",
    "    # Create a multiprocessing Process object\n",
    "    process = multiprocessing.Process(target=worker_function)\n",
    "\n",
    "    # Start the process\n",
    "    process.start()\n",
    "\n",
    "    # Wait for the process to finish (optional)\n",
    "    process.join()\n",
    "\n",
    "    print(\"Main program continues\")"
   ]
  },
  {
   "cell_type": "code",
   "execution_count": null,
   "id": "df6da6b2-8e81-4c94-b702-2ff67a46a8b2",
   "metadata": {},
   "outputs": [],
   "source": []
  },
  {
   "cell_type": "markdown",
   "id": "11221813-8f99-4fc7-9613-e33739649a0c",
   "metadata": {},
   "source": [
    "Q4. What is a multiprocessing pool in python? Why is it used?"
   ]
  },
  {
   "cell_type": "markdown",
   "id": "dc39755b-a38f-40d3-a3f0-a3930352a4bf",
   "metadata": {},
   "source": [
    "Ans. A multiprocessing pool in Python, specifically in the `multiprocessing` module, is a high-level abstraction that provides a convenient way to manage and distribute parallelizable tasks across multiple processes. It simplifies the process of parallelizing tasks by allowing you to create a pool of worker processes that can execute functions or methods concurrently. Multiprocessing pools are particularly useful for CPU-bound tasks that can benefit from parallelism.\n",
    "\n",
    "Here's why multiprocessing pools are used:\n",
    "\n",
    "(1) Parallel Execution: Multiprocessing pools allow you to parallelize the execution of a function across multiple processes. Each process can execute the same function with different input data concurrently, taking full advantage of multi-core processors and achieving parallelism.\n",
    "\n",
    "(2) Simplified Parallelism: They abstract the complexity of creating and managing multiple processes manually. You don't need to worry about process creation, communication, or synchronization; the pool handles these details for you.\n",
    "\n",
    "(3) Task Distribution: You can submit multiple tasks to the pool, and the pool distributes the tasks among the available worker processes, managing the workload efficiently.\n",
    "\n",
    "(4) Result Gathering: Multiprocessing pools provide methods for collecting the results of the parallelized tasks, making it easy to retrieve the output generated by each worker process.\n",
    "\n",
    "(5) Resource Management: Pools allow you to control the number of worker processes in use, which can help manage resource utilization and prevent excessive parallelism, especially on systems with limited resources.\n",
    "\n",
    "(6) Load Balancing: The pool automatically balances the workload among worker processes, ensuring that each process receives a roughly equal share of the tasks, which helps in efficient resource utilization."
   ]
  },
  {
   "cell_type": "code",
   "execution_count": null,
   "id": "edf383a5-7d4c-41ed-b9e3-63289a456670",
   "metadata": {},
   "outputs": [],
   "source": []
  },
  {
   "cell_type": "markdown",
   "id": "4f3a4527-c5df-427b-880a-e7e7d6b648e7",
   "metadata": {},
   "source": [
    "Q5. How can we create a pool of worker processes in python using the multiprocessing module?"
   ]
  },
  {
   "cell_type": "markdown",
   "id": "9a1aae26-52e8-49f6-b1bc-7f738f63a0cb",
   "metadata": {},
   "source": [
    "Ans. You can create a pool of worker processes in Python using the `multiprocessing` module by following these steps:\n",
    "\n",
    "1. Import the `multiprocessing` module.\n",
    "2. Create a `multiprocessing.Pool` object with the desired number of worker processes.\n",
    "3. Submit tasks to the pool for parallel execution.\n",
    "4. Close the pool to prevent further task submission.\n",
    "5. Use the `join()` method to wait for all tasks to complete (optional)."
   ]
  },
  {
   "cell_type": "code",
   "execution_count": 2,
   "id": "4911c4ea-a19b-4de9-bacb-774ea6dc3073",
   "metadata": {},
   "outputs": [
    {
     "name": "stdout",
     "output_type": "stream",
     "text": [
      "Results: [1, 4, 9, 16, 25]\n"
     ]
    }
   ],
   "source": [
    "import multiprocessing\n",
    "\n",
    "# Function to be executed by worker processes\n",
    "def square(x):\n",
    "    return x * x\n",
    "\n",
    "if __name__ == \"__main__\":\n",
    "    # Step 2: Create a multiprocessing pool with 4 worker processes\n",
    "    pool = multiprocessing.Pool(processes=4)\n",
    "\n",
    "    # Input data (list of numbers)\n",
    "    numbers = [1, 2, 3, 4, 5]\n",
    "\n",
    "    # Step 3: Submit tasks to the pool for parallel execution\n",
    "    results = pool.map(square, numbers)\n",
    "\n",
    "    # Step 4: Close the pool (no more task submission allowed)\n",
    "    pool.close()\n",
    "\n",
    "    # Step 5: Wait for all tasks to complete (optional)\n",
    "    pool.join()\n",
    "\n",
    "    # Print the results\n",
    "    print(\"Results:\", results)\n"
   ]
  },
  {
   "cell_type": "code",
   "execution_count": null,
   "id": "5d0ece20-f3b0-4bad-8613-95295d8b8399",
   "metadata": {},
   "outputs": [],
   "source": []
  },
  {
   "cell_type": "markdown",
   "id": "a5d59c81-f698-4ce7-a330-d95675e92715",
   "metadata": {},
   "source": [
    "Q6. Write a python program to create 4 processes, each process should print a different number using the multiprocessing module in python."
   ]
  },
  {
   "cell_type": "code",
   "execution_count": 3,
   "id": "f619d694-d825-4344-9dde-3c274a47b1ee",
   "metadata": {},
   "outputs": [
    {
     "name": "stdout",
     "output_type": "stream",
     "text": [
      "Process 1: 1Process 2: 2Process 3: 3Process 4: 4\n",
      "\n",
      "\n",
      "\n"
     ]
    }
   ],
   "source": [
    "import multiprocessing\n",
    "\n",
    "# Function to print a number\n",
    "def print_number(number):\n",
    "    print(f\"Process {number}: {number}\")\n",
    "\n",
    "if __name__ == \"__main__\":\n",
    "    # Create a list of numbers (1 to 4)\n",
    "    numbers = [1, 2, 3, 4]\n",
    "\n",
    "    # Create a pool of 4 processes\n",
    "    pool = multiprocessing.Pool(processes=4)\n",
    "\n",
    "    # Use the pool to map the print_number function to the numbers\n",
    "    pool.map(print_number, numbers)\n",
    "\n",
    "    # Close the pool\n",
    "    pool.close()\n",
    "\n",
    "    # Wait for all processes to finish (optional)\n",
    "    pool.join()\n"
   ]
  },
  {
   "cell_type": "code",
   "execution_count": null,
   "id": "5b7de77c-bb25-432f-8d32-3a3110511d44",
   "metadata": {},
   "outputs": [],
   "source": []
  }
 ],
 "metadata": {
  "kernelspec": {
   "display_name": "Python 3 (ipykernel)",
   "language": "python",
   "name": "python3"
  },
  "language_info": {
   "codemirror_mode": {
    "name": "ipython",
    "version": 3
   },
   "file_extension": ".py",
   "mimetype": "text/x-python",
   "name": "python",
   "nbconvert_exporter": "python",
   "pygments_lexer": "ipython3",
   "version": "3.10.8"
  }
 },
 "nbformat": 4,
 "nbformat_minor": 5
}
