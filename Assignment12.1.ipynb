{
 "cells": [
  {
   "cell_type": "markdown",
   "id": "d7f805ac-ed0a-4936-872d-46a9ab41e4be",
   "metadata": {},
   "source": [
    "Q1. Calculate the 95% confidence interval for a sample of data with a mean of 50 and a standard deviation of 5 using Python. Interpret the results."
   ]
  },
  {
   "cell_type": "code",
   "execution_count": 1,
   "id": "a04a1746-f7ff-4ccc-b7af-0f959d197ef6",
   "metadata": {},
   "outputs": [
    {
     "name": "stdout",
     "output_type": "stream",
     "text": [
      "95% Confidence Interval: (48.13, 51.87)\n"
     ]
    }
   ],
   "source": [
    "import scipy.stats as stats\n",
    "\n",
    "sample_mean = 50\n",
    "sample_stddev = 5\n",
    "confidence_level = 0.95\n",
    "sample_size = 30  \n",
    "standard_error = sample_stddev / (sample_size**0.5)\n",
    "margin_of_error = stats.t.ppf((1 + confidence_level) / 2, sample_size - 1) * standard_error\n",
    "\n",
    "# Calculate the confidence interval\n",
    "lower_bound = sample_mean - margin_of_error\n",
    "upper_bound = sample_mean + margin_of_error\n",
    "\n",
    "print(f\"95% Confidence Interval: ({lower_bound:.2f}, {upper_bound:.2f})\")"
   ]
  },
  {
   "cell_type": "markdown",
   "id": "79c8ef72-48c2-45f9-a614-de712ea8c878",
   "metadata": {},
   "source": [
    "You can interpret the results as follows: \"We are 95% confident that the true population mean lies within the interval (lower_bound, upper_bound).\" In other words, you expect the true population mean to be within this range with 95% confidence."
   ]
  },
  {
   "cell_type": "code",
   "execution_count": null,
   "id": "62be12b8-a8d6-445c-af00-6580e70b6733",
   "metadata": {},
   "outputs": [],
   "source": []
  },
  {
   "cell_type": "markdown",
   "id": "1d916e37-b716-499e-9624-41fcdf2ad0fe",
   "metadata": {},
   "source": [
    "Q2. Conduct a chi-square goodness of fit test to determine if the distribution of colors of M&Ms in a bag matches the expected distribution of 20% blue, 20% orange, 20% green, 10% yellow, 10% red, and 20% brown. Use Python to perform the test with a significance level of 0.05."
   ]
  },
  {
   "cell_type": "code",
   "execution_count": 2,
   "id": "ec1fddb0-f43f-4d4b-9241-cb9beb69bc2c",
   "metadata": {},
   "outputs": [
    {
     "name": "stdout",
     "output_type": "stream",
     "text": [
      "Fail to reject the null hypothesis: The distribution of M&M's colors matches the expected distribution.\n",
      "Chi-squared statistic: 1.35\n",
      "P-value: 0.9299\n",
      "Degrees of freedom: 5\n"
     ]
    }
   ],
   "source": [
    "import scipy.stats as stats\n",
    "import numpy as np\n",
    "\n",
    "# Observed frequencies (counts of each color in the bag)\n",
    "observed_frequencies = np.array([25, 22, 18, 11, 12, 24])  # Replace with your actual data\n",
    "\n",
    "# Expected proportions (expected distribution)\n",
    "expected_proportions = np.array([0.20, 0.20, 0.20, 0.10, 0.10, 0.20])\n",
    "\n",
    "# Calculate the expected frequencies based on the expected proportions\n",
    "total_count = sum(observed_frequencies)\n",
    "expected_frequencies = total_count * expected_proportions\n",
    "\n",
    "# Perform the chi-square goodness of fit test\n",
    "chi2, p = stats.chisquare(f_obs=observed_frequencies, f_exp=expected_frequencies)\n",
    "\n",
    "# Degrees of freedom (df) in this test is (number of categories - 1)\n",
    "df = len(observed_frequencies) - 1\n",
    "\n",
    "# Significance level\n",
    "alpha = 0.05\n",
    "\n",
    "# Determine whether to reject the null hypothesis\n",
    "if p < alpha:\n",
    "    print(\"Reject the null hypothesis: The distribution of M&M's colors does not match the expected distribution.\")\n",
    "else:\n",
    "    print(\"Fail to reject the null hypothesis: The distribution of M&M's colors matches the expected distribution.\")\n",
    "\n",
    "print(f\"Chi-squared statistic: {chi2:.2f}\")\n",
    "print(f\"P-value: {p:.4f}\")\n",
    "print(f\"Degrees of freedom: {df}\")"
   ]
  },
  {
   "cell_type": "markdown",
   "id": "e7c6ec78-89f3-4990-b5a8-e787cc949b4e",
   "metadata": {},
   "source": []
  },
  {
   "cell_type": "markdown",
   "id": "f1ec75d8-6bf5-4286-a849-a826ecda598d",
   "metadata": {},
   "source": [
    "Q3. Use Python to calculate the chi-square statistic and p-value for a contingency table with the following \n",
    "data:\n",
    "\n",
    "           Group A  Group B\n",
    "Outcome 1    20       15\n",
    "\n",
    "Outcome 2    10       25\n",
    "\n",
    "Outcome 3    15       20\n",
    "\n",
    "Interpret the results of the test."
   ]
  },
  {
   "cell_type": "code",
   "execution_count": 3,
   "id": "4aea07bc-dfff-4e9a-a149-4df6bbaae375",
   "metadata": {},
   "outputs": [
    {
     "name": "stdout",
     "output_type": "stream",
     "text": [
      "Fail to reject the null hypothesis: There is no significant association between the groups and outcomes.\n",
      "Chi-squared statistic: 5.83\n",
      "P-value: 0.0541\n",
      "Degrees of freedom: 2\n",
      "Expected frequencies:\n",
      "[[15. 20.]\n",
      " [15. 20.]\n",
      " [15. 20.]]\n"
     ]
    }
   ],
   "source": [
    "import scipy.stats as stats\n",
    "\n",
    "# Create the contingency table as a 2D NumPy array\n",
    "contingency_table = [[20, 15], [10, 25], [15, 20]]\n",
    "\n",
    "# Perform the chi-squared test of independence\n",
    "chi2, p, dof, expected = stats.chi2_contingency(contingency_table)\n",
    "\n",
    "# Degrees of freedom (df) in this test\n",
    "df = (len(contingency_table) - 1) * (len(contingency_table[0]) - 1)\n",
    "\n",
    "# Significance level\n",
    "alpha = 0.05\n",
    "\n",
    "# Determine whether to reject the null hypothesis\n",
    "if p < alpha:\n",
    "    print(\"Reject the null hypothesis: There is a significant association between the groups and outcomes.\")\n",
    "else:\n",
    "    print(\"Fail to reject the null hypothesis: There is no significant association between the groups and outcomes.\")\n",
    "\n",
    "print(f\"Chi-squared statistic: {chi2:.2f}\")\n",
    "print(f\"P-value: {p:.4f}\")\n",
    "print(f\"Degrees of freedom: {df}\")\n",
    "print(\"Expected frequencies:\")\n",
    "print(expected)"
   ]
  },
  {
   "cell_type": "markdown",
   "id": "0c02c12b-b5ea-4a75-b07f-1fce76fbae69",
   "metadata": {},
   "source": []
  },
  {
   "cell_type": "markdown",
   "id": "3e3944a0-51a9-4225-b9e5-287a97d428c3",
   "metadata": {},
   "source": [
    "Q4. A study of the prevalence of smoking in a population of 500 individuals found that 60 individuals smoked. Use Python to calculate the 95% confidence interval for the true proportion of individuals in the population who smoke."
   ]
  },
  {
   "cell_type": "code",
   "execution_count": 5,
   "id": "eb11dbc0-f252-47d4-abaa-f90c50b383f6",
   "metadata": {},
   "outputs": [
    {
     "name": "stdout",
     "output_type": "stream",
     "text": [
      "95% Confidence Interval: (0.0915, 0.1485)\n"
     ]
    }
   ],
   "source": [
    "import scipy.stats as stats\n",
    "import math\n",
    "\n",
    "n = 500\n",
    "x = 60\n",
    "sample_proportion = x / n\n",
    "confidence_level = 0.95\n",
    "standard_error = math.sqrt((sample_proportion * (1 - sample_proportion)) / n)\n",
    "z = stats.norm.ppf(1 - (1 - confidence_level) / 2)  \n",
    "margin_of_error = z * standard_error\n",
    "\n",
    "# Calculate the confidence interval\n",
    "lower_bound = sample_proportion - margin_of_error\n",
    "upper_bound = sample_proportion + margin_of_error\n",
    "\n",
    "print(f\"95% Confidence Interval: ({lower_bound:.4f}, {upper_bound:.4f})\")"
   ]
  },
  {
   "cell_type": "markdown",
   "id": "88b18d99-fba4-4c84-b3de-1262b89f704d",
   "metadata": {},
   "source": [
    "Interpreting the results:\n",
    "You can interpret the results as follows: \"We are 95% confident that the true proportion of individuals in the population who smoke is within the interval (lower_bound, upper_bound).\" In other words, you expect the true population proportion to be within this range with 95% confidence."
   ]
  },
  {
   "cell_type": "code",
   "execution_count": null,
   "id": "ade4a8cb-e972-426f-b117-8436bc181523",
   "metadata": {},
   "outputs": [],
   "source": []
  },
  {
   "cell_type": "markdown",
   "id": "b5f281ee-07a4-44fb-9de4-377b0b48c1c9",
   "metadata": {},
   "source": [
    "Q5. Calculate the 90% confidence interval for a sample of data with a mean of 75 and a standard deviation of 12 using Python. Interpret the results."
   ]
  },
  {
   "cell_type": "code",
   "execution_count": 6,
   "id": "117576c8-278e-4180-96b4-55e6c6212ac4",
   "metadata": {},
   "outputs": [
    {
     "name": "stdout",
     "output_type": "stream",
     "text": [
      "90% Confidence Interval: (71.28, 78.72)\n"
     ]
    }
   ],
   "source": [
    "import scipy.stats as stats\n",
    "\n",
    "sample_mean = 75\n",
    "sample_stddev = 12\n",
    "confidence_level = 0.90\n",
    "sample_size = 30 \n",
    "\n",
    "standard_error = sample_stddev / (sample_size**0.5)\n",
    "margin_of_error = stats.t.ppf((1 + confidence_level) / 2, sample_size - 1) * standard_error\n",
    "\n",
    "# Calculate the confidence interval\n",
    "lower_bound = sample_mean - margin_of_error\n",
    "upper_bound = sample_mean + margin_of_error\n",
    "\n",
    "print(f\"90% Confidence Interval: ({lower_bound:.2f}, {upper_bound:.2f})\")"
   ]
  },
  {
   "cell_type": "markdown",
   "id": "2501b924-175a-4a82-9494-f8415c4a6800",
   "metadata": {},
   "source": []
  },
  {
   "cell_type": "markdown",
   "id": "655401b3-15f2-41fc-8fe0-bd688b7a7fb3",
   "metadata": {},
   "source": [
    "Q6. Use Python to plot the chi-square distribution with 10 degrees of freedom. Label the axes and shade the area corresponding to a chi-square statistic of 15."
   ]
  },
  {
   "cell_type": "code",
   "execution_count": 7,
   "id": "2e790123-302c-4339-acd9-2316ca3a680d",
   "metadata": {},
   "outputs": [
    {
     "data": {
      "image/png": "[encoded data removed]",
      "text/plain": [
       "<Figure size 1000x600 with 1 Axes>"
      ]
     },
     "metadata": {},
     "output_type": "display_data"
    }
   ],
   "source": [
    "import matplotlib.pyplot as plt\n",
    "import numpy as np\n",
    "import scipy.stats as stats\n",
    "\n",
    "df = 10\n",
    "x = np.linspace(0, 30, 1000)\n",
    "pdf = stats.chi2.pdf(x, df)\n",
    "plt.figure(figsize=(10, 6))\n",
    "plt.plot(x, pdf, label=f'Chi-Square Distribution (df={df})', color='b')\n",
    "\n",
    "shade_x = np.linspace(0, 15, 1000)\n",
    "shade_y = stats.chi2.pdf(shade_x, df)\n",
    "plt.fill_between(shade_x, shade_y, color='orange', alpha=0.5, label='Chi-Square Statistic of 15')\n",
    "\n",
    "plt.xlabel('Chi-Square Value')\n",
    "plt.ylabel('Probability Density')\n",
    "plt.title('Chi-Square Distribution with Shaded Area (df=10)')\n",
    "plt.legend()\n",
    "\n",
    "plt.show()"
   ]
  },
  {
   "cell_type": "markdown",
   "id": "526c12b8-861f-4ccb-8d90-6af65bcbd302",
   "metadata": {},
   "source": []
  },
  {
   "cell_type": "markdown",
   "id": "20e9b8c5-b87f-4c01-b1f0-c5158b6033a2",
   "metadata": {},
   "source": [
    "Q7. A random sample of 1000 people was asked if they preferred Coke or Pepsi. Of the sample, 520 preferred Coke. Calculate a 99% confidence interval for the true proportion of people in the population who prefer Coke."
   ]
  },
  {
   "cell_type": "code",
   "execution_count": 8,
   "id": "e15206a6-6bef-49c0-b824-539d5901c3ec",
   "metadata": {},
   "outputs": [
    {
     "name": "stdout",
     "output_type": "stream",
     "text": [
      "99% Confidence Interval: (0.4793, 0.5607)\n"
     ]
    }
   ],
   "source": [
    "import scipy.stats as stats\n",
    "import math\n",
    "\n",
    "n = 1000\n",
    "x = 520\n",
    "\n",
    "sample_proportion = x / n\n",
    "confidence_level = 0.99\n",
    "standard_error = math.sqrt((sample_proportion * (1 - sample_proportion)) / n)\n",
    "z = stats.norm.ppf(1 - (1 - confidence_level) / 2)  # Z-score for a 99% confidence interval\n",
    "margin_of_error = z * standard_error\n",
    "\n",
    "# Calculate the confidence interval\n",
    "lower_bound = sample_proportion - margin_of_error\n",
    "upper_bound = sample_proportion + margin_of_error\n",
    "\n",
    "print(f\"99% Confidence Interval: ({lower_bound:.4f}, {upper_bound:.4f})\")"
   ]
  },
  {
   "cell_type": "markdown",
   "id": "eabd3cdd-b8d0-42b0-90f1-e0263dd2b35a",
   "metadata": {},
   "source": []
  },
  {
   "cell_type": "markdown",
   "id": "bfc9d3a7-3962-45ec-a51b-4abe32a3b4d7",
   "metadata": {},
   "source": [
    "Q8. A researcher hypothesizes that a coin is biased towards tails. They flip the coin 100 times and observe 45 tails. Conduct a chi-square goodness of fit test to determine if the observed frequencies match the expected frequencies of a fair coin. Use a significance level of 0.05"
   ]
  },
  {
   "cell_type": "code",
   "execution_count": 9,
   "id": "c6ceebe5-c236-412c-b29a-b8f4f840725f",
   "metadata": {},
   "outputs": [
    {
     "name": "stdout",
     "output_type": "stream",
     "text": [
      "Fail to reject the null hypothesis: There is no evidence that the coin is biased towards tails.\n",
      "Chi-squared statistic: 1.00\n",
      "P-value: 0.3173\n",
      "Degrees of freedom: 1\n"
     ]
    }
   ],
   "source": [
    "import scipy.stats as stats\n",
    "\n",
    "observed_tails = 45\n",
    "observed_heads = 100 - observed_tails \n",
    "expected_tails = 0.5 * 100\n",
    "expected_heads = 100 - expected_tails\n",
    "\n",
    "observed_frequencies = [observed_heads, observed_tails]\n",
    "expected_frequencies = [expected_heads, expected_tails]\n",
    "\n",
    "chi2, p = stats.chisquare(f_obs=observed_frequencies, f_exp=expected_frequencies)\n",
    "\n",
    "df = len(observed_frequencies) - 1\n",
    "alpha = 0.05\n",
    "\n",
    "if p < alpha:\n",
    "    print(\"Reject the null hypothesis: The coin is biased towards tails.\")\n",
    "else:\n",
    "    print(\"Fail to reject the null hypothesis: There is no evidence that the coin is biased towards tails.\")\n",
    "\n",
    "print(f\"Chi-squared statistic: {chi2:.2f}\")\n",
    "print(f\"P-value: {p:.4f}\")\n",
    "print(f\"Degrees of freedom: {df}\")"
   ]
  },
  {
   "cell_type": "markdown",
   "id": "0b58eaec-7a2a-4b19-a00f-0373c26d6cc8",
   "metadata": {},
   "source": []
  },
  {
   "cell_type": "markdown",
   "id": "8ea6fcbd-17ff-41a6-b5c6-7834393fbfaa",
   "metadata": {},
   "source": [
    "Q9. A study was conducted to determine if there is an association between smoking status (smoker or \n",
    "non-smoker) and lung cancer diagnosis (yes or no). The results are shown in the contingency table below. \n",
    "Conduct a chi-square test for independence to determine if there is a significant association between \n",
    "smoking status and lung cancer diagnosis.\n",
    "\n",
    "             Lung Cancer: Yes    Lung Cancer: No\n",
    "Smoker          60                 140\n",
    "Non-smoker      30                 170\n",
    "\n",
    "Use a significance level of 0.05."
   ]
  },
  {
   "cell_type": "markdown",
   "id": "764bfcca-6fd6-4341-943f-6440b0e55fda",
   "metadata": {},
   "source": []
  },
  {
   "cell_type": "markdown",
   "id": "8ba92ed3-868e-4e5f-836d-39c7adf11d0e",
   "metadata": {},
   "source": [
    "Q10. A study was conducted to determine if the proportion of people who prefer milk chocolate, dark \n",
    "chocolate, or white chocolate is different in the U.S. versus the U.K. A random sample of 500 people from \n",
    "the U.S. and a random sample of 500 people from the U.K. were surveyed. The results are shown in the \n",
    "contingency table below. Conduct a chi-square test for independence to determine if there is a significant \n",
    "association between chocolate preference and country of origin.\n",
    "\n",
    "              Milk Chocolate Dark Chocolate White Chocolat\n",
    "U.S. (n=500)     200            150            150\n",
    "U.K. (n=500)     225            175            100\n",
    "\n",
    "Use a significance level of 0.01."
   ]
  },
  {
   "cell_type": "code",
   "execution_count": 10,
   "id": "d84ea9b2-d2c7-4c17-aec5-294cc06dd569",
   "metadata": {},
   "outputs": [
    {
     "name": "stdout",
     "output_type": "stream",
     "text": [
      "Reject the null hypothesis: There is a significant association between smoking status and lung cancer diagnosis.\n",
      "Chi-squared statistic: 12.06\n",
      "P-value: 0.0005\n",
      "Degrees of freedom: 1\n"
     ]
    }
   ],
   "source": [
    "import scipy.stats as stats\n",
    "\n",
    "observed = [[60, 140], [30, 170]]\n",
    "chi2, p, dof, expected = stats.chi2_contingency(observed)\n",
    "alpha = 0.05\n",
    "df = (len(observed) - 1) * (len(observed[0]) - 1)\n",
    "\n",
    "if p < alpha:\n",
    "    print(\"Reject the null hypothesis: There is a significant association between smoking status and lung cancer diagnosis.\")\n",
    "else:\n",
    "    print(\"Fail to reject the null hypothesis: There is no significant association between smoking status and lung cancer diagnosis.\")\n",
    "\n",
    "print(f\"Chi-squared statistic: {chi2:.2f}\")\n",
    "print(f\"P-value: {p:.4f}\")\n",
    "print(f\"Degrees of freedom: {df}\")"
   ]
  },
  {
   "cell_type": "markdown",
   "id": "1a76013c-7538-48d9-8b6c-99e8ef588e84",
   "metadata": {},
   "source": []
  },
  {
   "cell_type": "markdown",
   "id": "d5e9d289-6c3d-4c14-82f5-dddbd3124dbc",
   "metadata": {},
   "source": [
    "Q11. A random sample of 30 people was selected from a population with an unknown mean and standard  deviation. The sample mean was found to be 72 and the sample standard deviation was found to be 10. Conduct a hypothesis test to determine if the population mean is significantly different from 70. Use a significance level of 0.05."
   ]
  },
  {
   "cell_type": "code",
   "execution_count": 11,
   "id": "4d0badf5-acfa-44eb-9552-a292ec360354",
   "metadata": {},
   "outputs": [
    {
     "name": "stdout",
     "output_type": "stream",
     "text": [
      "t-statistic: 1.0954\n",
      "Critical t-values: ±2.0452\n",
      "P-value: 0.2823\n",
      "Fail to reject the null hypothesis: There is no significant difference in the population mean.\n"
     ]
    }
   ],
   "source": [
    "import scipy.stats as stats\n",
    "\n",
    "sample_mean = 72\n",
    "sample_stddev = 10\n",
    "sample_size = 30\n",
    "\n",
    "population_mean_null = 70\n",
    "\n",
    "t = (sample_mean - population_mean_null) / (sample_stddev / (sample_size**0.5))\n",
    "df = sample_size - 1\n",
    "alpha = 0.05\n",
    "\n",
    "critical_t = stats.t.ppf(1 - alpha / 2, df)\n",
    "\n",
    "p_value = 2 * (1 - stats.t.cdf(abs(t), df))\n",
    "\n",
    "print(f\"t-statistic: {t:.4f}\")\n",
    "print(f\"Critical t-values: ±{critical_t:.4f}\")\n",
    "print(f\"P-value: {p_value:.4f}\")\n",
    "\n",
    "if p_value < alpha:\n",
    "    print(\"Reject the null hypothesis: The population mean is significantly different from 70.\")\n",
    "else:\n",
    "    print(\"Fail to reject the null hypothesis: There is no significant difference in the population mean.\")"
   ]
  },
  {
   "cell_type": "markdown",
   "id": "c796f543-83fa-4e62-84b1-4dc96533e2ed",
   "metadata": {},
   "source": []
  }
 ],
 "metadata": {
  "kernelspec": {
   "display_name": "Python 3 (ipykernel)",
   "language": "python",
   "name": "python3"
  },
  "language_info": {
   "codemirror_mode": {
    "name": "ipython",
    "version": 3
   },
   "file_extension": ".py",
   "mimetype": "text/x-python",
   "name": "python",
   "nbconvert_exporter": "python",
   "pygments_lexer": "ipython3",
   "version": "3.10.8"
  }
 },
 "nbformat": 4,
 "nbformat_minor": 5
}
