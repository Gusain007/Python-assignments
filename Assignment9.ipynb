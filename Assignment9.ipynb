{
 "cells": [
  {
   "cell_type": "markdown",
   "id": "b2f1cc0c-b010-4d47-90bf-55e3bbae1029",
   "metadata": {},
   "source": [
    "Q1. Create a Pandas Series that contains the following data: 4, 8, 15, 16, 23, and 42. Then, print the series."
   ]
  },
  {
   "cell_type": "code",
   "execution_count": 3,
   "id": "c75ba234-6fa4-4857-b507-1948596de671",
   "metadata": {},
   "outputs": [
    {
     "name": "stdout",
     "output_type": "stream",
     "text": [
      "0     4\n",
      "1     8\n",
      "2    15\n",
      "3    16\n",
      "4    23\n",
      "5    42\n",
      "dtype: int64\n"
     ]
    }
   ],
   "source": [
    "import pandas as pd\n",
    "data = [4, 8, 15, 16, 23, 42]\n",
    "series = pd.Series(data)\n",
    "\n",
    "print(series)"
   ]
  },
  {
   "cell_type": "code",
   "execution_count": null,
   "id": "19565e1a-978a-494c-afb4-8467d04266e6",
   "metadata": {},
   "outputs": [],
   "source": []
  },
  {
   "cell_type": "markdown",
   "id": "cf4ae667-79da-4c9e-a46b-772599692fe2",
   "metadata": {},
   "source": [
    "Q2. Create a variable of list type containing 10 elements in it, and apply pandas Series function on the\n",
    "variable print it."
   ]
  },
  {
   "cell_type": "code",
   "execution_count": 10,
   "id": "04871a40-8135-4e49-943e-6261b84b3c03",
   "metadata": {},
   "outputs": [
    {
     "name": "stdout",
     "output_type": "stream",
     "text": [
      "0       1\n",
      "1       2\n",
      "2       3\n",
      "3       4\n",
      "4    Five\n",
      "5       6\n",
      "6       7\n",
      "7       8\n",
      "8       9\n",
      "9     Ten\n",
      "dtype: object\n"
     ]
    }
   ],
   "source": [
    "import pandas as pd\n",
    "variable = [1,2,3,4,'Five',6,7,8,9,'Ten']\n",
    "series = pd.Series(variable)\n",
    "\n",
    "print(series)"
   ]
  },
  {
   "cell_type": "code",
   "execution_count": null,
   "id": "976dce7c-0a3d-4f1a-ba63-91cba91e6087",
   "metadata": {},
   "outputs": [],
   "source": []
  },
  {
   "cell_type": "markdown",
   "id": "46f0db53-c5be-4724-afae-c60fa1223000",
   "metadata": {},
   "source": [
    "Q3. Create a Pandas DataFrame that contains the following data:\n",
    "Name           Age            Gender\n",
    "Alice          25             Female\n",
    "Bob            30             Male\n",
    "Claire         27             Female\n",
    "Then, print the DataFrame."
   ]
  },
  {
   "cell_type": "code",
   "execution_count": 10,
   "id": "f6e6e5dd-8d9f-42bb-8b26-d81e8dd6beeb",
   "metadata": {},
   "outputs": [
    {
     "name": "stdout",
     "output_type": "stream",
     "text": [
      "+--------+-------+----------+\n",
      "| Name   |   Age | Gender   |\n",
      "+========+=======+==========+\n",
      "| Alice  |    25 | Female   |\n",
      "+--------+-------+----------+\n",
      "| Bob    |    30 | Male     |\n",
      "+--------+-------+----------+\n",
      "| Claire |    27 | Female   |\n",
      "+--------+-------+----------+\n"
     ]
    }
   ],
   "source": [
    "import pandas as pd\n",
    "from tabulate import tabulate\n",
    "data = {\n",
    "    'Name' : ['Alice', 'Bob', 'Claire'],\n",
    "    'Age' : [25, 30, 27],\n",
    "    'Gender' : ['Female', 'Male', 'Female']\n",
    "}\n",
    "\n",
    "df = pd.DataFrame(data)\n",
    "\n",
    "table = tabulate(df, headers='keys', tablefmt='grid', showindex = False)\n",
    "\n",
    "print(table)"
   ]
  },
  {
   "cell_type": "markdown",
   "id": "f43d1ceb-132f-4725-8e5a-df3c0f4e470f",
   "metadata": {},
   "source": [
    "Q4. What is ‘DataFrame’ in pandas and how is it different from pandas.series? Explain with an example."
   ]
  },
  {
   "cell_type": "markdown",
   "id": "5541915b-9656-4610-8063-090ff2808561",
   "metadata": {},
   "source": [
    "Ans. In Pandas, a DataFrame is a two-dimensional, size-mutable, and heterogeneous data structure that is used to store and manipulate tabular data. It is one of the most commonly used data structures in Pandas and can be thought of as a table with rows and columns, where each column can have a different data type.\n",
    "\n",
    "The main difference is that a Series is a one-dimensional data structure with a single column of data, while a DataFrame is a two-dimensional data structure that can hold multiple columns, making it suitable for tabular data with different attributes. You can perform operations on both Series and DataFrames, but DataFrames are generally used for more complex data analysis tasks involving multiple variables."
   ]
  },
  {
   "cell_type": "code",
   "execution_count": 11,
   "id": "77cf9ec1-cca3-4b0a-b9d2-45896d82bd3f",
   "metadata": {},
   "outputs": [
    {
     "name": "stdout",
     "output_type": "stream",
     "text": [
      "Pandas Series:\n",
      "0    10\n",
      "1    20\n",
      "2    30\n",
      "3    40\n",
      "4    50\n",
      "Name: Numbers, dtype: int64\n",
      "\n",
      "\n",
      "Pandas DataFrame:\n",
      "     Name  Age  Gender\n",
      "0  Shobha   55  Female\n",
      "1   Suman   30  Female\n",
      "2  Saloni   27  Female\n"
     ]
    }
   ],
   "source": [
    "import pandas as pd\n",
    "\n",
    "# Creating a Pandas Series\n",
    "series_data = pd.Series([10, 20, 30, 40, 50], name='Numbers')\n",
    "\n",
    "# Creating a Pandas DataFrame\n",
    "data = {'Name': ['Shobha', 'Suman', 'Saloni'],\n",
    "        'Age': [55, 30, 27],\n",
    "        'Gender': ['Female', 'Female', 'Female']}\n",
    "\n",
    "df = pd.DataFrame(data)\n",
    "\n",
    "print(\"Pandas Series:\")\n",
    "print(series_data)\n",
    "print(\"\\n\")\n",
    "\n",
    "print(\"Pandas DataFrame:\")\n",
    "print(df)"
   ]
  },
  {
   "cell_type": "code",
   "execution_count": null,
   "id": "2cdaf6a3-f0cf-4671-ad86-0b7c2fc30459",
   "metadata": {},
   "outputs": [],
   "source": []
  },
  {
   "cell_type": "markdown",
   "id": "82bf6605-0644-41ff-80c1-38e923583664",
   "metadata": {},
   "source": [
    "Q5. What are some common functions you can use to manipulate data in a Pandas DataFrame? Can you give an example of when you might use one of these functions?"
   ]
  },
  {
   "cell_type": "markdown",
   "id": "d268d181-0f1a-4687-8b1b-1d0c68c5715e",
   "metadata": {},
   "source": [
    "Ans. Pandas provides a wide range of functions and methods to manipulate data in a Pandas DataFrame.\n",
    "\n",
    "1. Selection and Indexing:\n",
    "\n",
    "'df[column_name]' or 'df.column_name' : To select a specific column.\n",
    "'df.loc[row_label]' : To select specific rows or elements by label.\n",
    "'df.iloc[row_index]' : To select specific rows or elements by integer index.\n",
    "\n",
    "2. Filtering and Querying:\n",
    "\n",
    "'df[df['column_name'] > value]' : To filter rows based on a condition.\n",
    "'df.query('condition')': To query the DataFrame using a string expression.\n",
    "\n",
    "3. Sorting:\n",
    "\n",
    "'df.sort_values(by='column_name', ascending=False)': To sort the DataFrame by a specific column.\n",
    "\n",
    "\n",
    "4. Aggregation and Summary Statistics:\n",
    "\n",
    "'df.groupby('column_name').agg({'column_to_aggregate': 'function'})': To group data by a column and apply aggregation functions (e.g., sum, mean, count).\n",
    "\n",
    "\n",
    "5. Merging and Joining:\n",
    "\n",
    "'pd.concat([df1, df2])': To concatenate DataFrames vertically or horizontally.\n",
    "'pd.merge(df1, df2, on='common_column')': To merge DataFrames based on a common column."
   ]
  },
  {
   "cell_type": "code",
   "execution_count": null,
   "id": "f9286683-b8c7-41fa-9b41-d663e5565009",
   "metadata": {},
   "outputs": [],
   "source": []
  },
  {
   "cell_type": "markdown",
   "id": "a919026d-5418-474f-9aef-2302beabd009",
   "metadata": {},
   "source": [
    "Q6. Which of the following is mutable in nature?\n",
    "i) Series, \n",
    "ii) DataFrame, \n",
    "iii) Panel"
   ]
  },
  {
   "cell_type": "markdown",
   "id": "845d810c-e2b0-4d89-a6cf-f946d5a46f6c",
   "metadata": {},
   "source": [
    "Ans. Series is mutable in nature. You can change the values of individual elements within a Pandas Series after it has been created.\n",
    "\n",
    "DataFrame is also mutable. You can modify the values, add or remove columns, and perform various operations to change the structure and content of a DataFrame.\n",
    "\n",
    "Panel is not mutable in nature."
   ]
  },
  {
   "cell_type": "code",
   "execution_count": null,
   "id": "5e44399e-f1eb-451b-a97b-1df299fade1e",
   "metadata": {},
   "outputs": [],
   "source": []
  },
  {
   "cell_type": "markdown",
   "id": "945e59c7-1e4b-4a31-8683-911d1c788a46",
   "metadata": {},
   "source": [
    "Q7. Create a DataFrame using multiple Series. Explain with an example."
   ]
  },
  {
   "cell_type": "code",
   "execution_count": 16,
   "id": "bbf96cba-20a5-437d-b19b-c926289e7481",
   "metadata": {},
   "outputs": [
    {
     "name": "stdout",
     "output_type": "stream",
     "text": [
      "  Name  Age Gender\n",
      "Shobha   55 Female\n",
      " Suman   50 Female\n",
      "Saloni   57 Female\n"
     ]
    }
   ],
   "source": [
    "import pandas as pd\n",
    "\n",
    "# Create multiple Series\n",
    "names = pd.Series(['Shobha', 'Suman', 'Saloni'])\n",
    "ages = pd.Series([55, 50, 57])\n",
    "genders = pd.Series(['Female', 'Female', 'Female'])\n",
    "\n",
    "# Create a DataFrame by combining the Series\n",
    "data = {'Name': names, 'Age': ages, 'Gender': genders}\n",
    "df = pd.DataFrame(data)\n",
    "\n",
    "print(df.to_string(index=False))"
   ]
  },
  {
   "cell_type": "code",
   "execution_count": null,
   "id": "a5b066da-94fe-4558-9b35-7be4157fb79b",
   "metadata": {},
   "outputs": [],
   "source": []
  },
  {
   "cell_type": "code",
   "execution_count": null,
   "id": "6a9d993f-eb99-4e3c-b05d-19a746b6f192",
   "metadata": {},
   "outputs": [],
   "source": []
  },
  {
   "cell_type": "code",
   "execution_count": null,
   "id": "4fcc1540-57bb-414c-ab81-2ce9f669ba4a",
   "metadata": {},
   "outputs": [],
   "source": []
  },
  {
   "cell_type": "code",
   "execution_count": null,
   "id": "b5bfc553-6b92-4fa3-ac47-4bc64906c810",
   "metadata": {},
   "outputs": [],
   "source": []
  },
  {
   "cell_type": "code",
   "execution_count": null,
   "id": "281c95a5-443c-47dd-94b8-54a330db3724",
   "metadata": {},
   "outputs": [],
   "source": []
  },
  {
   "cell_type": "code",
   "execution_count": null,
   "id": "c99cba86-d73f-4f46-80c4-4e2ee01acc0c",
   "metadata": {},
   "outputs": [],
   "source": []
  },
  {
   "cell_type": "code",
   "execution_count": null,
   "id": "f9a4af71-a4e5-4bb5-a303-9950c707aa99",
   "metadata": {},
   "outputs": [],
   "source": []
  },
  {
   "cell_type": "code",
   "execution_count": null,
   "id": "24376825-0ea6-4eee-8eb6-661fb1c4fd14",
   "metadata": {},
   "outputs": [],
   "source": []
  },
  {
   "cell_type": "code",
   "execution_count": null,
   "id": "912f2709-0577-4501-ab1a-43d02effa156",
   "metadata": {},
   "outputs": [],
   "source": []
  },
  {
   "cell_type": "code",
   "execution_count": null,
   "id": "67d55575-b849-4792-a557-4c7ad5869d08",
   "metadata": {},
   "outputs": [],
   "source": []
  },
  {
   "cell_type": "code",
   "execution_count": null,
   "id": "60afe490-0e04-43b9-a486-aba803de151d",
   "metadata": {},
   "outputs": [],
   "source": []
  },
  {
   "cell_type": "code",
   "execution_count": null,
   "id": "a8c94468-56c6-48ca-b226-8dbf47d01ead",
   "metadata": {},
   "outputs": [],
   "source": []
  }
 ],
 "metadata": {
  "kernelspec": {
   "display_name": "Python 3 (ipykernel)",
   "language": "python",
   "name": "python3"
  },
  "language_info": {
   "codemirror_mode": {
    "name": "ipython",
    "version": 3
   },
   "file_extension": ".py",
   "mimetype": "text/x-python",
   "name": "python",
   "nbconvert_exporter": "python",
   "pygments_lexer": "ipython3",
   "version": "3.10.8"
  }
 },
 "nbformat": 4,
 "nbformat_minor": 5
}
